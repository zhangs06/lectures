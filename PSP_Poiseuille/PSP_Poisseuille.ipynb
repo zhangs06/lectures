{
 "cells": [
  {
   "cell_type": "code",
   "execution_count": null,
   "metadata": {
    "collapsed": false
   },
   "outputs": [],
   "source": ["#PSP_Poisseulle.py\nfrom visual import *\nimport numpy as np\n\nscene.background=(1,1,1)\nscene.title = \"\"\n\nl = 5.     \nR = 1.     \nD_P = 40.   \neta = 1.   \n\nangles=arange(1.1*pi,2.1*pi,pi/20.)\nn = 500\nfor i in range(n):\n spring=curve(color=(0,1,1), radius=0.06)\n for phi in angles:\n     spring.append(pos=(l*(float(i)/float(n)-0.55), R*cos(phi), R*sin(phi)))\n\nfor i in range(11):\n  x = 0\n  y = (float(i)/11.-0.5)*2.*R\n  r = np.sqrt(x*x+y*y)\n  if (r < R):\n   arrow(pos=(0,y,x),axis = (D_P * (R*R-r*r)/(eta*l*4.),0,0),\n                       shaftwidth = 0.03, color=(0,0,0))"]
  }
 ],
 "metadata": {
  "kernelspec": {
   "display_name": "Python 3",
   "language": "python",
   "name": "python3"
  },
  "language_info": {
   "codemirror_mode": {
    "name": "ipython",
    "version": 3
   },
   "file_extension": ".py",
   "mimetype": "text/x-python",
   "name": "python",
   "nbconvert_exporter": "python",
   "pygments_lexer": "ipython3",
   "version": "3.4.2"
  }
 },
 "nbformat": 4,
 "nbformat_minor": 0
}