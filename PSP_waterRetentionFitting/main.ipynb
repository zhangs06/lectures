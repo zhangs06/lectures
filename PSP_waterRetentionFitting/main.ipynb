{
 "cells": [
  {
   "cell_type": "code",
   "execution_count": null,
   "metadata": {
    "collapsed": false
   },
   "outputs": [],
   "source": ["#PSP_waterRetentionFitting\nfrom __future__ import print_function, division\ntry: input = raw_input\nexcept: pass\n\nimport numpy as np\nimport matplotlib.pyplot as plt\nfrom PSP_readDataFile import readDataFile\nfrom PSP_Marquardt import *\n\ndef main():\n    # read experimental values\n    myOutput, isFileOk = readDataFile(\"loam.txt\", 1, '\\t', False)\n    if (not isFileOk): \n        print('Wrong file: error reading row nr.', myOutput)\n        return(False)\n    waterPotential = myOutput[:,0]\n    waterContent = myOutput[:,1]\n    \n    # select water retention curve\n    print (CAMPBELL,' Campbell')\n    print (VAN_GENUCHTEN,' van Genuchten')\n    print (RESTRICTED_VG,' van Genuchten with m = 1-1/n restriction')\n    print (IPPISCH_VG,' Ippisch-van Genuchten')\n    print (CAMPBELL_IPPISCH_VG,' Campbell-Ippisch-van Genuchten')\n\n    waterRetentionCurve = 0\n    while (waterRetentionCurve < CAMPBELL) or (waterRetentionCurve > CAMPBELL_IPPISCH_VG):\n        waterRetentionCurve = float(input(\"Choose model type: \"))\n        if (waterRetentionCurve < CAMPBELL) or (waterRetentionCurve > CAMPBELL_IPPISCH_VG):\n            print('wrong choice.')\n  \n    # initialize parameters\n    thetaS = max(waterContent)\n    #thetaR = min(waterContent)\n    thetaR = 0.08\n    air_entry = 1.0\n    Campbell_b = 4.0\n    VG_alpha = 1/air_entry\n    VG_n = 1.5\n    VG_m = 1. - 1./VG_n\n      \n    if (waterRetentionCurve == CAMPBELL):\n        b0 = np.array([thetaS, air_entry, Campbell_b], float)\n        bmin = np.array([thetaS, 0.1, 0.1], float)\n        bmax = np.array([thetaS*1.1, 20., 10.], float)\n    elif (waterRetentionCurve == VAN_GENUCHTEN):\n        b0 = np.array([thetaS, thetaR, VG_alpha, VG_n, VG_m], float)\n        bmin = np.array([thetaS, 0.0, 0.01, 0.01, 0.01], float)\n        bmax = np.array([1.0, thetaR, 10., 10., 1.], float)\n    elif (waterRetentionCurve == RESTRICTED_VG):\n        b0 = np.array([thetaS, thetaR, VG_alpha, VG_n], float)\n        bmin = np.array([thetaS, 0.0, 0.01, 1.], float)\n        bmax = np.array([1, thetaR, 10., 10.], float)\n    elif (waterRetentionCurve == IPPISCH_VG):\n        b0 = np.array([thetaS, thetaR, air_entry, VG_alpha, VG_n], float)\n        bmin = np.array([thetaS, 0.0, 0.1, 0.01, 1.], float)\n        bmax = np.array([1, thetaR, 10., 10., 10.], float)\n    elif (waterRetentionCurve == CAMPBELL_IPPISCH_VG):\n        b0 = np.array([thetaS, thetaR, air_entry, VG_alpha, VG_n], float)\n        bmin = np.array([thetaS, 0.0, 0.1, 0.01, 1.], float)\n        bmax = np.array([1, thetaR, 10., 10., 10.], float)\n   \n    else:\n        print ('wrong choice.')\n        return(False)\n\n    print (\"\\nFitting\")\n    b = Marquardt(waterRetentionCurve, b0, bmin, bmax, waterPotential, waterContent)\n\n    print (\"\\nthetaS = \", b[0])\n    if (waterRetentionCurve == CAMPBELL):\n        print (\"AirEntry = \", b[1])\n        print (\"b = \", b[2])\n    elif (waterRetentionCurve == VAN_GENUCHTEN):\n        print (\"thetaR = \", b[1])\n        print (\"alpha = \", b[2])\n        print (\"n = \", b[3])\n        print (\"m = \", b[4])\n    elif (waterRetentionCurve == RESTRICTED_VG):\n        print (\"thetaR = \", b[1])\n        print (\"alpha = \", b[2])\n        print (\"n = \", b[3])\n    elif (waterRetentionCurve == IPPISCH_VG):\n        print (\"thetaR = \", b[1])\n        print (\"AirEntry = \", b[2])\n        print (\"alpha = \", b[3])\n        print (\"n = \", b[4])\n    elif (waterRetentionCurve == CAMPBELL_IPPISCH_VG):\n        print (\"thetaR = \", b[1])\n        print (\"AirEntry = \", b[2])\n        print (\"alpha = \", b[3])\n        print (\"n = \", b[4])\n\n    myWP = np.logspace(-5, 8, 500)\n    myWC = estimate(waterRetentionCurve, b, myWP)\n    \n    plt.figure(figsize=(10,8))\n    plt.plot(myWP, myWC,'k-')\n    plt.plot(waterPotential, waterContent,'ko')\n\n    plt.xscale('log')\n    plt.xlabel('Water Potential [J kg$^{-1}$]',fontsize=20,labelpad=6)\n    plt.xticks(size='16')\n    plt.ylabel('Water Content [m$^{3}$ m$^{-3}$]',fontsize=20,labelpad=6)\n    plt.tick_params(axis='both', which='major', labelsize=20,pad=8)\n    plt.tick_params(axis='both', which='minor', labelsize=20,pad=8)\n    #plt.savefig('waterRetention.eps')\n    plt.show()\n\nmain()    \n"]
  }
 ],
 "metadata": {
  "kernelspec": {
   "display_name": "Python 3",
   "language": "python",
   "name": "python3"
  },
  "language_info": {
   "codemirror_mode": {
    "name": "ipython",
    "version": 3
   },
   "file_extension": ".py",
   "mimetype": "text/x-python",
   "name": "python",
   "nbconvert_exporter": "python",
   "pygments_lexer": "ipython3",
   "version": "3.4.2"
  }
 },
 "nbformat": 4,
 "nbformat_minor": 0
}