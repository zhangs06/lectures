{
 "cells": [
  {
   "cell_type": "code",
   "execution_count": null,
   "metadata": {
    "collapsed": false
   },
   "outputs": [],
   "source": ["#PSP_Marquardt.py\nfrom __future__ import print_function, division\nimport numpy as np\nfrom math import sqrt\nfrom PSP_waterRetention import *\n\nEPSILON = 0.00001\nMAX_ITERATIONS_NR = 100\n\ndef Marquardt(waterRetentionCurve, v0, vmin, vmax, x, y):\n    n = len(v0)\n    Lambda0 = 0.01\n    vFactor = 2.\n    l = np.array([Lambda0]*n)    # damping parameters\n    v = np.zeros(n, float)\n    for i in range(n): v[i] = v0[i]\n    \n    nrIter = 1\n    maxDiff = 1.0\n    sse = norm(waterRetentionCurve, v0, x, y)\n    \n    while (maxDiff > EPSILON) and (nrIter < MAX_ITERATIONS_NR):  \n        diff = LeastSquares(waterRetentionCurve, l, v, vmin, vmax, x, y)\n        maxDiff = max(abs(diff))\n        v_new = computeNewParameters(v, vmin, vmax, diff, l, vFactor)\n        sse_new = norm(waterRetentionCurve, v_new, x, y)\n        \n        if (sse_new < sse):\n            sse = sse_new\n            for i in range(n): v[i] = v_new[i]\n            l /= vFactor\n        else:\n            l *= vFactor\n        nrIter += 1\n    print (\"iterations nr:\", nrIter)\n    print (\"sum of squared residuals:\", sse)  \n    return(v)\n\n\ndef estimate(waterRetentionCurve, v, Psi):\n    waterContent = np.zeros(len(Psi))\n    if (waterRetentionCurve == CAMPBELL):\n        Campbell(v, Psi, waterContent)\n    elif (waterRetentionCurve == VAN_GENUCHTEN):\n        VanGenuchten(v, Psi, waterContent)\n    elif (waterRetentionCurve == RESTRICTED_VG):\n        VanGenuchtenRestricted(v, Psi, waterContent)\n    elif (waterRetentionCurve == IPPISCH_VG):\n         IppischVanGenuchten(v, Psi, waterContent)\n    elif (waterRetentionCurve == CAMPBELL_IPPISCH_VG):\n         CampbellIppischVanGenuchten(v, Psi, waterContent)\n\n    return(waterContent)    \n\n\ndef computeNewParameters(v, vmin, vmax, diff, l, factor):\n    n = len(v)\n    v_new = np.zeros(n, float)\n    for i in range(n):\n        v_new[i] = v[i] + diff[i]\n        if (v_new[i] > vmax[i]):\n            v_new[i] = vmax[i]\n            l[i] *= factor\n        if (v_new[i] < vmin[i]):\n            v_new[i] = vmin[i]\n            l[i] *= factor  \n    return(v_new)\n\n\ndef norm(waterRetentionCurve, v, x, y):\n    yEst = estimate(waterRetentionCurve, v, x)\n    norm = 0\n    for i in range(len(x)):\n        dy = y[i] - yEst[i]\n        norm += (dy*dy)\n    return(norm)\n\n\ndef LeastSquares(waterRetentionCurve, l, v, vmin, vmax, x, y):\n    n = len(v)\n    m = len(x)\n    p = np.resize(np.zeros(n, float),(n,m))\n    a = np.resize(np.zeros(n, float),(n,n))\n    z = np.zeros(n, float)\n    g = np.zeros(n, float)\n    v1 = np.zeros(n, float)\n    diff = np.zeros(n, float)\n    \n    for i in range(n): v1[i] = v[i]\n    est = estimate(waterRetentionCurve, v, x)                           \n       \n    for i in range(n):\n        change = (vmax[i] - vmin[i]) * 0.01\n        v1[i] +=  change  \n        # get a new set of estimates                              \n        yEst = estimate(waterRetentionCurve, v1, x)                      \n        v1[i] -= change                                 \n        for j in range(m):\n            # compute derivatives\n            p[i][j] = (yEst[j] - est[j]) / change       \n    \n    for i in range(n):\n        for j in range(i, n):\n            a[i][j] = 0\n            for k in range(m):\n                a[i][j] = a[i][j] + p[i][k] * p[j][k]\n        z[i] = sqrt(a[i][i]) + EPSILON\n\n    for i in range(n):\n        g[i] = 0\n        for k in range(m):\n            g[i] = g[i] + p[i][k] * (y[k] - est[k])\n        g[i] = g[i] / z[i]\n        for j in range(i, n):\n            a[i][j] = a[i][j]  / (z[i] * z[j])\n       \n    for i in range(n):\n        a[i][i] = a[i][i] + l[i]\n        for j in range(i+1, n):\n            a[j][i] = a[i][j]\n\n    for j in range(n-1):\n        pivot = a[j][j]\n        for i in range(j+1, n):\n            mult = a[i][j] / pivot\n            for k in range(j+1, n): a[i][k] -= mult * a[j][k]\n            g[i] -=  mult * g[j]\n\n    diff[n-1] = g[n-1] / a[n-1][n-1]\n     \n    for i in range(n-2, -1, -1):\n        top = g[i]\n        for k in range(i+1, n):\n            top -= a[i][k] * diff[k]\n        diff[i] = top / a[i][i]\n    \n    for i in range(n): \n        diff[i] /=  z[i]\n\n    return(diff)"]
  }
 ],
 "metadata": {
  "kernelspec": {
   "display_name": "Python 3",
   "language": "python",
   "name": "python3"
  },
  "language_info": {
   "codemirror_mode": {
    "name": "ipython",
    "version": 3
   },
   "file_extension": ".py",
   "mimetype": "text/x-python",
   "name": "python",
   "nbconvert_exporter": "python",
   "pygments_lexer": "ipython3",
   "version": "3.4.2"
  }
 },
 "nbformat": 4,
 "nbformat_minor": 0
}