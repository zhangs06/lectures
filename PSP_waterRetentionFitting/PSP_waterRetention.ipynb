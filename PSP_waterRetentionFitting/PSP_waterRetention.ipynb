{
 "cells": [
  {
   "cell_type": "code",
   "execution_count": null,
   "metadata": {
    "collapsed": false
   },
   "outputs": [],
   "source": ["#PSP_waterRetention.py\nfrom __future__ import division\nimport numpy as np\n\nCAMPBELL = 1\nVAN_GENUCHTEN = 2\nRESTRICTED_VG = 3\nIPPISCH_VG = 4\nCAMPBELL_IPPISCH_VG = 5\n\ndef Campbell(v, psi, theta):\n    thetaS = v[0]\n    he = v[1]\n    Campbell_b= v[2]\n    for i in range(len(psi)):\n        if psi[i] <= he:\n            theta[i] = thetaS\n        else:\n            Se = (psi[i]/he)**(-1./Campbell_b) \n            theta[i] = Se * thetaS \n\ndef VanGenuchten(v, psi, theta):\n    thetaS = v[0]\n    VG_thetaR = v[1]\n    VG_alpha = v[2]\n    VG_n = v[3]\n    VG_m = v[4]\n    for i in range(len(psi)):\n        Se = 1. / pow(1. + pow(VG_alpha * psi[i], VG_n), VG_m)       \n        theta[i] = Se * (thetaS - VG_thetaR) + VG_thetaR\n\ndef VanGenuchtenRestricted(v, psi, theta):\n    thetaS = v[0]\n    VG_thetaR = v[1]\n    VG_alpha = v[2]\n    VG_n = v[3]\n    VG_m = 1. - (1. / VG_n)\n    for i in range(len(psi)):\n        if psi[i] <= 0: \n            Se = 0\n        else:\n            Se = (1. + (VG_alpha * abs(psi[i]))**VG_n)**(-VG_m)       \n        theta[i] = Se * (thetaS - VG_thetaR) + VG_thetaR  \n        \ndef IppischVanGenuchten(v, psi, theta):\n    thetaS = v[0]\n    VG_thetaR = v[1]\n    he = v[2]\n    VG_alpha = v[3]\n    VG_n = v[4]\n    VG_m = 1. - (1./VG_n)\n    VG_Sc = (1. + (VG_alpha * he)**VG_n)**VG_m\n    for i in range(len(psi)):\n        if (psi[i] <= he): \n            Se = 1.0\n        else: \n            Se = VG_Sc * (1. + (VG_alpha * abs(psi[i]))**VG_n)**(-VG_m)  \n        theta[i] = Se * (thetaS - VG_thetaR) + VG_thetaR  \n        \ndef CampbellIppischVanGenuchten(v, psi, theta):\n    thetaS = v[0]\n    VG_thetaR = v[1]\n    he = v[2]\n    VG_alpha = v[3]\n    VG_n = v[4]\n    VG_m = 1. - (1./VG_n)\n    VG_Sc = (1. + (VG_alpha * he)**VG_n)**VG_m\n    for i in range(len(psi)):\n        if (psi[i] <= he): \n            Se = 1.0\n        else: \n            Se = VG_Sc * (1. + (VG_alpha * abs(psi[i]))**VG_n)**(-VG_m)  \n        residual = VG_thetaR * (1 - ((np.log(VG_alpha*psi[i] + 1.0)/np.log(VG_alpha*(10**6) + 1.0))))\n        theta[i] = max(0.0, Se * (thetaS - residual) + residual)"]
  }
 ],
 "metadata": {
  "kernelspec": {
   "display_name": "Python 3",
   "language": "python",
   "name": "python3"
  },
  "language_info": {
   "codemirror_mode": {
    "name": "ipython",
    "version": 3
   },
   "file_extension": ".py",
   "mimetype": "text/x-python",
   "name": "python",
   "nbconvert_exporter": "python",
   "pygments_lexer": "ipython3",
   "version": "3.4.2"
  }
 },
 "nbformat": 4,
 "nbformat_minor": 0
}