{
 "cells": [
  {
   "cell_type": "code",
   "execution_count": null,
   "metadata": {
    "collapsed": false
   },
   "outputs": [],
   "source": ["#PSP_GaussElimination.py\nfrom __future__ import print_function, division\nfrom PSP_readDataFile import readDataFile\nfrom numpy import *\n\ndef GaussElimination(A,b):\n    n=len(b)\n    for m in range(0,n-1):\n        for i in range(m+1,n):\n            dummy=A[i,m]/A[m,m]\n            A[i,m]=0.\n            for j in range(m+1,n):\n                A[i,j]-=(dummy*A[m,j])\n            b[i]-=(dummy*b[m])\n    # backward insertion\n    x=zeros(n,float)\n    x[n-1]=b[n-1]/A[n-1,n-1]\n    for i in range(n-2,-1,-1):\n        x[i]=b[i]\n        for j in range(i+1,n):\n            x[i]-=(A[i,j]*x[j])\n        x[i]/=A[i,i]\n    return (x)\n\ndef main():\n    A, isFileOk = readDataFile(\"A.txt\", 0, ',', False)\n    if (isFileOk == False): print (\"Incorrect format in row: \", A)\n    x, isFileOk = readDataFile(\"b.txt\", 0, ',', False)\n    b = x[0,:]\n    print(\"matrix A:\\n\",A)\n    print(\"vector b:\\n\",b)\n    \n    x= GaussElimination(A,b)\n    print(\"unknown vector x:\\n\",x) \n\nmain()\n"]
  }
 ],
 "metadata": {
  "kernelspec": {
   "display_name": "Python 3",
   "language": "python",
   "name": "python3"
  },
  "language_info": {
   "codemirror_mode": {
    "name": "ipython",
    "version": 3
   },
   "file_extension": ".py",
   "mimetype": "text/x-python",
   "name": "python",
   "nbconvert_exporter": "python",
   "pygments_lexer": "ipython3",
   "version": "3.4.2"
  }
 },
 "nbformat": 4,
 "nbformat_minor": 0
}