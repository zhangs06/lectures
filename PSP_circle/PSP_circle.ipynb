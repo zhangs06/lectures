{
 "cells": [
  {
   "cell_type": "code",
   "execution_count": null,
   "metadata": {
    "collapsed": false
   },
   "outputs": [],
   "source": ["# PSP_circle.py\nfrom __future__ import print_function, division\nfrom math import sqrt\nimport sys\nif sys.version_info >= (3,0):\n    from tkinter import *                           #3.x\nelse:\n    from Tkinter import *                           #2.7\n\nmyCenterX = 150\nmyCenterY = 150\nmyRadius = 50\nmyRoot = Tk()\nmyText = StringVar()\n\ndef drawCircle(myCanvas,x,y,r):\n    myCanvas.create_oval(x-r, y-r, x+r, y+r, width=1, fill='')\n\ndef ButtonLeftHandler(myEvent):\n    dX = myEvent.x - myCenterX\n    dY = myEvent.y - myCenterY\n    distance = sqrt(dX*dX + dY*dY)\n    if (distance <= myRadius):\n        myText.set(\"Inside!\")\n    else:\n        myText.set(\"Outside!\")\n\ndef main():\n    myCanvas = Canvas(width=300, height=300, bg='white')\n    myCanvas.pack(expand=YES, fill=BOTH)\n    myLabel = Label(myRoot, textvariable = myText, font=(\"Helvetica\", 18))\n    myLabel.pack()\n    myText.set(\"Try to click the mouse button in the canvas...\")\n    myCircle = drawCircle(myCanvas, myCenterX, myCenterY, myRadius)\n    myRoot.bind_class (\"Canvas\", \"<Button-1>\", ButtonLeftHandler)\n    myRoot.mainloop()\nmain()\n"]
  }
 ],
 "metadata": {
  "kernelspec": {
   "display_name": "Python 3",
   "language": "python",
   "name": "python3"
  },
  "language_info": {
   "codemirror_mode": {
    "name": "ipython",
    "version": 3
   },
   "file_extension": ".py",
   "mimetype": "text/x-python",
   "name": "python",
   "nbconvert_exporter": "python",
   "pygments_lexer": "ipython3",
   "version": "3.4.2"
  }
 },
 "nbformat": 4,
 "nbformat_minor": 0
}