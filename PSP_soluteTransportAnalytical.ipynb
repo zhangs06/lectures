{
 "cells": [
  {
   "cell_type": "code",
   "execution_count": null,
   "metadata": {
    "collapsed": false
   },
   "outputs": [],
   "source": ["#PSP_soluteTransportAnalytical\nimport numpy as np\nfrom scipy import special as sp\nimport matplotlib.pyplot as plt\n\ndef main(): \n    tmax = 11    \n    nrHours = 10                                       \n    n = 100                                                         \n    D = 1.0 \n    fw = 2.5        \n    v = 5.0\n    mass = 3.0\n    z = np.zeros(n)\n    conc = np.zeros(n)  \n    sqrtPi =   np.sqrt(np.pi) \n    for i in range(n):\n        z[i] = i\n\n    plt.ion()\n    conc[0] = 0.0\n    for t in range(1, nrHours):\n        for i in range(1, n):\n            a = v / (sqrtPi*np.sqrt(D*t)) * np.exp(-((z[i] - v*t)**2) / (4.0*D*t))\n            b = (v**2)/(2*D) * np.exp((v*z[i])/D) * sp.erfc((z[i]+v*t) / np.sqrt(4.0*D*t))\n            conc[i]= mass/fw * (a - b)                  \n        plt.clf()\n        plt.xlabel('Concentration [g cm$^{-2}$]',fontsize=16,labelpad=8)\n        plt.ylabel('Depth [cm]',fontsize=16,labelpad=8)\n        plt.xlim(0, 1)\n        plt.plot(conc, -z, 'k-')\n        plt.pause(0.1)\n         \n    plt.ioff()\n    plt.show\n    plt.savefig(\"analytical.eps\", transparent = True)\nmain()\n"]
  }
 ],
 "metadata": {
  "kernelspec": {
   "display_name": "Python 3",
   "language": "python",
   "name": "python3"
  },
  "language_info": {
   "codemirror_mode": {
    "name": "ipython",
    "version": 3
   },
   "file_extension": ".py",
   "mimetype": "text/x-python",
   "name": "python",
   "nbconvert_exporter": "python",
   "pygments_lexer": "ipython3",
   "version": "3.4.2"
  }
 },
 "nbformat": 4,
 "nbformat_minor": 0
}