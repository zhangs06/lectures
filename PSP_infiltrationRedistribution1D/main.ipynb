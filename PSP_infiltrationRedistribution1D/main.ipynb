{
 "cells": [
  {
   "cell_type": "code",
   "execution_count": null,
   "metadata": {
    "collapsed": false
   },
   "outputs": [],
   "source": ["#PSP_infiltrationRedistribution1D\nfrom __future__ import print_function, division\n\nimport matplotlib.pyplot as plt\nimport PSP_infiltration1D as inf\n    \ndef main():  \n    isSuccess, soil = inf.readSoil(\"soilUniform.txt\")\n    if not isSuccess: \n        print(\"warning: wrong soil file.\")\n        return\n    \n    print (inf.CAMPBELL,' Campbell')\n    print (inf.RESTRICTED_VG,' van Genuchten with m = 1-1/n restriction')\n    print (inf.IPPISCH_VG,' Ippisch-van Genuchten')\n    funcType = int(input(\"Select water retention curve: \"))\n    \n    if (funcType == inf.CAMPBELL) and (len(soil) == 1):\n        print()\n        print (inf.CELL_CENT_FIN_VOL,' Cell-Centered Finite Volume')\n        print (inf.NEWTON_RAPHSON_MP,' Matric Potential with Newton-Raphson')\n        print (inf.NEWTON_RAPHSON_MFP,' Matric Flux Potential with Newton-Raphson')\n        solver = int(input(\"Select solver: \"))\n    else:\n        solver = inf.CELL_CENT_FIN_VOL\n        \n    myStr = \"Initial degree of saturation ]0-1]:\" \n    Se = inf.NODATA\n    print()\n    while ((Se <= 0.0) or (Se > 1.0)):\n        Se = float(input(myStr))\n\n    inf.initializeWater(funcType, soil, Se, solver)\n        \n    # [J kg^-1] upper boundary condition\n    ubPotential = inf.airEntryPotential(funcType, soil[0])      \n    \n    print()\n    print (\"1: Free drainage\")\n    print (\"2: Constant water potential\")\n    boundary = int(input(\"Select lower boundary condition:\"))\n    if (boundary == 1):\n        isFreeDrainage = True\n    else:\n        isFreeDrainage = False\n    \n    # hours of simulation \n    simulationLenght = int(input(\"\\nNr of simulation hours:\"))    \n                    \n    endTime = simulationLenght * 3600   \n    maxTimeStep = 3600                  \n    dt = maxTimeStep / 10               \n    time = 0                            \n    sumInfiltration = 0\n    totalIterationNr = 0\n         \n    plt.ion()\n    f, myPlot = plt.subplots(2, figsize=(10, 8), dpi=80)\n    myPlot[1].set_xlim(0, simulationLenght * 3600)\n    myPlot[1].set_ylim(0, 0.1)\n    myPlot[1].set_xlabel(\"Time [s]\",fontsize=16,labelpad=8)\n    myPlot[1].set_ylabel(\"Infiltration Rate [kg m$^{-2}$ s$^{-1}$]\",fontsize=16,labelpad=8)\n    plt.tick_params(axis='both', which='major', labelsize=12,pad=6)\n\n    while (time < endTime):\n        dt = min(dt, endTime - time)\n        if (solver == inf.CELL_CENT_FIN_VOL):\n            success, nrIterations, flux = inf.cellCentFiniteVolWater(funcType, \n                        soil, dt, ubPotential, isFreeDrainage,inf.LOGARITHMIC)\n        elif (solver == inf.NEWTON_RAPHSON_MP):\n            success, nrIterations, flux = inf.NewtonRapsonMP(funcType,\n                        soil, dt, ubPotential, isFreeDrainage)\n        elif (solver == inf.NEWTON_RAPHSON_MFP):\n            success, nrIterations, flux = inf.NewtonRapsonMFP(funcType,\n                        soil, dt, ubPotential, isFreeDrainage)\n        totalIterationNr += nrIterations\n        \n        if success:\n            for i in range(inf.n+2):\n                inf.oldTheta[i] = inf.theta[i]\n            sumInfiltration += flux * dt \n            time += dt\n                        \n            print(\"time =\", int(time), \"\\tdt =\", dt, \n                  \"\\tIter. =\", int(nrIterations), \n                  \"\\tInf:\", format(sumInfiltration, '.3f'))\n            myPlot[0].clear()\n            myPlot[0].set_xlim(0, 0.5)\n            myPlot[0].set_xlabel(\"Water content [m$^3$ m$^{-3}$]\",fontsize=16,labelpad=8)\n            myPlot[0].set_ylabel(\"Depth [m]\",fontsize=16,labelpad=8)\n            myPlot[0].plot(inf.theta, -inf.z, 'k-')\n            myPlot[0].plot(inf.theta, -inf.z, 'ko')\n            myPlot[1].plot(time, flux, 'ko')\n            plt.pause(0.0001)\n            \n            if (float(nrIterations/inf.maxNrIterations) < 0.1): \n                    dt = min(dt*2, maxTimeStep)\n        \n        else:\n            print (\"dt =\", dt, \"No convergence\")\n            dt = max(dt / 2, 1)\n            for i in range(inf.n+2):\n                inf.theta[i] = inf.oldTheta[i]\n                if (solver == inf.NEWTON_RAPHSON_MFP):\n                    inf.psi[i] = inf.MFPFromTheta(soil[inf.hor[i]], inf.theta[i])\n                else:\n                    inf.psi[i] = inf.waterPotential(funcType, soil[inf.hor[i]], inf.theta[i])\n           \n    print(\"nr of iterations per hour:\", totalIterationNr / simulationLenght)\n    plt.ioff()\n    plt.show()\nmain()\n"]
  }
 ],
 "metadata": {
  "kernelspec": {
   "display_name": "Python 3",
   "language": "python",
   "name": "python3"
  },
  "language_info": {
   "codemirror_mode": {
    "name": "ipython",
    "version": 3
   },
   "file_extension": ".py",
   "mimetype": "text/x-python",
   "name": "python",
   "nbconvert_exporter": "python",
   "pygments_lexer": "ipython3",
   "version": "3.4.2"
  }
 },
 "nbformat": 4,
 "nbformat_minor": 0
}