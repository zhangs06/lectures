{
 "cells": [
  {
   "cell_type": "code",
   "execution_count": null,
   "metadata": {
    "collapsed": false
   },
   "outputs": [],
   "source": ["#PSP_grid.py\nfrom __future__ import division\nimport numpy as np\n\ndef linear(n, depth):\n    z = np.zeros(n+2, float)\n    dz = depth / n\n    z[0] = 0\n    z[1] = 0\n    for i in range(1, n+1):\n        z[i + 1] = z[i] + dz\n    return z\n\ndef geometric(n, depth):\n    z = np.zeros(n+2, float)  \n    mySum = 0.0\n    for i in range(1, n+1):\n        mySum = mySum + i * i\n    dz = depth / mySum\n    z[0] = 0.0\n    z[1] = 0.0\n    for i in range(1, n+1):\n        z[i + 1] = z[i] + dz * i * i\n    return z"]
  }
 ],
 "metadata": {
  "kernelspec": {
   "display_name": "Python 3",
   "language": "python",
   "name": "python3"
  },
  "language_info": {
   "codemirror_mode": {
    "name": "ipython",
    "version": 3
   },
   "file_extension": ".py",
   "mimetype": "text/x-python",
   "name": "python",
   "nbconvert_exporter": "python",
   "pygments_lexer": "ipython3",
   "version": "3.4.2"
  }
 },
 "nbformat": 4,
 "nbformat_minor": 0
}