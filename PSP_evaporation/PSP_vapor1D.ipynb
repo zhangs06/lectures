{
 "cells": [
  {
   "cell_type": "code",
   "execution_count": null,
   "metadata": {
    "collapsed": false
   },
   "outputs": [],
   "source": ["#PSP_vapor1D\nfrom __future__ import division\n\nimport PSP_grid as grid\nfrom PSP_ThomasAlgorithm import ThomasBoundaryCondition\nfrom PSP_soil import *\n\nwaterDensity = 1000.        \narea = 1                    \nmaxNrIterations = 100\ntolerance = 1e-9\n\n#vectors of numerical solution\nn = 40                        \nz = np.zeros(n+2, float)      \nvol = np.zeros(n+2, float)     \na = np.zeros(n+2, float)      \nb = np.zeros(n+2, float)       \nc = np.zeros(n+2, float)      \nd = np.zeros(n+2, float)      \n\ndz = np.zeros(n+2, float)      \npsi = np.zeros(n+2, float)    \ndpsi = np.zeros(n+2, float)    \ntheta = np.zeros(n+2, float)   \noldTheta = np.zeros(n+2, float) \nvapor = np.zeros(n+2, float)  \noldvapor = np.zeros(n+2, float)  \nC = np.zeros(n+2, float)      \nk = np.zeros(n+2, float)       \n\nu = np.zeros(n+2, float)       \ndu = np.zeros(n+2, float)      \nf = np.zeros(n+2, float)       \nH = np.zeros(n+2, float)       \nH0 = np.zeros(n+2, float)     \n\ndef initializeWater(funcType, soil, theta_0):\n    global z\n    \n    # vector depth [m]\n    z = grid.geometric(n, soil.lowerDepth)\n    vol[0] = 0\n    for i in range(n+1): \n        dz[i] = z[i+1]-z[i]\n        if (i > 0): vol[i] = area * (z[i+1] - z[i-1]) / 2.0\n    \n    #initial conditions\n    psi_0 = waterPotential(funcType, soil, theta_0)\n    k_0 = (hydraulicConductivityFromTheta(funcType, soil, theta_0) \n            +  vaporConductivityFromPsiTheta(soil, psi_0, theta_0))\n\n    psi[0] = 0\n    for i in range(1, n+2):\n        oldTheta[i] = theta_0\n        theta[i] = theta_0\n        oldvapor[i] = vaporFromPsi(soil, psi[i], theta[i])\n        vapor[i] = vaporFromPsi(soil, psi[i], theta[i])\n        psi[i] = psi_0\n        H[i] = psi[i] - z[i]*g\n        k[i] = k_0\n            \ndef NewtonRapsonMP(funcType, soil, dt, isFreeDrainage):\n    airEntry = airEntryPotential(funcType, soil)\n    \n    if (isFreeDrainage):\n        psi[n+1] = psi[n]\n        theta[n+1] = theta[n] \n        k[n+1] = k[n]\n    \n    nrIterations = 0\n    massBalance = 1\n    while ((massBalance > tolerance) and (nrIterations < maxNrIterations)):\n        massBalance = 0\n        for i in range(1, n+1):\n            k[i] = (hydraulicConductivityFromTheta(funcType, soil, theta[i]) \n                    +  vaporConductivityFromPsiTheta(soil, psi[i], theta[i]))\n            u[i] = g * k[i]\n            du[i] = -u[i] * soil.Campbell_n / psi[i]\n            capacity = dTheta_dPsi(funcType, soil, psi[i])\n            capacity_vapor = dvapor_dPsi(funcType, soil, psi[i], theta[i])\n            C[i] = (vol[i] * (waterDensity*capacity + capacity_vapor)) / dt\n        \n        for i in range (1, n+1):\n            f[i] = ((psi[i+1] * k[i+1] - psi[i] * k[i]) \n                    / (dz[i] * (1 - soil.Campbell_n))) - u[i]\n            if (i == 1):\n                a[i] = 0.\n                c[i] = -k[i+1] / dz[i]\n                b[i] =  k[i] / dz[i] + C[i] + du[i]\n                d[i] = evaporation_flux(psi[i]) - f[i] + vol[i]*(waterDensity \n                           * (theta[i] - oldTheta[i]) + (vapor[i]-oldvapor[i])) /dt\n            else:\n                a[i] = -k[i-1] / dz[i-1] - du[i-1]\n                c[i] = -k[i+1] / dz[i]\n                b[i] = k[i] / dz[i-1] + k[i] / dz[i] + C[i] + du[i]\n                d[i] = f[i-1] - f[i] + (waterDensity * vol[i] \n                                        * (theta[i] - oldTheta[i])) /dt\n            massBalance += abs(d[i])\n    \n        ThomasBoundaryCondition(a, b, c, d, dpsi, 1, n)\n        \n        for i in range(1, n+1):\n            psi[i] -= dpsi[i] \n            psi[i] = min(airEntry, psi[i])    \n            theta[i] = thetaFromPsi(funcType, soil, psi[i])\n            vapor[i] = vaporFromPsi(soil, psi[i], theta[i])\n        nrIterations += 1\n        \n        if (isFreeDrainage):\n            psi[n+1] = psi[n]\n            theta[n+1] = theta[n] \n            k[n+1] = k[n]\n     \n    if (massBalance < tolerance):\n        flux = evaporation_flux(psi[1])\n        return True, nrIterations, flux\n    else:\n        return False, nrIterations, 0"]
  }
 ],
 "metadata": {
  "kernelspec": {
   "display_name": "Python 3",
   "language": "python",
   "name": "python3"
  },
  "language_info": {
   "codemirror_mode": {
    "name": "ipython",
    "version": 3
   },
   "file_extension": ".py",
   "mimetype": "text/x-python",
   "name": "python",
   "nbconvert_exporter": "python",
   "pygments_lexer": "ipython3",
   "version": "3.4.2"
  }
 },
 "nbformat": 4,
 "nbformat_minor": 0
}