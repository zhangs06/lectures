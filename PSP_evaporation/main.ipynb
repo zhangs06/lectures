{
 "cells": [
  {
   "cell_type": "code",
   "execution_count": null,
   "metadata": {
    "collapsed": false
   },
   "outputs": [],
   "source": ["#PSP_evaporation\nfrom __future__ import print_function, division\nimport matplotlib.pyplot as plt\nimport PSP_vapor1D as vap\n    \ndef main():  \n    isSuccess, soil = vap.readSoil(\"siltLoam.txt\")\n    if not isSuccess: \n        print(\"warning: wrong soil file.\")\n        return\n    \n    funcType = vap.CAMPBELL\n    \n    #Initial conditions \n    thetaIni = 0.2         \n    isFreeDrainage = True\n    \n    simulationLenght = 80  \n    vap.initializeWater(funcType, soil, thetaIni)\n    endTime = simulationLenght * 3600   \n    maxTimeStep = 3600                  \n    dt = 600                           \n    time = 0                           \n    sumEvaporation = 0\n    \n    plt.ion()\n    f, myPlot = plt.subplots(2, figsize=(8, 8), dpi=80)\n    myPlot[0].set_xlim(0, soil.thetaS)\n            \n    myPlot[1].set_xlim(0, simulationLenght)\n    myPlot[1].set_ylim(0, 0.3)\n    myPlot[1].set_ylabel(\"Evaporation Rate [mm h$^{-1}$]\",fontsize=16,labelpad=8)\n    myPlot[1].set_xlabel(\"Time [h]\",fontsize=16,labelpad=8)\n    \n    while (time < endTime):\n        dt = min(dt, endTime - time)\n        success, iterations, evaporationFlux = vap.NewtonRapsonMP(funcType, soil, dt, isFreeDrainage)\n        \n        if success:\n            for i in range(vap.n+1):\n                vap.oldTheta[i] = vap.theta[i]\n                vap.oldvapor[i] = vap.vapor[i]\n            sumEvaporation += evaporationFlux * dt \n            time += dt\n                        \n            print(\"time =\", int(time), \"\\tdt =\", int(dt), \"\\tIter. =\", iterations, \n                  \"\\tsumEvap:\", format(sumEvaporation, '.3f'))\n            \n            myPlot[0].clear()\n            myPlot[0].set_xlim(0, soil.thetaS)\n            myPlot[0].set_xlabel(\"Water content [m$^3$ m$^{-3}$]\",fontsize=16,labelpad=8)\n            myPlot[0].set_ylabel(\"Depth [m]\",fontsize=16,labelpad=8)\n            myPlot[0].plot(vap.theta, -vap.z, 'yo')\n            myPlot[1].plot(time/3600., evaporationFlux*3600., 'ro')\n\t    plt.pause(0.0001)\n            \n            if (float(iterations / vap.maxNrIterations) < 0.1): \n                    dt = min(dt*2.0, maxTimeStep)  \n        else:\n            print(\"time =\", int(time), \"\\tdt =\", int(dt), \n                  \"\\tIter. =\", iterations, \"No convergence\")\n            \n            for i in range(vap.n+1):\n                vap.theta[i] = vap.oldTheta[i]\n                vap.vapor[i] = vap.oldvapor[i]\n                vap.psi[i] = vap.waterPotential(funcType, soil, vap.theta[i])\n            dt = max(dt / 2.0, 1)\n    \n    plt.ioff()        \n    plt.show()\nmain()\n"]
  }
 ],
 "metadata": {
  "kernelspec": {
   "display_name": "Python 3",
   "language": "python",
   "name": "python3"
  },
  "language_info": {
   "codemirror_mode": {
    "name": "ipython",
    "version": 3
   },
   "file_extension": ".py",
   "mimetype": "text/x-python",
   "name": "python",
   "nbconvert_exporter": "python",
   "pygments_lexer": "ipython3",
   "version": "3.4.2"
  }
 },
 "nbformat": 4,
 "nbformat_minor": 0
}