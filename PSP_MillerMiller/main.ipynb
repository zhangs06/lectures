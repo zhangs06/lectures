{
 "cells": [
  {
   "cell_type": "code",
   "execution_count": null,
   "metadata": {
    "collapsed": false
   },
   "outputs": [],
   "source": ["#PSP_MillerMiller\nfrom __future__ import print_function, division\nfrom PSP_MillerMiller import *\n    \ndef main():\n    choice = 0\n    print (CAMPBELL,' Campbell')\n    print (VAN_GENUCHTEN,' van Genuchten')\n    while (choice < CAMPBELL) or (choice > VAN_GENUCHTEN):\n        choice = float(input(\"Choose water retention curve: \"))\n        if (choice < CAMPBELL) or (choice > VAN_GENUCHTEN):\n            print('wrong choice.')\n    waterRetentionCurve = choice\n    \n    sigma = 1.0\n    plotHydraulicProperties(waterRetentionCurve, sigma) \n    \n    choice = 0\n    print (GAUSSIAN,' Gaussian model ')\n    print (EXPONENTIAL,' exponential model')\n    while (choice < GAUSSIAN) or (choice > EXPONENTIAL):\n        choice = float(input(\"Choose autocovariance model: \"))\n        if (choice < GAUSSIAN) or (choice > EXPONENTIAL):\n            print('wrong choice.')\n    funcType = choice\n    \n    n = 128                    \n    dx = dy = 0.01              \n    lx = ly = 0.1                                 \n    f = heterogeneousField(n, dx, dy, lx, ly, funcType)\n    f *= (sigma*sigma)\n    plt.imshow(f,cmap=plt.gray()), plt.axis('off'), plt.title(''), plt.show()\n    \n    plotThetaField(waterRetentionCurve, f, n)\n    plotConductivityField(waterRetentionCurve, f, n)\nmain()"]
  }
 ],
 "metadata": {
  "kernelspec": {
   "display_name": "Python 3",
   "language": "python",
   "name": "python3"
  },
  "language_info": {
   "codemirror_mode": {
    "name": "ipython",
    "version": 3
   },
   "file_extension": ".py",
   "mimetype": "text/x-python",
   "name": "python",
   "nbconvert_exporter": "python",
   "pygments_lexer": "ipython3",
   "version": "3.4.2"
  }
 },
 "nbformat": 4,
 "nbformat_minor": 0
}