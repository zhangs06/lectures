{
 "cells": [
  {
   "cell_type": "code",
   "execution_count": null,
   "metadata": {
    "collapsed": false
   },
   "outputs": [],
   "source": ["#PSP_soil.py\n\nCAMPBELL = 1\nVAN_GENUCHTEN = 2\n\nclass Csoil:\n    def __init__(self):\n        self.thetaS = 0.46              # [m^3 m^-3] saturated water content\n        self.thetaR = 0.02              # [m^3 m^-3] residual water content\n        self.Ks = 1.e-3                 # [kg s^-1 m^-3] saturated hydraulic conductivity\n        self.Mualem_L = 0.5             # [-] tortuosity parameter\n                                        # Campbell model:\n        self.Campbell_he = -4.2         # [J kg^-1] air-entry potential \n        self.Campbell_b = 3.6           # [-] slope parameter \n                                        # van Genuchten modified model:\n        self.VG_he = 3.8                # [J kg^-1] air-entry potential \n        self.VG_alpha = 0.29            # [kg J^1] related to the inverse of the air entry (>0) \n        self.VG_n = 1.33                # [-] measure of the pore-size distribution (>1)\n        self.VG_m = 1.-(1./self.VG_n)   # [-] m parameter\n        \ndef hydraulicConductivity(waterRetentionCurve, soil, signPsi):\n    if (waterRetentionCurve == CAMPBELL):\n        if (signPsi >= soil.Campbell_he):\n            K = soil.Ks\n        else:\n            K = soil.Ks * (soil.Campbell_he / signPsi)**(2.+ 3./soil.Campbell_b)\n    elif (waterRetentionCurve == VAN_GENUCHTEN):\n        if (signPsi >= 0.):\n            K = soil.Ks\n        else:\n            Se = 1. / (1. + (soil.VG_alpha * abs(signPsi))**soil.VG_n)**soil.VG_m\n            K = soil.Ks * Se**soil.Mualem_L * (1.-(1.-Se**(1./soil.VG_m))**soil.VG_m)**2 \n    return(K)\n\ndef waterContent(waterRetentionCurve, soil, signPsi):\n    if (waterRetentionCurve == CAMPBELL):\n        if (signPsi >= soil.Campbell_he):\n            return soil.thetaS\n        else:\n            Se = (soil.Campbell_he / signPsi)**(1. / soil.Campbell_b)\n            return Se * soil.thetaS\n    elif(waterRetentionCurve == VAN_GENUCHTEN):\n        if (signPsi >= 0.):\n            return soil.thetaS\n        else:\n            Se = 1. / (1. + (soil.VG_alpha * abs(signPsi))**soil.VG_n)**soil.VG_m\n            return Se*(soil.thetaS - soil.thetaR) + soil.thetaR"]
  }
 ],
 "metadata": {
  "kernelspec": {
   "display_name": "Python 3",
   "language": "python",
   "name": "python3"
  },
  "language_info": {
   "codemirror_mode": {
    "name": "ipython",
    "version": 3
   },
   "file_extension": ".py",
   "mimetype": "text/x-python",
   "name": "python",
   "nbconvert_exporter": "python",
   "pygments_lexer": "ipython3",
   "version": "3.4.2"
  }
 },
 "nbformat": 4,
 "nbformat_minor": 0
}