{
 "cells": [
  {
   "cell_type": "code",
   "execution_count": null,
   "metadata": {
    "collapsed": false
   },
   "outputs": [],
   "source": ["#PSP_MillerMiller.py\nimport numpy as np\nimport matplotlib.pyplot as plt\nfrom PSP_soil import *\n\nGAUSSIAN = 1\nEXPONENTIAL = 2\n\ndef statisticalFunction(x, y, funcType):\n    if (funcType == GAUSSIAN): \n        return np.exp(-0.25*np.pi*(x*x + y*y))           \n    elif (funcType == EXPONENTIAL): \n        return np.exp(-np.sqrt(x*x + y*y))             \n\ndef heterogeneousField(n, dx, dy, lx, ly, funcType):         \n    f = np.array([[complex(0.,0.)]*int(n+1)]*int(n+1))\n    phi = np.zeros((n+1)**2)\n    for i in range((n+1)**2): \n        phi[i]=2*np.pi*np.random.random_sample()      \n    for i in range (int(n/2)+1):                                              \n        for j in range (int(n/2)+1):\n            r = statisticalFunction(i*dx/lx, j*dy/ly, funcType)\n            f[-i +int(n/2)][-j+int(n/2)] = complex(r,0.)\n            f[+i +int(n/2)][-j+int(n/2)] = complex(r,0.)\n            f[-i +int(n/2)][+j+int(n/2)] = complex(r,0.)\n            f[+i +int(n/2)][+j+int(n/2)] = complex(r,0.)\n    fft_f = np.fft.fft2(f);                                          \n    for i in range(n+1):                                                       \n        for j in range(n+1):\n            r = pow(2.*np.real(fft_f[i][j])**2,0.25);\n            fft_f[i][j] = complex(r*np.cos(phi[i*(n+1)+j]), r*np.sin(phi[i*(n+1)+j]))\n    f  = np.real(np.fft.ifft2(fft_f))                                          \n    mean_f = np.mean(f)                                                         \n    std_f = np.std(f, dtype=np.float64)\n    f  = (f - mean_f) / std_f\n    return(f)\n\ndef plotHydraulicProperties(waterRetentionCurve, sigma):  \n    soil = Csoil()\n    soil_minus_sigma = Csoil()\n    soil_plus_sigma = Csoil()\n    soil_minus_sigma.Campbell_he /= np.exp(-sigma*sigma)\n    soil_minus_sigma.VG_alpha *= np.exp(-sigma*sigma)\n    soil_minus_sigma.Ks *= np.exp(-2*sigma*sigma)\n    soil_plus_sigma.Campbell_he /= np.exp(sigma*sigma)\n    soil_plus_sigma.VG_alpha *= np.exp(sigma*sigma)\n    soil_plus_sigma.Ks *= np.exp(2*sigma*sigma)\n    \n    n = 100\n    psi = -np.logspace(-2, 5, n)\n    theta = np.zeros(n); theta_minus = np.zeros(n); theta_plus = np.zeros(n)\n    K = np.zeros(n); K_minus = np.zeros(n); K_plus = np.zeros(n)\n    for i in range(n):\n        theta[i] = waterContent(waterRetentionCurve, soil, psi[i])\n        K[i] = hydraulicConductivity(waterRetentionCurve, soil, psi[i])\n        theta_minus[i] = waterContent(waterRetentionCurve, soil_minus_sigma, psi[i])\n        K_minus[i] = hydraulicConductivity(waterRetentionCurve, soil_minus_sigma, psi[i])\n        theta_plus[i] = waterContent(waterRetentionCurve, soil_plus_sigma, psi[i])\n        K_plus[i] = hydraulicConductivity(waterRetentionCurve, soil_plus_sigma, psi[i])\n\n    plt.subplot(1,2,1)\n    plt.plot(-psi, theta_minus, '--k', label='-$\\sigma$')\n    plt.plot(-psi, theta, '-k', label='$\\mu$')\n    plt.plot(-psi, theta_plus, ':k', label='+$\\sigma$')\n    plt.xlabel('$\\psi$ [J kg$^{-1}$]',labelpad=8,fontsize=20)\n    plt.ylabel('$\\\\theta$ [m$^3$ m$^{-3}$]',labelpad=8,fontsize=20)\n    plt.xscale('log'), plt.legend()\n    plt.tick_params(axis='both', which='major', labelsize=14,pad=8)\n\n    \n    plt.subplot(1,2,2)\n    plt.plot(-psi, K_minus*3600., '--k', label='-$\\sigma$')\n    plt.plot(-psi, K*3600., '-k',label='$\\mu$')\n    plt.plot(-psi, K_plus*3600., ':k', label='+$\\sigma$')\n    plt.xscale('log'), plt.yscale('log')\n    plt.xlabel('$\\psi$ [J kg$^{-1}$]',labelpad=8,fontsize=20)\n    plt.ylabel('K [kg s$^{-1}$ m$^{-3}$]',labelpad=8,fontsize=20)\n    plt.tick_params(axis='both', which='major', labelsize=14,pad=8)\n    plt.legend()\n    plt.tight_layout()\n    plt.show()\n\ndef plotThetaField(waterRetentionCurve, f, n):\n    soil = Csoil() \n    currentSoil = Csoil()\n    theta = np.resize(np.zeros(((n+1)**2)*3),(3,n+1,n+1))\n    psi = [-0., -15., -100.]\n    for i in range(len(psi)):\n        for k in range(n+1):\n            for l in range(n+1):\n                currentSoil.Campbell_he = soil.Campbell_he / np.exp(f[k,l])\n                currentSoil.VG_alpha = soil.VG_alpha * np.exp(f[k,l])\n                theta[i,k,l] = waterContent(waterRetentionCurve, currentSoil, psi[i])\n                \n        plt.subplot(1, len(psi), i+1),\n        plt.imshow(theta[i], cmap=plt.gray(), vmin = 0.0, vmax = 0.5)\n        plt.axis('off'), plt.title(r'$\\theta$ ($\\psi$='+str(psi[i])+')')\n        cbar = plt.colorbar(orientation='horizontal', ticks = [0.0,0.5],\n                                    shrink=0.8, aspect = 7., pad = 0.05)   \n        cbar.set_ticklabels(['%.1f' %(0.0), '%.1f' %(0.5)])\n    plt.show()\n\n\ndef plotConductivityField(waterRetentionCurve, f, n):\n    soil = Csoil()\n    currentSoil = Csoil()\n    K = np.resize(np.zeros(((n+1)**2)*3),(3,n+1,n+1))\n    psi = [-0., -15., -100.]\n    for i in range(len(psi)):\n        for k in range(n+1):\n            for l in range(n+1):\n                currentSoil.Campbell_he = soil.Campbell_he / np.exp(f[k,l])\n                currentSoil.VG_alpha = soil.VG_alpha * np.exp(f[k,l])\n                currentSoil.Ks = soil.Ks * np.exp(2*f[k,l])\n                K[i,k,l] = hydraulicConductivity(waterRetentionCurve, currentSoil, psi[i])\n             \n        plt.subplot(1, len(psi), i+1),\n        plt.imshow(np.log(K[i])/np.log(10.), cmap=plt.gray(), vmin = -10, vmax = -1)\n        plt.axis('off'), plt.title(r'$\\log_{10}$K ($\\psi$=' + str(psi[i])+')')\n        cbar = plt.colorbar(orientation='horizontal', ticks = [-10,-8,-6,-4,-2],\n                                        shrink=0.8, aspect = 7., pad = 0.05)\n        cbar.set_ticklabels([-10,-8,-6,-4,-2])\n    plt.show()"]
  }
 ],
 "metadata": {
  "kernelspec": {
   "display_name": "Python 3",
   "language": "python",
   "name": "python3"
  },
  "language_info": {
   "codemirror_mode": {
    "name": "ipython",
    "version": 3
   },
   "file_extension": ".py",
   "mimetype": "text/x-python",
   "name": "python",
   "nbconvert_exporter": "python",
   "pygments_lexer": "ipython3",
   "version": "3.4.2"
  }
 },
 "nbformat": 4,
 "nbformat_minor": 0
}