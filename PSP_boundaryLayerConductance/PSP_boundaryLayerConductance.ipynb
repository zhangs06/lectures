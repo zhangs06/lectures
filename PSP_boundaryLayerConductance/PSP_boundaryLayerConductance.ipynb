{
 "cells": [
  {
   "cell_type": "code",
   "execution_count": null,
   "metadata": {
    "collapsed": false
   },
   "outputs": [],
   "source": ["#PSP_boundaryLayerConductance.py\nfrom __future__ import division\nimport numpy as np\n\ng = 9.81\nzeroKelvin = 273.15\n\ndef Kh(u, T, Tk0, atmPressure):\n    cp = 29.3\n    h = 0.01\n    d = 0.77 * h\n    zm = 0.13 * h\n    zh = 0.2 * zm\n    z = 1.5\n    Psi_m = 0; Psi_h = 0\n    vk = 0.4\n    # molar density of the gas\n    ro = 44.6 * (atmPressure / 101.3) * (293.15 / Tk0) \n    # volumetric heat of air (1200 J/m^3*K at 20C e sea level)\n    Ch = ro * cp \n    for i in range(3):\n        ustar = vk * u / (np.log((z - d + zm) / zm) + Psi_m)\n        K = vk * ustar / (np.log((z - d + zh) / zh) + Psi_h)\n        H = K * (T - (Tk0 - zeroKelvin))\n        zeta = -vk * z * g * H / (Ch * Tk0 * np.power(ustar,3))\n        if (zeta > 0):\n            Psi_h = 4.7 * zeta\n            Psi_m = Psi_h\n        else:\n            Psi_h = -2 * np.log((1 + np.sqrt(1 - 16 * zeta)) / 2)\n            Psi_m = 0.6 * Psi_h\n    return K\n"]
  }
 ],
 "metadata": {
  "kernelspec": {
   "display_name": "Python 3",
   "language": "python",
   "name": "python3"
  },
  "language_info": {
   "codemirror_mode": {
    "name": "ipython",
    "version": 3
   },
   "file_extension": ".py",
   "mimetype": "text/x-python",
   "name": "python",
   "nbconvert_exporter": "python",
   "pygments_lexer": "ipython3",
   "version": "3.4.2"
  }
 },
 "nbformat": 4,
 "nbformat_minor": 0
}