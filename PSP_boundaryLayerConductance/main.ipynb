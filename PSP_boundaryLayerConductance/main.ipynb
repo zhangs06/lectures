{
 "cells": [
  {
   "cell_type": "code",
   "execution_count": null,
   "metadata": {
    "collapsed": false
   },
   "outputs": [],
   "source": ["#PSP_boundaryLayerConductance\nfrom __future__ import print_function, division\n\nfrom PSP_readDataFile import readDataFile\nfrom PSP_boundaryLayerConductance import *\nfrom PSP_plot import *\n    \ndef main():\n    A, isFileOk = readDataFile('weather.dat', 1, '\\t', False)\n    if not isFileOk: \n        print (\"Incorrect format in row: \", A)\n        return()\n    \n    airT = A[:,1]\n    windSpeed = A[:,4]\n    \n    atmPressure = 100\n    TsoilK = 15 + zeroKelvin\n    nrHours = 24*7            #one week\n    \n    plot_start(nrHours)\n    for i in range(nrHours):\n        K = Kh(windSpeed[i], airT[i], TsoilK, atmPressure)\n        plot_variables(i, windSpeed[i], airT[i], K)\n        \n    plot_end() \nmain()\n"]
  }
 ],
 "metadata": {
  "kernelspec": {
   "display_name": "Python 3",
   "language": "python",
   "name": "python3"
  },
  "language_info": {
   "codemirror_mode": {
    "name": "ipython",
    "version": 3
   },
   "file_extension": ".py",
   "mimetype": "text/x-python",
   "name": "python",
   "nbconvert_exporter": "python",
   "pygments_lexer": "ipython3",
   "version": "3.4.2"
  }
 },
 "nbformat": 4,
 "nbformat_minor": 0
}