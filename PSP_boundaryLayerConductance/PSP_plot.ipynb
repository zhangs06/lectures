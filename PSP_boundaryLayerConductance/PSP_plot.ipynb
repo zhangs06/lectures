{
 "cells": [
  {
   "cell_type": "code",
   "execution_count": null,
   "metadata": {
    "collapsed": false
   },
   "outputs": [],
   "source": ["#PSP_plot.py\nimport matplotlib.pyplot as plt\n\ndef plot_start(nrHours):\n    global myPlot\n    f, myPlot = plt.subplots(3, figsize=(12,12))\n    f.subplots_adjust(hspace=0.1)\n    for i in range(3):\n        myPlot[i].set_xlim(0, nrHours)\n        \n    myPlot[2].set_xlabel(\"Time [h]\",fontsize=14,labelpad=6)\n    myPlot[0].set_ylabel(\"Wind speed [m/s]\",fontsize=14,labelpad=6)\n    myPlot[0].set_ylim(0, 6)\n    myPlot[1].set_ylabel(\"Air Temperature [C]\",fontsize=14,labelpad=6)\n    myPlot[1].set_ylim(10, 30)\n    myPlot[2].set_ylabel(\"Bound. layer cond. [s m$^{-1}$]\",fontsize=14,labelpad=6)\n    myPlot[2].set_ylim(0, 0.02)\n    \ndef plot_variables(hour, windSpeed, airT, boundaryLayerConductance):\n    myPlot[0].plot(hour, windSpeed,'k.')\n    myPlot[1].plot(hour, airT,'ro')\n    myPlot[2].plot(hour, boundaryLayerConductance,'k*')\n\ndef plot_end():\n    plt.show()\n"]
  }
 ],
 "metadata": {
  "kernelspec": {
   "display_name": "Python 3",
   "language": "python",
   "name": "python3"
  },
  "language_info": {
   "codemirror_mode": {
    "name": "ipython",
    "version": 3
   },
   "file_extension": ".py",
   "mimetype": "text/x-python",
   "name": "python",
   "nbconvert_exporter": "python",
   "pygments_lexer": "ipython3",
   "version": "3.4.2"
  }
 },
 "nbformat": 4,
 "nbformat_minor": 0
}