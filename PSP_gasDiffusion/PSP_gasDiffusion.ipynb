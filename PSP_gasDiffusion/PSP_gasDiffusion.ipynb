{
 "cells": [
  {
   "cell_type": "code",
   "execution_count": null,
   "metadata": {
    "collapsed": false
   },
   "outputs": [],
   "source": ["#PSP_gasDiffusion\nfrom __future__ import print_function, division\nfrom math import exp\nfrom PSP_ThomasAlgorithm import ThomasBoundaryCondition\nimport PSP_grid as grid\nimport matplotlib.pyplot as plt\nimport numpy as np\n\ndef gasSolver(boundaryLayerCond, boundaryOxygenConc, dg, respRate, totalDepth, n):\n    a  = np.zeros(n+2, float)  \n    b  = np.zeros(n+2, float)  \n    c  = np.zeros(n+2, float)  \n    d  = np.zeros(n+2, float) \n    g  = np.zeros(n+2, float) \n    u  = np.zeros(n+2, float)  \n    co = np.zeros(n+2, float)  \n    \n    g[0] = boundaryLayerCond\n    co[0] = boundaryOxygenConc\n    # vector depth [m]\n    z = grid.linear(n, totalDepth)\n    \n    # initialize matrix\n    for i in range(1, n+1):\n        u[i] = respRate * exp(-z[i] / 0.3) * (z[i + 1] - z[i - 1]) / 2.0\n        if i < n:\n            g[i] = dg / (z[i + 1] - z[i])\n        else:\n            g[i] = 0\n        a[i + 1] = -g[i]\n        b[i] = g[i - 1] + g[i]\n        c[i] = -g[i]\n        d[i] = u[i]\n\n    d[1] = d[1] + g[0] * co[0]\n    \n    ThomasBoundaryCondition(a, b, c, d, co, 1, n)\n    \n    return(z, co)\n\n\ndef main():\n    R = 8.3143                     \n    n = 20                        \n    totalDepth = 1.0               \n    bulkDensity = 1200.            \n    particleDensity = 2650.         \n    waterContent = 0.4                 \n    respRate = -0.001               \n    oxygenDiff = 1.77e-5           \n    temperature = 25.             \n    atmPressure = 101.3           \n    boundaryLayerCond = 0.01     \n    \n    # O2 concentration in air [g/m^3]\n    boundaryOxygenConc = (0.21 * atmPressure * 1000. * 32. / (R * (temperature + 273.15))) \n    porosity = 1. - bulkDensity / particleDensity\n    gasPorosity = porosity - waterContent\n    \n    #  binary diffusion coefficient [m2/s]\n    binaryDiffCoeff = (oxygenDiff * (101.3 / atmPressure) * ((temperature + 273.15) / 273.15)**1.75)\n    \n    bg = 0.9           \n    mg = 2.3           \n    dg = binaryDiffCoeff * bg * gasPorosity**mg\n    \n    z, co = gasSolver(boundaryLayerCond, boundaryOxygenConc, dg, respRate, totalDepth, n)\n      \n    print (\"node   depth [m]   Co [g\\m^3]\")\n    for i in range(n + 2):\n        print (\"%3d    %6.2f      %.2f\" %(i, z[i], co[i]))\n\n    # plot results\n    fig = plt.figure(figsize=(10,8))\n    for i in range(n+1):\n        plt.plot(co[i], -z[i], 'ko')\n        \n    plt.xlabel('Concentration [g m$^{-3}$]',fontsize=20,labelpad=8)\n    plt.ylabel('Depth [m]',fontsize=20,labelpad=8)\n    plt.tick_params(axis='both', which='major', labelsize=20,pad=8)\n    plt.tick_params(axis='both', which='minor', labelsize=20,pad=8)\n    plt.show()\nmain()\n"]
  }
 ],
 "metadata": {
  "kernelspec": {
   "display_name": "Python 3",
   "language": "python",
   "name": "python3"
  },
  "language_info": {
   "codemirror_mode": {
    "name": "ipython",
    "version": 3
   },
   "file_extension": ".py",
   "mimetype": "text/x-python",
   "name": "python",
   "nbconvert_exporter": "python",
   "pygments_lexer": "ipython3",
   "version": "3.4.2"
  }
 },
 "nbformat": 4,
 "nbformat_minor": 0
}