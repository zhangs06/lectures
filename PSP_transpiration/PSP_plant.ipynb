{
 "cells": [
  {
   "cell_type": "code",
   "execution_count": null,
   "metadata": {
    "collapsed": false
   },
   "outputs": [],
   "source": ["#PSP_plant.py\nfrom __future__ import division\nfrom PSP_public import *\nfrom PSP_soil import *\n\nt = np.zeros(n+2)\nRr = np.zeros(n+2)\nrs = np.zeros(n+2)\nbz = np.zeros(n+2)\nleafPot=np.zeros(n+2)\n#pb=np.zeros(n+2)\n    \ndef InitTransp(soil, z):\n    rw = 25000000000\n    r1 = 0.001\n    for i in range(1, n+1):\n        if (z[i] > rootMin and z[i] < rootDepth):\n            L = 40000 * (rootDepth - z[i]) / rootDepth\n            Rr[i] = 2 * rw / (L * (z[i+1] - z[i-1]))\n            bz[i] = ((1 - soil.Campbell_n) * \n            np.log(np.pi * r1 * r1 * L) / (2 * np.pi * L * (z[i+1] - z[i-1])))\n        else:\n            Rr[i] = 1E+20\n            bz[i] = 0\n    return\n\ndef PlantWaterUptake(tp, funcType, soil, theta, psi, z):\n    pc = -1500\n    RL = 3000000\n    sp = 10\n    pl = 0\n    pb = 0\n    rb = 0\n    for i in range(1, n+1):\n        rs[i] = bz[i] / hydraulicConductivityFromTheta(funcType, soil, theta[i])\n        pb = pb + psi[i] / (Rr[i] + rs[i])\n        rb = rb + 1 / (Rr[i] + rs[i])\n    pb = pb / rb\n    rb = 1 / rb\n    if (pl > pb):\n        pl = pb - tp * (RL + rb)\n    f = 11\n    while(abs(f)>10):\n        xp = np.power(pl / pc,sp)\n        sl = tp * (RL + rb) * xp * sp / (pl * (1 + xp) * (1 + xp)) - 1\n        f = pb - pl - tp * (RL + rb) / (1 + xp)\n        pl = pl - f / sl  \n    tr = tp / (1 + xp)\n    for i in range(1, n+1):  \n        t[i] = (psi[i] - pl - RL * tr) / (Rr[i] + rs[i])  \n    return tr,pl,pb\n"]
  }
 ],
 "metadata": {
  "kernelspec": {
   "display_name": "Python 3",
   "language": "python",
   "name": "python3"
  },
  "language_info": {
   "codemirror_mode": {
    "name": "ipython",
    "version": 3
   },
   "file_extension": ".py",
   "mimetype": "text/x-python",
   "name": "python",
   "nbconvert_exporter": "python",
   "pygments_lexer": "ipython3",
   "version": "3.4.2"
  }
 },
 "nbformat": 4,
 "nbformat_minor": 0
}