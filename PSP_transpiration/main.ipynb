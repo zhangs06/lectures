{
 "cells": [
  {
   "cell_type": "code",
   "execution_count": null,
   "metadata": {
    "collapsed": false
   },
   "outputs": [],
   "source": ["#PSP_transpiration\nfrom __future__ import print_function, division\nfrom PSP_public import *\nimport matplotlib.pyplot as plt\nimport PSP_vapor1D as vap\n\ndef main():  \n    isSuccess, soil = vap.readSoil(\"soil.txt\")\n    if not isSuccess: \n        print(\"warning: wrong soil file.\")\n        return\n    \n    funcType = vap.CAMPBELL\n    \n    print (vap.CELL_CENT_FIN_VOL,' Cell-Centered Finite Volume')\n    print (vap.NEWTON_RAPHSON_MP,' Matric Potential with Newton-Raphson')\n    solver = int(input(\"Select solver: \"))\n\n    myStr = \"]0, \" + format(soil.thetaS, '.2f') \n    myStr += \"] initial water content (m^3 m^-3):\" \n    thetaIni = vap.NODATA\n    print()\n    while ((thetaIni <= soil.VG_thetaR) or (thetaIni > soil.thetaS)):\n        thetaIni = float(input(myStr))\n\n    vap.initializeWater(funcType, soil, thetaIni)\n    vap.plant.InitTransp(soil, vap.z)  \n  \n    print()\n    print (\"1: Free drainage\")\n    print (\"2: Constant water potential\")\n    boundary = int(input(\"Select lower boundary condition:\"))\n    if (boundary == 1):\n        isFreeDrainage = True\n    else:\n        isFreeDrainage = False\n   \n    simulationLenght = int(input(\"\\nNr of simulation hours:\"))    \n    endTime = simulationLenght * 3600                 \n    dt = maxTimeStep / 10               \n    time = 0                            \n    sumETr = 0\n    totalIterationNr = 0\n\t\n    plt.ion()\n    f, myPlot = plt.subplots(4, figsize=(8, 9), dpi=80)\n    f.subplots_adjust(hspace=.35)\n    myPlot[0].tick_params(axis='both', which='major', labelsize=12,pad=4)\n    myPlot[1].tick_params(axis='both', which='major', labelsize=12,pad=4)\n    myPlot[2].tick_params(axis='both', which='major', labelsize=12,pad=4)\n    myPlot[3].tick_params(axis='both', which='major', labelsize=12,pad=4)\n    \n    myPlot[1].set_xlim(0, simulationLenght)\n    myPlot[1].set_ylim(0, 0.8)\n    myPlot[1].set_ylabel(\"Evapotransp. Rate [mm h$^{-1}$]\")\n    myPlot[1].set_xlabel(\"Time [h]\")\n    myPlot[3].set_xlim(0, simulationLenght)\n    myPlot[3].set_xlabel(\"Time [-]\")\n    myPlot[3].set_ylabel(\"Water potential [J kg$^{-1}$]\")\n    \n    while (time < endTime):\n    \n        dt = min(dt, endTime - time)\n        TimeOfDay = float(time%(3600*24))/3600.\n        tp = vap.fi * vap.ETp * 2.3 * vap.np.power(0.05 \n                        + vap.np.sin(0.0175 * 7.5 * TimeOfDay),4.)   \n        vap.plant.PlantWaterUptake(tp, funcType, soil, vap.theta, vap.psi, vap.z)\n        \n        if (solver == vap.CELL_CENT_FIN_VOL):\n            success, nrIterations, flux = vap.cellCentFiniteVolWater(funcType, soil, dt, isFreeDrainage)\n        elif (solver == vap.NEWTON_RAPHSON_MP):\n            success, nrIterations, flux = vap.NewtonRapsonMP(funcType, soil, dt, isFreeDrainage)\n        totalIterationNr += nrIterations\n        \n        transp, leafPot, soilPot=vap.plant.PlantWaterUptake(tp, funcType, soil, vap.theta, vap.psi, vap.z) \n        print (\"leafPot\",leafPot)\n        \n        if (success):\n            for i in range(vap.n+1):\n                vap.oldTheta[i] = vap.theta[i]\n                vap.oldvapor[i] = vap.vapor[i]\n                vap.oldpsi[i] = vap.psi[i]\n                \n            sumETr += flux * dt \n            print(\"time =\", int(time), \"\\tdt =\", int(dt), \n                  \"\\tIter. =\", int(nrIterations), \n                  \"\\tsum ETr:\", format(sumETr, '.3f'))\n            time += dt\n          \n            myPlot[0].clear()\n            myPlot[0].set_xlabel(\"Water content [m$^3$ m$^{-3}$]\")\n            myPlot[0].set_ylabel(\"Depth [m]\")\n            myPlot[0].set_xlim(-0, soil.thetaS)\n            myPlot[0].plot(vap.theta[1:vap.n+1], -vap.z[1:vap.n+1], 'ko')\n            myPlot[1].plot(time/3600., flux*3600., 'ko')\n            myPlot[2].clear()\n            myPlot[2].set_xlabel(\"Root Water Uptake [-]\")\n            myPlot[2].set_ylabel(\"Depth [m]\")\n            myPlot[2].set_xlim(-0.5e-5,1.5e-5)\n            myPlot[2].plot(vap.plant.t[1:vap.n+1], -vap.z[1:vap.n+1], 'ko')\n            myPlot[3].plot(time/3600., leafPot, 'ko')\n            myPlot[3].plot(time/3600., soilPot, 'k^')\n            plt.pause(0.0001)\n            \n            if (float(nrIterations/vap.maxNrIterations) < 0.1): \n                    dt = min(dt*2, maxTimeStep)\n        else:\n            print (\"time =\", int(time), \"\\tdt =\", int(dt), \"No convergence\")\n            dt = max(dt / 2, minTimeStep)\n            for i in range(vap.n+1):\n                vap.theta[i] = vap.oldTheta[i]\n                vap.vapor[i] = vap.oldvapor[i]\n                vap.psi[i] = vap.waterPotential(funcType, soil, vap.theta[i])\n            \n    plt.ioff()\n    plt.show()\nmain()\n\n"]
  }
 ],
 "metadata": {
  "kernelspec": {
   "display_name": "Python 3",
   "language": "python",
   "name": "python3"
  },
  "language_info": {
   "codemirror_mode": {
    "name": "ipython",
    "version": 3
   },
   "file_extension": ".py",
   "mimetype": "text/x-python",
   "name": "python",
   "nbconvert_exporter": "python",
   "pygments_lexer": "ipython3",
   "version": "3.4.2"
  }
 },
 "nbformat": 4,
 "nbformat_minor": 0
}