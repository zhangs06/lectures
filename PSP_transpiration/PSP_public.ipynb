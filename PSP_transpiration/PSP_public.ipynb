{
 "cells": [
  {
   "cell_type": "code",
   "execution_count": null,
   "metadata": {
    "collapsed": false
   },
   "outputs": [],
   "source": ["#PSP_public.py\nNODATA = -9999.\n\n\nrootDepth = 0.6\nrootMin = 0.02\nTKelvin = 293               \nsvp = 0.017                \nETp = 0.2/3600.             \nrhAir = 0.5                \nfi = 0.9                    \n\nn = 50                        \narea = 1                    \nmaxNrIterations = 100\ntolerance = 1e-3\nmaxTimeStep = 3600\nminTimeStep = 6\n\nwaterDensity = 1000.  \nL = 2.45e6                  \ng = 9.8065                   \nMw = 0.018                  \nR = 8.31                    \nwaterVapourDiff0 = 2.12E-5  \nzeroKelvin = 273.15\n"]
  }
 ],
 "metadata": {
  "kernelspec": {
   "display_name": "Python 3",
   "language": "python",
   "name": "python3"
  },
  "language_info": {
   "codemirror_mode": {
    "name": "ipython",
    "version": 3
   },
   "file_extension": ".py",
   "mimetype": "text/x-python",
   "name": "python",
   "nbconvert_exporter": "python",
   "pygments_lexer": "ipython3",
   "version": "3.4.2"
  }
 },
 "nbformat": 4,
 "nbformat_minor": 0
}