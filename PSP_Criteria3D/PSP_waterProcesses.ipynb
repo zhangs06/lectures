{
 "cells": [
  {
   "cell_type": "code",
   "execution_count": null,
   "metadata": {
    "collapsed": false
   },
   "outputs": [],
   "source": ["#PSP_waterProcesses.py\nfrom __future__ import division\nfrom PSP_dataStructures import *\nimport PSP_soil as soil\nimport PSP_balance as balance\n\ndef redistribution(i, link, isLateral, deltaT):\n    j = link.index\n    k = soil.meanK(C3DParameters.meanType, C3DCells[i].k, C3DCells[j].k)\n    if (isLateral):\n        k *= C3DParameters.conductivityHVRatio\n        \n    return (k * link.area) / link.distance\n\n\ndef infiltration(surf, sub, link, deltaT, isFirstApprox):\n    if (C3DCells[surf].z > C3DCells[sub].H):\n        #unsaturated\n        Havg = (C3DCells[surf].H + C3DCells[surf].H0) * 0.5\n        Hs = Havg - C3DCells[surf].z\n        if isFirstApprox:\n            rain =  (C3DCells[surf].sinkSource \n                     / C3DCells[surf].area) * (deltaT / 2.0)\n            Hs += rain\n        if (Hs < 1E-12): return 0.0\n        \n        interfaceK = soil.meanK(C3DParameters.meanType, \n                                C3DCells[sub].k, soil.C3DSoil.Ks)\n        dH = C3DCells[surf].H - C3DCells[sub].H\n        maxK = (Hs / deltaT) * (link.distance / dH)\n        k = min(interfaceK , maxK)\n    else:\n        #saturated\n        k = soil.C3DSoil.Ks\n    \n    return (k  * link.area) / link.distance\n\n\ndef runoff(i, link, deltaT, isFirstApprox):\n    j = link.index\n    zmax = max(C3DCells[i].z, C3DCells[j].z)\n    Hmax = max((C3DCells[i].H + C3DCells[i].H0)/ 2.0, \n               (C3DCells[j].H + C3DCells[j].H0)/ 2.0)\n    Hs = Hmax - (zmax + C3DParameters.pond) \n\n    if isFirstApprox:\n        rain = (C3DCells[i].sinkSource / C3DCells[i].area) * (deltaT / 2.0)\n        Hs += rain\n    if (Hs <= EPSILON_METER): return(0.0)\n    \n    dH = fabs(C3DCells[i].H - C3DCells[j].H)\n    if (dH < EPSILON_METER): return (0.0)\n    \n    # [m/s] Manning equation\n    v = (pow(Hs, 2.0 / 3.0) * sqrt(dH/link.distance)) / C3DParameters.roughness\n    Courant = v * deltaT / link.distance\n    balance.maxCourant = max(balance.maxCourant, Courant)\n\n    # on surface: link.area = side length [m]\n    area = link.area * Hs \n    return (v / dH) * area\n\n"]
  }
 ],
 "metadata": {
  "kernelspec": {
   "display_name": "Python 3",
   "language": "python",
   "name": "python3"
  },
  "language_info": {
   "codemirror_mode": {
    "name": "ipython",
    "version": 3
   },
   "file_extension": ".py",
   "mimetype": "text/x-python",
   "name": "python",
   "nbconvert_exporter": "python",
   "pygments_lexer": "ipython3",
   "version": "3.4.2"
  }
 },
 "nbformat": 4,
 "nbformat_minor": 0
}