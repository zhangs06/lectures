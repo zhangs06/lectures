{
 "cells": [
  {
   "cell_type": "code",
   "execution_count": null,
   "metadata": {
    "collapsed": false
   },
   "outputs": [],
   "source": ["#PSP_fileUtilities\nfrom PSP_dataStructures import *\nimport PSP_criteria3D as criteria3D\nimport PSP_soil as soil\nfrom PSP_readDataFile import readDataFile\nimport sys\n\nif sys.version_info < (3, 0):\n    from tkFileDialog import askopenfilename, asksaveasfilename            #2.7\nelse:\n    from tkinter.filedialog import askopenfilename, asksaveasfilename      #3.x\n    \n    \ndef getStateFileName(isSave):\n    options = {}\n    options['defaultextension'] = \".csv\"\n    options['filetypes'] = [(\"Comma separated values\", \".csv\")]\n    options['initialdir'] = \"data\"\n    if isSave:\n        fileName = asksaveasfilename(**options)\n    else:\n        fileName = askopenfilename(**options)\n    \n    return fileName\n\n\ndef saveState():\n    fileName = getStateFileName(True)\n    if fileName != \"\":\n        f = open(fileName, \"w\")\n        lastLayer = C3DStructure.nrLayers-1\n        #depth\n        for layer in range(C3DStructure.nrLayers):\n            f.write(str(soil.depth[layer]))\n            if layer < lastLayer: f.write(\",\")\n            else: f.write(\"\\n\")\n        #water potential\n        for i in range(C3DStructure.nrTriangles):\n            for layer in range(C3DStructure.nrLayers):\n                index = i + C3DStructure.nrTriangles * layer\n                h = C3DCells[index].H - C3DCells[index].z\n                if fabs(h) < 1E-12: h = 0.0\n                f.write(str(h))\n                if layer < lastLayer: f.write(\",\")\n                else: f.write(\"\\n\")\n                   \n                   \ndef loadState():\n    fileName = getStateFileName(False)\n    if fileName == \"\": return False\n    state, isFileOk = readDataFile(fileName, 0, \",\", False)\n    if (not isFileOk): \n        print(\"Wrong state file.\")\n        return False\n    #first row: depth\n    depth = state[0]\n    #surface\n    for i in range(C3DStructure.nrTriangles):\n        criteria3D.setMatricPotential(i, state[i+1][0])\n    #subsurface\n    for layer in range(1, C3DStructure.nrLayers):\n        minDistance = 100.0\n        l = NODATA\n        for stateLayer in range(1, len(depth)):\n            dz =  fabs(soil.depth[layer] - depth[stateLayer])\n            if dz < minDistance:\n                minDistance = dz\n                l = stateLayer\n        if (l != NODATA):\n            for i in range(C3DStructure.nrTriangles):\n                index = layer * C3DStructure.nrTriangles + i \n                criteria3D.setMatricPotential(index, state[i+1][l])\n    return True\n\n"]
  }
 ],
 "metadata": {
  "kernelspec": {
   "display_name": "Python 3",
   "language": "python",
   "name": "python3"
  },
  "language_info": {
   "codemirror_mode": {
    "name": "ipython",
    "version": 3
   },
   "file_extension": ".py",
   "mimetype": "text/x-python",
   "name": "python",
   "nbconvert_exporter": "python",
   "pygments_lexer": "ipython3",
   "version": "3.4.2"
  }
 },
 "nbformat": 4,
 "nbformat_minor": 0
}