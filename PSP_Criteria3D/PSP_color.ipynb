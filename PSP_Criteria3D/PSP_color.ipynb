{
 "cells": [
  {
   "cell_type": "code",
   "execution_count": null,
   "metadata": {
    "collapsed": false
   },
   "outputs": [],
   "source": ["#PSP_color.py\nfrom __future__ import print_function, division\nimport numpy as np\n\ncolorScaleTIN = np.array([[],[]], float)\ncolorRangeSE = np.array([[],[]], float)\ncolorRangeSurfaceWater = np.array([[],[]], float)\n\ndef setColorScale(nrLevels, keyColors):\n    for i in range (len(keyColors)):\n        for j in range (3):\n            keyColors[i,j] /= 256.\n            \n    nrIntervals = len(keyColors)-1\n    step = int(max(nrLevels / nrIntervals, 1))\n    myScale = np.zeros((nrLevels, 3), float)\n    \n    for i in range (nrIntervals):\n        dRed = (keyColors[i+1,0] - keyColors[i,0]) / step\n        dGreen = (keyColors[i+1,1] - keyColors[i,1]) / step\n        dBlue = (keyColors[i+1,2] - keyColors[i,2]) / step\n   \n        for j in range (step):\n            index = step * i + j\n            myScale[index, 0] = keyColors[i,0] + (dRed * j)\n            myScale[index, 1] = keyColors[i,1] + (dGreen * j)\n            myScale[index, 2] = keyColors[i,2] + (dBlue * j)\n    \n    lastIndex = index\n    if (lastIndex < (nrLevels-1)):\n        for i in range(lastIndex, nrLevels):\n            myScale[i] = myScale[lastIndex]\n    return (myScale)\n\ndef setColorScaleTIN():\n    global colorScaleTIN\n    keyColors = np.zeros((4,3),float)\n    keyColors[0] = (32, 128, 16)     #green\n    keyColors[1] = (255, 196, 18)    #yellow\n    keyColors[2] = (118, 64, 18)     #brown\n    keyColors[3] = (160, 160, 160)   #grey\n    colorScaleTIN = setColorScale(512, keyColors)\n\ndef setColorScaleDegreeOfSaturation():\n    global colorRangeSE\n    keyColors = np.zeros((3,3),float)\n    \n    keyColors[0] = (255, 0, 0)       # red\n    keyColors[1] = (255, 255, 0)     # yellow\n    keyColors[2] = (0, 0, 255)       # blue\n    colorRangeSE = setColorScale(1024, keyColors)\n    \ndef setColorScaleSurfaceWater():\n    global colorRangeSurfaceWater\n    keyColors = np.zeros((3,3),float)\n    keyColors[0] = (255, 255, 255)   #white\n    keyColors[1] = (0, 255, 255)     \n    keyColors[2] = (0, 0, 255)       #blue\n    colorRangeSurfaceWater = setColorScale(512, keyColors)\n    \ndef setAllColorScale():\n    setColorScaleTIN()\n    setColorScaleDegreeOfSaturation()\n    setColorScaleSurfaceWater()\n    \ndef getTINColor(z, header):\n    zRelative = (z - header.zMin) / header.dz\n    index = int(zRelative * (len(colorScaleTIN)-1))\n    index = min(len(colorScaleTIN)-1, max(index, 0))\n    return(colorScaleTIN[index])\n\ndef getSEColor(degreeSaturation, minimum, maximum):\n    perc = (degreeSaturation-minimum) / (maximum-minimum)\n    perc = min(1.0, max(0.0, perc))\n    index = int(perc * (len(colorRangeSE)-1))\n    return(colorRangeSE[index])\n\ndef getSurfaceWaterColor(waterHeight, maximum):\n    perc = waterHeight / maximum\n    perc = min(1.0, max(0.0, perc))\n    index = int(perc*(len(colorRangeSurfaceWater)-1))\n    return colorRangeSurfaceWater[index]\n\n\n"]
  }
 ],
 "metadata": {
  "kernelspec": {
   "display_name": "Python 3",
   "language": "python",
   "name": "python3"
  },
  "language_info": {
   "codemirror_mode": {
    "name": "ipython",
    "version": 3
   },
   "file_extension": ".py",
   "mimetype": "text/x-python",
   "name": "python",
   "nbconvert_exporter": "python",
   "pygments_lexer": "ipython3",
   "version": "3.4.2"
  }
 },
 "nbformat": 4,
 "nbformat_minor": 0
}