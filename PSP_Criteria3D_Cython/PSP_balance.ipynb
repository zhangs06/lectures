{
 "cells": [
  {
   "cell_type": "code",
   "execution_count": null,
   "metadata": {
    "collapsed": false
   },
   "outputs": [],
   "source": ["#PSP_balance.py\nfrom __future__ import print_function, division\nfrom PSP_soil import *\nimport sys\n\nclass C3DBalance:\n    waterStorage = NODATA\n    waterFlow = NODATA\n    MBE = NODATA\n    MBR = NODATA\n\ntotalTime = 0.0\ncurrentPrec = 0.0\nMBRMultiply = 1.0\nmaxCourant = 0.0\nbestMBR = NODATA\nforceExit = False\ncurrentStep = C3DBalance()\npreviousStep = C3DBalance()\nallSimulation = C3DBalance()\n    \ndef doubleTimeStep():\n    C3DParameters.currentDeltaT = min(C3DParameters.currentDeltaT * 2.0, \n                                      C3DParameters.deltaT_max)\n    \ndef halveTimeStep():\n    C3DParameters.currentDeltaT = max(C3DParameters.currentDeltaT * 0.5, \n                                      C3DParameters.deltaT_min)\n    \ndef incMBRThreshold():\n    global MBRMultiply\n    MBRMultiply *= 2.0\n    C3DParameters.MBRThreshold *= 2.0\n    \ndef decMBRThreshold():\n    global MBRMultiply\n    if (MBRMultiply > 1.0):\n        MBRMultiply *= 0.5\n        C3DParameters.MBRThreshold *= 0.5\n        \ndef initializeBalance():\n    global totalTime\n    totalTime = 0.0\n    storage = getWaterStorage()\n    currentStep.waterStorage = storage\n    previousStep.waterStorage = storage\n    allSimulation.waterStorage = storage\n    previousStep.waterFlow = 0.0\n    currentStep.waterFlow = 0.0\n    allSimulation.waterFlow = 0.0\n    currentStep.MBR = 0.0\n    currentStep.MBE = 0.0 \n    allSimulation.MBE = 0\n    \ndef updateBalance(deltaT):\n    global totalTime\n    totalTime += deltaT\n    previousStep.waterStorage = currentStep.waterStorage\n    previousStep.waterFlow = currentStep.waterFlow\n    allSimulation.waterFlow += currentStep.waterFlow\n    allSimulation.MBE += currentStep.MBE\n        \ndef getWaterStorage():\n    waterStorage = 0.0\n    for i in range(C3DStructure.nrCells):\n        if (C3DCells[i].isSurface):\n            if (C3DCells[i].H > C3DCells[i].z):\n                waterStorage += (C3DCells[i].H - C3DCells[i].z) * C3DCells[i].area\n        else:\n            waterStorage += (getVolumetricWaterContent(i) * C3DCells[i].volume)\n    return waterStorage\n                    \ndef sumBoundaryFlow(deltaT):\n    mySum = 0.0\n    for i in range(C3DStructure.nrCells):\n        if (C3DCells[i].boundary.type != BOUNDARY_NONE):\n            if (C3DCells[i].boundary.flow != NODATA):\n                mySum += C3DCells[i].boundary.flow * deltaT\n    return (mySum)\n\ndef sumSinkSource(deltaT):\n    mySum = 0.0\n    for i in range(C3DStructure.nrCells):\n        if (C3DCells[i].sinkSource != NODATA):\n            mySum += C3DCells[i].sinkSource * deltaT\n    return (mySum)\n\ndef sumWaterFlow(deltaT, isAbsoluteValue):\n    mySum = 0.0\n    for i in range(C3DStructure.nrCells):\n        if (C3DCells[i].flow != NODATA):\n            if isAbsoluteValue:\n                mySum += fabs(C3DCells[i].flow * deltaT)\n            else:\n                mySum += C3DCells[i].flow * deltaT\n    return (mySum)\n                                    \ndef computeBalanceError(deltaT):\n    currentStep.waterStorage = getWaterStorage()\n    currentStep.waterFlow = sumWaterFlow(deltaT, False)\n    deltaStorage = currentStep.waterStorage - previousStep.waterStorage\n    currentStep.MBE = deltaStorage - currentStep.waterFlow\n    \n    sumFlow = sumWaterFlow(deltaT, True)\n    minimumFlow = C3DStructure.totalArea * EPSILON_METER * (deltaT / 3600.0)\n    if (sumFlow < minimumFlow):\n        currentStep.MBR = fabs(currentStep.MBE) / minimumFlow\n    else:\n        currentStep.MBR = fabs(currentStep.MBE) / sumFlow\n    print (\"Mass Balance Error [m^3]:\", format(currentStep.MBE,\".5f\"))\n    print (\"Mass Balance Ratio:\", format(currentStep.MBR,\".5f\"))\n    \ndef waterBalance(deltaT, approximation):\n    global bestMBR, forceExit\n    if (approximation == 1): bestMBR = 100.0\n    computeBalanceError(deltaT)\n    isLastApprox = (approximation == C3DParameters.maxApproximationsNr)\n    \n    forceExit = False\n    # case 1: error < tolerance\n    if currentStep.MBR <= C3DParameters.MBRThreshold:\n        updateBalance(deltaT)\n        if ((approximation < 3) and (maxCourant < 0.5) \n        and (currentStep.MBR < (C3DParameters.MBRThreshold * 0.5))):\n                print(\"Good MBR!\")\n                if (deltaT >= (C3DParameters.deltaT_min * 10)):\n                    decMBRThreshold()\n                doubleTimeStep()\n        return True\n    #case 2: error decreases\n    if (currentStep.MBR < bestMBR):\n        bestMBR = currentStep.MBR\n        if isLastApprox:\n            if (deltaT == C3DParameters.deltaT_min):\n                updateBalance(deltaT)\n                return True\n            else:\n                halveTimeStep()\n                forceExit = True\n                return False \n        return False\n    # case 3: error increases\n    if (deltaT > C3DParameters.deltaT_min):\n        print(\"Solution is not convergent: decrease time step\")\n        halveTimeStep()\n        forceExit = True\n        return False\n    else:\n        print(\"Solution is not convergent: increase error tolerance\")\n        incMBRThreshold()\n        return False\n        \n        "]
  }
 ],
 "metadata": {
  "kernelspec": {
   "display_name": "Python 3",
   "language": "python",
   "name": "python3"
  },
  "language_info": {
   "codemirror_mode": {
    "name": "ipython",
    "version": 3
   },
   "file_extension": ".py",
   "mimetype": "text/x-python",
   "name": "python",
   "nbconvert_exporter": "python",
   "pygments_lexer": "ipython3",
   "version": "3.4.2"
  }
 },
 "nbformat": 4,
 "nbformat_minor": 0
}