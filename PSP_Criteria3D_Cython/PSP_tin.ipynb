{
 "cells": [
  {
   "cell_type": "code",
   "execution_count": null,
   "metadata": {
    "collapsed": false
   },
   "outputs": [],
   "source": ["#PSP_tin.py\nfrom __future__ import print_function, division\nfrom PSP_public import *\nimport numpy as np\nfrom copy import copy\n\nclass CheaderTin():     \n    xMin = NODATA  \n    xMax = NODATA\n    yMin = NODATA\n    yMax = NODATA\n    zMin = NODATA\n    zMax = NODATA \n    dz = NODATA     \n    magnify = NODATA\n    \nclass Ctriangle:\n    def __init__(self, v = np.zeros((3, 3), float)):\n        self.isBoundary = False\n        self.boundarySlope = NODATA\n        self.boundarySide = NODATA\n        self.v = copy(v)\n        if (not np.all(v == 0.0)): \n            self.centroid = (v[0]+v[1]+v[2])/3.0\n            self.area = getArea2D(self.v)\n\n#global structures\nheader = CheaderTin()\nC3DTIN = []\n\ndef magnitude(v):\n    return(np.sqrt(v.dot(v)))\n\ndef getArea(v):\n    return 0.5 * magnitude(np.cross(v[1] - v[0], v[2] - v[0]))\n\n# Area = 1/2 |x1(y2-y3) - x2(y1-y3) + x3(y1 - y2)| \ndef getArea2D(v):\n    x = v[:,0]\n    y = v[:,1]\n    return 0.5 * fabs(x[0]*(y[1]-y[2]) - x[1]*(y[0]-y[2]) + x[2]*(y[0]-y[1]))\n\ndef getHeader(triangleList):\n    header = CheaderTin()\n    header.xMin = triangleList[0].centroid[0]\n    header.yMin = triangleList[0].centroid[1]\n    header.zMin = triangleList[0].centroid[2]\n    header.xMax = header.xMin\n    header.yMax = header.yMin\n    header.zMax = header.zMin\n    \n    for i in range(1, len(triangleList)):\n        x = triangleList[i].centroid[0]\n        y = triangleList[i].centroid[1]\n        z = triangleList[i].centroid[2]\n        header.xMin = min(header.xMin, x)\n        header.yMin = min(header.yMin, y)\n        header.zMin = min(header.zMin, z)\n        header.xMax = max(header.xMax, x)\n        header.yMax = max(header.yMax, y)\n        header.zMax = max(header.zMax, z)\n        \n    dx = header.xMax - header.xMin\n    dy = header.yMax - header.yMin\n    header.dz = header.zMax - header.zMin\n    dtmRatio = (sqrt(dx*dy) / header.dz) * 0.1\n    header.magnify = max(2.0, min(6.0, dtmRatio))\n    return(header)\n         \ndef distance2D(v1, v2):\n    dx = fabs(v1[0] - v2[0])\n    dy = fabs(v1[1] - v2[1])\n    return sqrt(dx*dx + dy*dy)\n\ndef distance3D(v1, v2):\n    dx = fabs(v1[0] - v2[0])\n    dy = fabs(v1[1] - v2[1])\n    dz = fabs(v1[2] - v2[2])\n    return sqrt(dx*dx + dy*dy + dz*dz)\n\ndef getSlope(TIN, i, j):\n    dz = TIN[i].centroid[2] - TIN[j].centroid[2]\n    dxy = distance2D(TIN[i].centroid, TIN[j].centroid)\n    return dz/dxy\n\ndef getBoundaryProperties(TIN, index, neighbours):\n    slope = getSlope(TIN, int(neighbours[0]), index)\n    if  (int(neighbours[1]) != NOLINK):\n        slope1 = getSlope(TIN, int(neighbours[1]), index)\n        slope = max(slope, slope1)\n    TIN[index].boundarySlope = slope\n    #TODO - migliorare \n    TIN[index].boundarySide = distance3D(TIN[index].v[0], TIN[index].v[1])        \n        \ndef getAdjacentVertices(t1, t2):\n    isFirst = True\n    for i in range(3):\n        for j in range(3):\n            if (t1[i] == t2[j]):\n                if isFirst:\n                    index1 = t1[i]\n                    isFirst = False\n                else:\n                    index2= t1[i]\n                    return (index1, index2)\n    return NOLINK, NOLINK\n\ndef getAdjacentSide(i, j, vertexList, triangleList):\n    triangle1 = triangleList[i]\n    triangle2 = triangleList[j]\n    index1, index2 = getAdjacentVertices(triangle1, triangle2)\n    v1 = vertexList[index1]\n    v2 = vertexList[index2]\n    return distance2D(v1, v2)     \n\n"]
  }
 ],
 "metadata": {
  "kernelspec": {
   "display_name": "Python 3",
   "language": "python",
   "name": "python3"
  },
  "language_info": {
   "codemirror_mode": {
    "name": "ipython",
    "version": 3
   },
   "file_extension": ".py",
   "mimetype": "text/x-python",
   "name": "python",
   "nbconvert_exporter": "python",
   "pygments_lexer": "ipython3",
   "version": "3.4.2"
  }
 },
 "nbformat": 4,
 "nbformat_minor": 0
}