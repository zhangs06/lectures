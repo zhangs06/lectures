{
 "cells": [
  {
   "cell_type": "code",
   "execution_count": null,
   "metadata": {
    "collapsed": false
   },
   "outputs": [],
   "source": ["#PSP_criteria3D.py\nfrom __future__ import print_function, division\nfrom PSP_dataStructures import *\nimport PSP_soil as soil\nimport PSP_solver as solver\nimport PSP_balance as balance\nfrom PSP_tin import distance3D\n\ndef memoryAllocation(nrLayers, nrTriangles):\n    C3DStructure.nrTriangles = nrTriangles\n    C3DStructure.nrLayers = nrLayers\n    nrCells = nrLayers * nrTriangles\n    C3DStructure.nrCells = nrCells\n    solver.setCriteria3DArrays(nrCells, C3DStructure.nrMaxLinks)\n    for i in range(nrCells): \n        C3DCells.append(Ccell())\n\ndef setCellGeometry(i, x, y, z, volume, area):\n    C3DCells[i].x = x;\n    C3DCells[i].y = y;\n    C3DCells[i].z = z;\n    C3DCells[i].volume = volume;\n    C3DCells[i].area = area;\n\ndef setCellProperties(i, isSurface, boundaryType):\n    C3DCells[i].isSurface = isSurface\n    C3DCells[i].boundary.type = boundaryType\n\ndef setBoundaryProperties(i, area, slope):\n    C3DCells[i].boundary.area = area\n    C3DCells[i].boundary.slope = slope\n\ndef getCellDistance(i, j):\n    v1 = [C3DCells[i].x, C3DCells[i].y, C3DCells[i].z]\n    v2 = [C3DCells[j].x, C3DCells[j].y, C3DCells[j].z]\n    return distance3D(v1, v2)\n\n#-----------------------------------------------------------\n# direction:         UP, DOWN, LATERAL\n# interfaceArea      [m^2]            \n#-----------------------------------------------------------\ndef SetCellLink(i, linkIndex, direction, interfaceArea):\n    if (direction == UP):\n        C3DCells[i].upLink.index = linkIndex\n        C3DCells[i].upLink.area = interfaceArea\n        C3DCells[i].upLink.distance = fabs(C3DCells[i].z - C3DCells[linkIndex].z)\n        return(OK)\n    elif(direction == DOWN):\n        C3DCells[i].downLink.index = linkIndex\n        C3DCells[i].downLink.area = interfaceArea\n        C3DCells[i].downLink.distance = fabs(C3DCells[i].z - C3DCells[linkIndex].z)\n        return(OK)\n    elif (direction == LATERAL):\n        for j in range(C3DStructure.nrLateralLinks):\n            if (C3DCells[i].lateralLink[j].index == NOLINK):     \n                C3DCells[i].lateralLink[j].index = linkIndex\n                C3DCells[i].lateralLink[j].area = interfaceArea \n                C3DCells[i].lateralLink[j].distance = getCellDistance(i, linkIndex)\n                return(OK)\n    else:\n        return(LINK_ERROR)\n\ndef setMatricPotential (i, signPsi):\n    if (C3DCells[i].isSurface):\n        C3DCells[i].H = C3DCells[i].z + max(signPsi, 0.0)\n        C3DCells[i].Se = 1.\n        C3DCells[i].k = soil.C3DSoil.Ks\n    else: \n        C3DCells[i].H = C3DCells[i].z + signPsi\n        C3DCells[i].Se = soil.getDegreeOfSaturation(i)\n        C3DCells[i].k = soil.getHydraulicConductivity(i)\n    C3DCells[i].H0 = C3DCells[i].H\n    return(OK)\n                           \n#-----------------------------------------------------------\n# set uniform rainfall rate\n# rain            [mm]\n# duration        [s]            \n#-----------------------------------------------------------\ndef setRainfall(rain, duration):   \n    rate = (rain * 0.001) / duration                    #[m s^-1]\n    for i in range(C3DStructure.nrTriangles):\n        area = C3DCells[i].area                         #[m^2]\n        C3DCells[i].sinkSource = rate * area            #[m^3 s^-1]\n        \ndef restoreWater():\n    for i in range(C3DStructure.nrCells):\n        C3DCells[i].H = C3DCells[i].H0\n        \n# timeLength        [s]          \ndef compute(timeLength):  \n    currentTime = 0\n    while (currentTime < timeLength):  \n        residualTime = timeLength - currentTime\n        acceptedStep = False\n        while (not acceptedStep):\n            deltaT = min(C3DParameters.currentDeltaT, residualTime)\n            print (\"\\ntime step [s]: \", deltaT)\n            print (\"sink/source [m^3]:\", balance.sumSinkSource(deltaT)) \n             \n            acceptedStep = solver.computeStep(deltaT)          \n            if not acceptedStep: restoreWater()\n        currentTime += deltaT\n"]
  }
 ],
 "metadata": {
  "kernelspec": {
   "display_name": "Python 3",
   "language": "python",
   "name": "python3"
  },
  "language_info": {
   "codemirror_mode": {
    "name": "ipython",
    "version": 3
   },
   "file_extension": ".py",
   "mimetype": "text/x-python",
   "name": "python",
   "nbconvert_exporter": "python",
   "pygments_lexer": "ipython3",
   "version": "3.4.2"
  }
 },
 "nbformat": 4,
 "nbformat_minor": 0
}