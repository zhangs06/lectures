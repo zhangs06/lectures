{
 "cells": [
  {
   "cell_type": "code",
   "execution_count": null,
   "metadata": {
    "collapsed": false
   },
   "outputs": [],
   "source": ["#PSP_solver.py\nfrom __future__ import print_function, division\n\nfrom PSP_waterProcesses import *\nimport PSP_boundaryConditions as boundary\nimport PSP_visual3D as visual3D\nfrom PSP_solverC import * \n\ndef setCriteria3DArrays(nrCells, nrLinks):\n    setArraysC(nrCells, nrLinks)\n    \ndef computeStep(deltaT):\n    global x, C, indices\n    #initialize\n    approximation = 1\n    isValidStep = False\n    for i in range(C3DStructure.nrCells):\n        C3DCells[i].H0 = C3DCells[i].H\n        set_x(i, C3DCells[i].H)\n        if  (C3DCells[i].isSurface): \n            set_C(i, C3DCells[i].area)\n    \n    while ((not isValidStep) \n    and (approximation <= C3DParameters.maxApproximationsNr)):\n        isFirstApprox = (approximation == 1)\n        balance.maxCourant = 0.0\n        for i in range(C3DStructure.nrCells):\n            if (not C3DCells[i].isSurface):\n                C3DCells[i].Se = soil.getDegreeOfSaturation(i)\n                C3DCells[i].k = soil.getHydraulicConductivity(i)\n                dTheta_dH = soil.getdTheta_dH(i)\n                set_C(i, C3DCells[i].volume * dTheta_dH)\n        boundary.updateBoundary(deltaT)\n        \n        print (\"approximation nr:\", approximation)\n        print (\"Sum flows (abs) [m^3]:\", balance.sumWaterFlow(deltaT, True))  \n        visual3D.redraw(False)\n        \n        for i in range(C3DStructure.nrCells):\n            k = 0\n            if (newMatrixElement(i, C3DCells[i].upLink, k, \n                                 False, deltaT, isFirstApprox)): \n                k += 1\n            for l in range(C3DStructure.nrLateralLinks):\n                if (newMatrixElement(i, C3DCells[i].lateralLink[l], k,\n                                 True, deltaT, isFirstApprox)): \n                    k += 1\n            if (newMatrixElement(i, C3DCells[i].downLink, k,\n                                 False, deltaT, isFirstApprox)): \n                k += 1\n            if (k < C3DStructure.nrMaxLinks): \n                set_indices(i, k, NOLINK)\n            \n            arrangeMatrix(i, deltaT, C3DCells[i].H0, C3DCells[i].flow)\n            \n        if ((balance.maxCourant > 1.0) \n        and (deltaT > C3DParameters.deltaT_min)):\n            print (\"Courant too high:\", balance.maxCourant)\n            while (balance.maxCourant > 1.0):\n                balance.halveTimeStep()\n                balance.maxCourant *= 0.5\n            return(False)\n\n        if not solveMatrix(approximation):\n            balance.halveTimeStep()\n            print(\"System not convergent.\")\n            return(False)\n       \n        # new hydraulic head\n        for i in range(0, C3DStructure.nrCells):\n            C3DCells[i].H = get_x(i)\n            # check surface error\n            if (C3DCells[i].isSurface):\n                if (C3DCells[i].H < C3DCells[i].z):\n                    C3DCells[i].H = C3DCells[i].z\n            C3DCells[i].Se = soil.getDegreeOfSaturation(i)\n            \n        # balance\n        isValidStep = balance.waterBalance(deltaT, approximation)\n        if (balance.forceExit): return(False)\n        approximation += 1\n    return (isValidStep)\n\n\ndef  newMatrixElement(i, link, k, isLateral, deltaT, isFirstApprox):\n    global A, indices\n    j = link.index\n    if (j == NOLINK): return (False)\n    \n    value = 0.0\n    if C3DCells[i].isSurface:\n        if C3DCells[j].isSurface:\n            value = runoff(i, link, deltaT, isFirstApprox)\n        else:\n            value = infiltration(i, j, link, deltaT, isFirstApprox)\n    else:\n        if C3DCells[j].isSurface:\n            value = infiltration(j, i, link, deltaT, isFirstApprox)\n        else:\n            value = redistribution(i, link, isLateral, deltaT)\n    if (value == 0.0): return(False)\n    \n    set_indices(i, k, j)\n    set_A(i, k, value)\n    return (True)\n\ndef solveMatrix(approximation):\n    ratio = (C3DParameters.maxIterationsNr \n             / C3DParameters.maxApproximationsNr)\n    maxIterationsNr = max(10, ratio * approximation)\n    \n    iteration = 0\n    norm = 1000.\n    bestNorm = norm\n    while ((norm > C3DParameters.residualTolerance) \n    and (iteration < maxIterationsNr)): \n        norm = GaussSeidel()\n        if norm > (bestNorm * 10.0): return(False)\n        bestNorm = min(norm, bestNorm)\n        iteration += 1\n    return(True)\n"]
  }
 ],
 "metadata": {
  "kernelspec": {
   "display_name": "Python 3",
   "language": "python",
   "name": "python3"
  },
  "language_info": {
   "codemirror_mode": {
    "name": "ipython",
    "version": 3
   },
   "file_extension": ".py",
   "mimetype": "text/x-python",
   "name": "python",
   "nbconvert_exporter": "python",
   "pygments_lexer": "ipython3",
   "version": "3.4.2"
  }
 },
 "nbformat": 4,
 "nbformat_minor": 0
}