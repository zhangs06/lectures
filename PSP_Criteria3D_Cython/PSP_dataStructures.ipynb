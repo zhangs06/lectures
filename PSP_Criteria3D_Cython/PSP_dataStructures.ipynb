{
 "cells": [
  {
   "cell_type": "code",
   "execution_count": null,
   "metadata": {
    "collapsed": false
   },
   "outputs": [],
   "source": ["#PSP_dataStructures.py\nfrom PSP_public import  *\n\nclass C3DStructure:\n    nrLayers = 0\n    nrTriangles = 0\n    nrCells = 0\n    nrLateralLinks = 3\n    nrMaxLinks = 5\n    totalArea = 0\n\nclass Clink:\n    def __init__(self):\n        self.index = NOLINK               # [-] index of linked cell\n        self.area = NODATA                # [m^2] area of interface\n        self.distance = NODATA            # [m]\n    \nclass Cboundary:\n    def __init__(self):\n        self.type = BOUNDARY_NONE\n        self.area = NODATA                # [m^2] area of interface\n        self.slope = NODATA               # [-] slope\n        self.flow = NODATA                # [m^3 s^-1] boundary water flow \n    \nclass Ccell:\n    def __init__(self):\n        self.x = NODATA                   # [m]\n        self.y = NODATA                   # [m]            \n        self.z = NODATA                   # [m]\n        self.area = NODATA                # [m^2] triangle area\n        self.volume = NODATA              # [m^3] volume\n        self.isSurface = False            # true if the cell is on surface\n        self.Se = NODATA                  # [-] degree of saturation\n        self.H = NODATA                   # [m] total water potential\n        self.H0 = NODATA                  # [m] previous total water potential\n        self.k = NODATA                   # [m s^-1] hydraulic conductivity\n        self.sinkSource = NODATA          # [m^3 s^-1] water sink/source\n        self.flow = NODATA                # [m^3 s^-1] sink/source + boundary\n        self.boundary = Cboundary() \n        self.upLink = Clink()\n        self.downLink = Clink()\n        self.lateralLink = [Clink(), Clink(), Clink()]\n\n#global\nC3DCells = []\n"]
  }
 ],
 "metadata": {
  "kernelspec": {
   "display_name": "Python 3",
   "language": "python",
   "name": "python3"
  },
  "language_info": {
   "codemirror_mode": {
    "name": "ipython",
    "version": 3
   },
   "file_extension": ".py",
   "mimetype": "text/x-python",
   "name": "python",
   "nbconvert_exporter": "python",
   "pygments_lexer": "ipython3",
   "version": "3.4.2"
  }
 },
 "nbformat": 4,
 "nbformat_minor": 0
}