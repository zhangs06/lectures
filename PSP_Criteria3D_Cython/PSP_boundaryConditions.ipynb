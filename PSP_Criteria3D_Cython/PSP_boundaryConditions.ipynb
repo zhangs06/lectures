{
 "cells": [
  {
   "cell_type": "code",
   "execution_count": null,
   "metadata": {
    "collapsed": false
   },
   "outputs": [],
   "source": ["#PSP_boundaryConditions.py\nfrom __future__ import print_function, division\nfrom PSP_dataStructures import *\nimport PSP_soil as soil\n\ndef updateBoundary(deltaT):\n    retentionCurve = C3DParameters.waterRetentionCurve \n    for i in range(C3DStructure.nrCells):\n        #sink/source: precipitation, evapotranspiration\n        if (C3DCells[i].sinkSource != NODATA):\n            #[m3 s-1]\n            C3DCells[i].flow = C3DCells[i].sinkSource\n        else:      \n            C3DCells[i].flow = 0.0\n            \n        if (C3DCells[i].boundary.type != BOUNDARY_NONE):\n            C3DCells[i].boundary.flow = 0.0\n            slope = C3DCells[i].boundary.slope \n            meanH = (C3DCells[i].H + C3DCells[i].H0) * 0.5;\n                 \n            if (C3DCells[i].boundary.type == BOUNDARY_RUNOFF):\n                if (slope > 0.0):\n                    Hs = meanH - (C3DCells[i].z + C3DParameters.pond)\n                    if (Hs > EPSILON_METER):\n                        boundaryArea = C3DCells[i].boundary.area * Hs\n                        maxFlow = (Hs * C3DCells[i].area) / deltaT\n                        # Manning equation [m3 s-1]\n                        flow = ((boundaryArea / C3DParameters.roughness) \n                                            * (Hs**(2./3.)) * sqrt(slope))\n                        C3DCells[i].boundary.flow = -min(flow, maxFlow)\n                    \n            elif (C3DCells[i].boundary.type == BOUNDARY_FREELATERALDRAINAGE): \n                if (slope > 0.0):              \n                    signPsi = meanH - C3DCells[i].z\n                    Se = soil.degreeOfSaturation(retentionCurve, signPsi)\n                    k = soil.hydraulicConductivity(retentionCurve, Se)\n                    k *= C3DParameters.conductivityHVRatio\n                    C3DCells[i].boundary.flow = - k * C3DCells[i].boundary.area * slope\n                                      \n            elif (C3DCells[i].boundary.type == BOUNDARY_FREEDRAINAGE):\n                signPsi = meanH - C3DCells[i].z\n                Se = soil.degreeOfSaturation(retentionCurve, signPsi)\n                k = soil.hydraulicConductivity(retentionCurve, Se)\n                C3DCells[i].boundary.flow = -k * C3DCells[i].upLink.area\n                \n            C3DCells[i].flow += C3DCells[i].boundary.flow\n"]
  }
 ],
 "metadata": {
  "kernelspec": {
   "display_name": "Python 3",
   "language": "python",
   "name": "python3"
  },
  "language_info": {
   "codemirror_mode": {
    "name": "ipython",
    "version": 3
   },
   "file_extension": ".py",
   "mimetype": "text/x-python",
   "name": "python",
   "nbconvert_exporter": "python",
   "pygments_lexer": "ipython3",
   "version": "3.4.2"
  }
 },
 "nbformat": 4,
 "nbformat_minor": 0
}