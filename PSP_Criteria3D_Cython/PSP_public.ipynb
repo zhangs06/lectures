{
 "cells": [
  {
   "cell_type": "code",
   "execution_count": null,
   "metadata": {
    "collapsed": false
   },
   "outputs": [],
   "source": ["#PSP_public.py\nfrom math import sqrt, fabs, log\n\nCAMPBELL = 1\nIPPISCH_VG = 2\n\nLOGARITHMIC = 0\nHARMONIC = 1\nGEOMETRIC = 2\n\n# user choices\nclass C3DParameters:\n    waterRetentionCurve = IPPISCH_VG\n    meanType = LOGARITHMIC\n    initialWaterPotential = -2.0            # [m]\n    precFileName = \"data/precipitation.txt\"\n    obsPrecTimeLength = 15                  # [minutes]\n    computeOnlySurface = False\n    isFreeDrainage = True\n    minThickness = 0.01                        # [m]\n    maxThickness = 0.1                      # [m]\n    geometricFactor = 1.2\n    roughness = 0.24                        # [s m^0.33]\n    pond = 0.002                            # [m]\n    currentDeltaT = 60.0                    # [s]\n    deltaT_min = 6.0                        # [s]\n    deltaT_max = obsPrecTimeLength * 60.0   # [s]\n    maxIterationsNr = 100\n    maxApproximationsNr = 10\n    residualTolerance = 1E-12\n    MBRThreshold = 1E-2\n    conductivityHVRatio = 10.0\n\nEPSILON_METER = 1E-5                        # [m]\n\nUP = 1\nDOWN = 2\nLATERAL = 3\n\nNODATA = -9999.\nNOLINK = -1\n        \nBOUNDARY_RUNOFF = 1\nBOUNDARY_FREEDRAINAGE = 2\nBOUNDARY_FREELATERALDRAINAGE = 3\nBOUNDARY_NONE = 99\n\nOK = 1\nINDEX_ERROR = -1111\nLINK_ERROR = -5555\n"]
  }
 ],
 "metadata": {
  "kernelspec": {
   "display_name": "Python 3",
   "language": "python",
   "name": "python3"
  },
  "language_info": {
   "codemirror_mode": {
    "name": "ipython",
    "version": 3
   },
   "file_extension": ".py",
   "mimetype": "text/x-python",
   "name": "python",
   "nbconvert_exporter": "python",
   "pygments_lexer": "ipython3",
   "version": "3.4.2"
  }
 },
 "nbformat": 4,
 "nbformat_minor": 0
}