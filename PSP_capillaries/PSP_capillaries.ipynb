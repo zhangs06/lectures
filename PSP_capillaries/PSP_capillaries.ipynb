{
 "cells": [
  {
   "cell_type": "code",
   "execution_count": null,
   "metadata": {
    "collapsed": false
   },
   "outputs": [],
   "source": ["#PSP_capillaries.py\nfrom visual import *\nfrom math import sqrt\nfrom numpy import *\n\ndef main():\n\tdisplay(background=color.white)\n\tn = 250\n\tx = zeros(n)\n\ty = zeros(n)\n\tr = zeros(n)\n\tfor i in range(n):\n\t\tcheck = 0\n\t\twhile(check == 0):\n\t\t\tx[i] = random.random_sample()-0.5\n\t\t\ty[i] = random.random_sample()-0.5\n\t\t\tcheck = 1\n\t\t\tfor j in range(i):\n\t\t\t\tif ((x[i]-x[j])**2.+(y[i]-y[j])**2.) < r[j]**2.:\n\t\t\t\t\tcheck = 0\n\t\t\tif not(x[i]*x[i]+y[i]*y[i]) < (0.2**2.): \n\t\t\t\tcheck = 0\n\t\t\tr[i] = ((random.random_sample()*4.-2.)**2.+0.5)/4.*0.1\n\t\t\tfor j in range(i):\n\t\t\t\tif ((x[i]-x[j])**2.+(y[i]-y[j])**2.) < (r[j]+r[i])**2.:\n\t\t\t\t\tr[i] = sqrt((x[i]-x[j])**2.+(y[i]-y[j])**2.)-r[j]\n\tfor i in range(n):\n\t\tcylinder(pos=(x[i], y[i], -0.1), axis=(0,0,0.2), radius=r[i])\nmain()"]
  }
 ],
 "metadata": {
  "kernelspec": {
   "display_name": "Python 3",
   "language": "python",
   "name": "python3"
  },
  "language_info": {
   "codemirror_mode": {
    "name": "ipython",
    "version": 3
   },
   "file_extension": ".py",
   "mimetype": "text/x-python",
   "name": "python",
   "nbconvert_exporter": "python",
   "pygments_lexer": "ipython3",
   "version": "3.4.2"
  }
 },
 "nbformat": 4,
 "nbformat_minor": 0
}