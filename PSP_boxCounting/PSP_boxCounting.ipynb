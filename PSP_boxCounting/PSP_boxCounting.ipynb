{
 "cells": [
  {
   "cell_type": "code",
   "execution_count": null,
   "metadata": {
    "collapsed": false
   },
   "outputs": [],
   "source": ["#PSP_boxCounting\nfrom __future__ import print_function, division\nimport math\nfrom PIL import Image\nimport matplotlib.pyplot as plt\n\ndef identifyPores(colorGrid, width, height, myColor):\n    print(\"identifying pores...\")\n    nrPores = 0\n    rgbThreshold = 128          # 128, 128, 128 = gray\n    for x in range(width):\n        for y in range(height):\n            color = colorGrid[x, y]\n            if ((color[0] > rgbThreshold) and \n                (color[1] > rgbThreshold) and (color[2] > rgbThreshold)): \n                nrPores += 1\n                colorGrid[x, y] = myColor\n    return(nrPores, colorGrid)\n  \ndef boxCounting(colorGrid, width, height, size, threshold, myColor):             \n    nrPixelsThreshold = threshold * size * size   \n    nrXBoxes = int(width / size)\n    nrYBoxes = int(height / size)\n    nrOccupiedBoxes = 0\n    for i in range(nrXBoxes):\n        for j in range(nrYBoxes):\n            nrPorePixels = 0\n            for dx in range(size):\n                for dy in range(size):\n                    x = i * size + dx\n                    y = j * size + dy\n                    color = colorGrid[x, y]\n                    if color == myColor: nrPorePixels += 1\n            if (nrPorePixels > nrPixelsThreshold): \n                nrOccupiedBoxes += 1\n            \n    # normalized one-dimensional size\n    L = 1./math.sqrt(nrXBoxes*nrYBoxes)\n    # fractal dimension\n    if (nrOccupiedBoxes > 0):\n        D = math.log(nrOccupiedBoxes) / math.log(L)\n    else:\n        D = 0  \n    print (\"box size =\", size, \" pores =\", nrOccupiedBoxes, \n           \" L =\", format(L, '.3f'),\" D =\", format(D, '.3f'))\n    return(nrOccupiedBoxes)    \n\ndef main():\n    picture = Image.open(\"soil_image.jpg\")\n    colorGrid = picture.load()\n    [width, height] = picture.size\n    nrPixels = width * height\n    print (\"width =\", width)\n    print (\"height =\", height)\n    \n    myColor = (255,255,255) \t\t# red, green, blue (0-255)\n    nrPores, colorGrid = identifyPores(colorGrid, width, height, myColor)\n    poresPercentage = float(nrPores) / float(nrPixels) * 100.\n    print (\"% of pores =\", format(poresPercentage, '.3f'))\n    picture.show()\n    plt.xlabel('Box size',fontsize=16,labelpad=3)\n    plt.ylabel('N',fontsize=16,labelpad=3) \n    plt.ion()\n    size = 200          \t\t\t# pixels\n    threshold = 0.2\n    while (size >= 1):\n        nrOccupiedBoxes = boxCounting(colorGrid, width, height, size, threshold, myColor)\n        if (nrOccupiedBoxes > 0):\n            plt.loglog(size, nrOccupiedBoxes, 'ko')\n            plt.draw()\n        size = int(size / 2)\n\n    plt.ioff()\n    plt.show()\nmain()\n    \n"]
  }
 ],
 "metadata": {
  "kernelspec": {
   "display_name": "Python 3",
   "language": "python",
   "name": "python3"
  },
  "language_info": {
   "codemirror_mode": {
    "name": "ipython",
    "version": 3
   },
   "file_extension": ".py",
   "mimetype": "text/x-python",
   "name": "python",
   "nbconvert_exporter": "python",
   "pygments_lexer": "ipython3",
   "version": "3.4.2"
  }
 },
 "nbformat": 4,
 "nbformat_minor": 0
}