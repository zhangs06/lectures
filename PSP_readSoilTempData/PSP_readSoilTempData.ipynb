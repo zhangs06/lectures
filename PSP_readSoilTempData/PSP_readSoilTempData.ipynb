{
 "cells": [
  {
   "cell_type": "code",
   "execution_count": null,
   "metadata": {
    "collapsed": false
   },
   "outputs": [],
   "source": ["#PSP_readSoilTempData.py\nfrom __future__ import print_function, division\nfrom PSP_readDataFile import readGenericDataFile\nimport numpy as np\nimport matplotlib.pyplot as plt\nfrom matplotlib.dates import date2num\nfrom datetime import datetime\nfrom matplotlib.ticker import MaxNLocator\nimport matplotlib.dates as mdates\n\nNODATA = -9999\n            \ndef main():\n    A, isFileOk = readGenericDataFile(\"soilTemperatures.txt\", 1, ',', False)\n    if (isFileOk == False): \n        print (\"Incorrect format in row: \", A)\n        return()\n    \n    nrValues = len(A)\n    \n    # date array\n    date = []\n    for i in range(nrValues):\n        strDate = A[i][0]\n        date.append(datetime.strptime(strDate,\"%d-%m-%y %H.%M\"))\n    d = date2num(date)\n    \n    #values (with simple error check)\n    soilTemp = np.zeros((4, nrValues))\n    for col in range(4):\n        previous = NODATA\n        for i in range(nrValues):\n            isOk = False\n            # missing data\n            if (A[i][col+1] != \"\"):\n                value = float(A[i][col+1])\n                # void data > 1 day\n                if (i == 0) or ((d[i]-d[i-1]) < 1):\n                    # wrong values\n                    if (value > -50) and (value < 100):\n                        # spikes\n                        if (previous == NODATA) or (abs(value - previous) < 10):\n                            isOk = True\n            if isOk:\n                soilTemp[col,i] = value\n                previous = value\n            else:    \n                soilTemp[col,i] = np.nan\n                previous = NODATA\n    \n    print (\"first date:\", date[0])\n    print (\"last date: \", date[len(date)-1])\n\n    fig = plt.figure(figsize=(10,8))\n    plt.title('')\n    plt.ylabel('Temperature [C]', fontsize=20, labelpad=8)\n    plt.xlabel('Time [date]', fontsize=20, labelpad=8)\n    plt.plot_date(d, soilTemp[0],'k--')\n    #plt.plot_date(d, soilTemp[1],'k--')\n    plt.plot_date(d, soilTemp[2],'k-')\n    plt.plot_date(d, soilTemp[3],'k.')\n    plt.xticks(rotation='0')\n    plt.tick_params(axis='both', which='major', labelsize=14)\n    plt.tick_params(axis='both', which='minor', labelsize=14)\n    plt.gca().xaxis.set_major_formatter(mdates.DateFormatter(\"%m.%y\"))\n    plt.show()\n    \nmain()\n"]
  }
 ],
 "metadata": {
  "kernelspec": {
   "display_name": "Python 3",
   "language": "python",
   "name": "python3"
  },
  "language_info": {
   "codemirror_mode": {
    "name": "ipython",
    "version": 3
   },
   "file_extension": ".py",
   "mimetype": "text/x-python",
   "name": "python",
   "nbconvert_exporter": "python",
   "pygments_lexer": "ipython3",
   "version": "3.4.2"
  }
 },
 "nbformat": 4,
 "nbformat_minor": 0
}