{
 "cells": [
  {
   "cell_type": "code",
   "execution_count": null,
   "metadata": {
    "collapsed": false
   },
   "outputs": [],
   "source": ["#PSP_weatherData.py\nfrom PSP_read6VarFile import read6VarFile\nimport matplotlib.pyplot as plt\n\ndef  computeDaily(year, doy, hourMinute, prec, airT, rh, meanT, cumPrec):\n    mySumT = airT[0]\n    mySumP = prec[0]\n    nValues = 1\n    for i in range(1, len(airT)):\n        if (int(hourMinute[i] / 100) != 0):\n            mySumT += airT[i]\n            mySumP += prec[i]\n            nValues += 1\n        else:\n            meanT.append(mySumT / float(nValues))\n            cumPrec.append(mySumP)\n            nValues = 1\n            mySumT = airT[i]\n            mySumP += prec[i]\n    #last day\n    meanT.append(mySumT / float(nValues))\n    cumPrec.append(mySumP)\n      \ndef main():\n    year=[]\n    doy = []\n    hourMinute = []\n    prec=[]\n    airT  = []\n    rh=[]\n    \n    read6VarFile(\"weather.txt\", 1, '\\t', year, doy, hourMinute, prec, airT, rh, False)\n    meanT = []\n    cumPrec=[]\n    computeDaily(year, doy, hourMinute, prec,airT, rh, meanT, cumPrec)\n\n    myGraph = plt.figure()\n    myAxisLeft = myGraph.add_subplot(111)\n    myAxisRight = myAxisLeft.twinx()\n    plt.title('')\n    myAxisLeft.set_xlabel('Time [doy]',fontsize=16)\n    myAxisLeft.set_ylabel('Temperature [C]',fontsize=16)\n    myAxisRight.set_ylabel('Cumulative precipitation [mm]',fontsize=16)\n\n    #=======================DAILY AVERAGE TEMP PLOT===================== \n    for h in range(0, len(meanT)):\n        myAxisLeft.plot(h, meanT[h], 'ro')\n        \n    #=======================CUMULATIVE PRECIPITATION===================         \n    h = range(0, len(cumPrec))\n    myAxisRight.plot(h, cumPrec,'b-')\n\n    plt.show() \nmain()\n"]
  }
 ],
 "metadata": {
  "kernelspec": {
   "display_name": "Python 3",
   "language": "python",
   "name": "python3"
  },
  "language_info": {
   "codemirror_mode": {
    "name": "ipython",
    "version": 3
   },
   "file_extension": ".py",
   "mimetype": "text/x-python",
   "name": "python",
   "nbconvert_exporter": "python",
   "pygments_lexer": "ipython3",
   "version": "3.4.2"
  }
 },
 "nbformat": 4,
 "nbformat_minor": 0
}