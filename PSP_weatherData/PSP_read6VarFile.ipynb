{
 "cells": [
  {
   "cell_type": "code",
   "execution_count": null,
   "metadata": {
    "collapsed": false
   },
   "outputs": [],
   "source": ["#PSP_read6VarFile.py\nfrom csv import reader\n\ndef read6VarFile(myFile, nRowHeader, myDelimiter, x1, x2, x3,x4,x5,x6, printOnScreen):\n\n        myReader = reader(open(myFile, \"rt\"), delimiter=myDelimiter)\n        nRow = 0\n        for row in myReader:\n            nRow = nRow + 1\n            # Header\n            if (nRow <= nRowHeader):\n                if (printOnScreen): print (row[0], row[1], row[2],row[3],row[4],row[5])\n            # Values\n            else:\n                i = nRow - nRowHeader - 1\n                x1.append(float(row[0]))\n                x2.append(float(row[1]))\n                x3.append(float(row[2]))\n                x4.append(float(row[3]))\n                x5.append(float(row[4]))\n                x6.append(float(row[5]))\n                if (printOnScreen):  print (x1[i], x2[i], x3[i],x4[i],x5[i],x6[i])        \n"]
  }
 ],
 "metadata": {
  "kernelspec": {
   "display_name": "Python 3",
   "language": "python",
   "name": "python3"
  },
  "language_info": {
   "codemirror_mode": {
    "name": "ipython",
    "version": 3
   },
   "file_extension": ".py",
   "mimetype": "text/x-python",
   "name": "python",
   "nbconvert_exporter": "python",
   "pygments_lexer": "ipython3",
   "version": "3.4.2"
  }
 },
 "nbformat": 4,
 "nbformat_minor": 0
}