{
 "cells": [
  {
   "cell_type": "code",
   "execution_count": null,
   "metadata": {
    "collapsed": false
   },
   "outputs": [],
   "source": ["#!/usr/bin/env python\n# coding=utf-8\n\n# <a class=\"btn btn-default pull-right\" href=\"https://gist.github.com/TylerShaw/48ead56c19ce905ac513\"><i class=\"fa fa-git\"></i> Download the gist here!</a>\n# Py2Md started as a little project to do the magical \"self documenting code\". After thinking about it, I realized self documenting code is great, but it's really not the point.\n# Commenting code properly, if only better, is the point.\n# This script evolved from me wanting to code better. I often look at other peoples code, or even old code I've written, and it takes me a few minutes to even figure out what each section is doing.\n# This will hopefully solve that, not only by forcing me to comment code better, but to publish my code with decent comments.\n# This script reads in a python file (either itself, or anything it's\n# imported into) and converts the python file into a markdown file. It\n# does this by turning all the comments into markdown format, and turning\n# all the code into markdown code blocks. It also removes the `import\n# py2md` from the imports list so it doesn't throw off any readers.\n\n# Things I still need to do:\n#\n# * Block comments `'''` to markdown (shouldn't be hard)\n# * Inline comments that happen after code (still undecided about this one)\n# * Refactor\n# * Try/Except statements to catch possible errors\n# * Options for things like ReStructuredText\n# * Options for different flavors of markdown\n# * Automatic git add/commit/push and link the repo at the bottom (or top)\n#       * Or gist maybe?\n\n# Imports\nimport __main__ as main\nimport datetime\nfrom time import strftime\nimport os\nfrom pygments import highlight\nfrom pygments.lexers import PythonLexer\nfrom pygments.formatters import HtmlFormatter\n\n# Global Variables\npelican = True\npath = '/Users/ts/Dropbox/Workspace/Websites/TylerShaw.codes/TSC_pelican/content/'\n\n# Auto config stuffs\ndtg = strftime('%Y-%m-%d %H:%M')  # date time group\ntarget = main.__file__  # The filename of the python file running\nfilename = str(path + str(target.split('.py')[0]) + '.md')  # replaces the .py extension with a .md extension\nmetadata_file = str(path + str(target.split('.py')[0]) + '.metadata')  # replaces the .py extension with a .metadata extension\n\n# This reads in the current file being run\n\n\ndef ReadIn(file_to_open=target):\n    with open(file_to_open, 'r') as f:  # Read in file\n        return f.readlines()\n\n# Cleans it up some, removing line breaks\n\n\ndef Clean(content):\n    for line in content:\n        if line.rstrip():\n            yield line.rstrip()\n\n# Converts to Markdown Format and does code fencing (blocks)\n\n\ndef Convert2Markdown(code):\n    start = '\\n<div class=\"highlight\"><pre>'  # Start of codeblock\n    end = '</pre></div>\\n'  # End of codeblock\n    markdown = []\n    in_code_block = False\n    for codeline in code:\n        line = codeline.strip()\n        if line[0:2] == '#!':  # Strips env\n            print('removing environmental variable line')\n        elif line[0:14] == '# coding=utf-8':  # Strips encoding\n            print('removing encoding line')\n        elif line[0:2] == '# ':  # Finds code comments\n            if in_code_block == True:\n                markdown.append(end)\n            markdown.append(line.split('# ')[1])\n            in_code_block = False\n        elif line[0] == '#':  # Finds code comments\n            if in_code_block == True:\n                markdown.append(end)\n            markdown.append(line.split('#')[1])\n            in_code_block = False\n        elif line[0:12] == 'import py2md':\n            print('removing import py2md from import list')\n        else:\n            if in_code_block == False and pelican == True:\n                markdown.append(start)\n            pyg = str('<span class=\"codeline\">' + highlight(codeline, PythonLexer(), HtmlFormatter())[28:-13].strip('\\n') + '</span>').strip('\\n')\n            markdown.append(pyg)\n            in_code_block = True\n    return markdown\n\n# Adds Article headers for Pelican. If the article already exists, then it\n# will load the metadata in from the previous version and update it with a\n# \"Modified\" date time group, that way it will keep previous metadata and\n# the previous post date.\n\n\ndef PelicanArticle(markdown):\n    metadata = {}\n    metadata['Title'] = 'Title: ' + target.split('.py')[0]\n    metadata['Date'] = 'Date: ' + dtg\n    metadata['Tags'] = 'Tags: python'\n    metadata['Category'] = 'Category: python'\n    metadata['Authors'] = 'Authors: Tyler Shaw'\n    metadata['Modified'] = ''\n    if os.path.isfile(metadata_file):\n        md = Clean(ReadIn(metadata_file))\n        for line in md:\n            key = line.split(':')[0]\n            value = line\n            metadata[key] = value\n        metadata['Modified'] = 'Modified: ' + dtg\n        os.remove(metadata_file)\n\n    article = []\n    article.append(metadata['Title'])\n    article.append(metadata['Date'])\n    article.append(metadata['Tags'])\n    article.append(metadata['Category'])\n    article.append(metadata['Authors'])\n    article.append(metadata['Modified'])\n    article.append('')\n    Write2File(article, metadata_file)\n    for line in markdown:\n        article.append(line)\n    return article\n\n# Writes markdown to a file\n\n\ndef Write2File(markdown, file):\n    with open(file, 'w') as f:\n        for line in markdown:\n            f.write(line)  # python will convert \\n to os.linesep\n            f.write('\\n')\n\n# Runs everything\n\n\ndef py2md():\n    me = ReadIn()\n    cleaned = Clean(me)\n    converted = Convert2Markdown(cleaned)\n    if pelican:\n        converted = PelicanArticle(converted)\n    Write2File(converted, filename)\n    print(\"Exported Markdown\")\n\npy2md()\n\n# <a class=\"btn btn-default pull-right\" href=\"https://gist.github.com/TylerShaw/48ead56c19ce905ac513\"><i class=\"fa fa-git\"></i> Download the gist here!</a>"]
  }
 ],
 "metadata": {
  "kernelspec": {
   "display_name": "Python 3",
   "language": "python",
   "name": "python3"
  },
  "language_info": {
   "codemirror_mode": {
    "name": "ipython",
    "version": 3
   },
   "file_extension": ".py",
   "mimetype": "text/x-python",
   "name": "python",
   "nbconvert_exporter": "python",
   "pygments_lexer": "ipython3",
   "version": "3.4.2"
  }
 },
 "nbformat": 4,
 "nbformat_minor": 0
}