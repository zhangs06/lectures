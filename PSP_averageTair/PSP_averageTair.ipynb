{
 "cells": [
  {
   "cell_type": "code",
   "execution_count": null,
   "metadata": {
    "collapsed": false
   },
   "outputs": [],
   "source": [
    "import os\n",
    "long_description = 'Add a fallback short description here'\n",
    "if os.path.exists('README.txt'):\n",
    "    long_description = open('README.txt').read()\n",
    "    \n",
    "#PSP_averageTair.py\n",
    "\n",
    "from PSP_read3VarFile import *\n",
    "import matplotlib.pyplot as plt\n",
    "\n",
    "def  computeMeanT(hourMinute, airT, meanT):\n",
    "    mySum = 0. \n",
    "    myHour = 0\n",
    "    nValues = 0\n",
    "    for i in range(0, len(airT)):\n",
    "        if (int(hourMinute[i] / 100) == myHour):\n",
    "            mySum += airT[i]\n",
    "            nValues += 1\n",
    "        else:\n",
    "            meanT.append(mySum / nValues)\n",
    "            nValues = 1\n",
    "            mySum = airT[i]\n",
    "            myHour += 1\n",
    "            if (myHour == 24): myHour = 0\n",
    "\n",
    "def main():\n",
    "    doy = []\n",
    "    hourMinute = []\n",
    "    airT  = []\n",
    "    read3VarFile(\"tenMinutesTemp.txt\", 1, '\\t', doy, hourMinute, airT, False)\n",
    "    meanT = []\n",
    "    computeMeanT(hourMinute, airT, meanT) \n",
    "    \n",
    "    for h in range(0, len(meanT)):\n",
    "        plt.plot(h,meanT[h],'ro')\n",
    "    plt.title('')\n",
    "    plt.xlabel('Time [hour]',fontsize=16)\n",
    "    plt.ylabel('Temperature [C]',fontsize=16)\n",
    "    plt.tick_params(axis='both', which='major', labelsize=14)\n",
    "    plt.tick_params(axis='both', which='minor', labelsize=14)\n",
    "\n",
    "    plt.show()\n",
    "main()\n"
   ]
  }
 ],
 "metadata": {
  "anaconda-cloud": {},
  "kernelspec": {
   "display_name": "Python [default]",
   "language": "python",
   "name": "python3"
  },
  "language_info": {
   "codemirror_mode": {
    "name": "ipython",
    "version": 3
   },
   "file_extension": ".py",
   "mimetype": "text/x-python",
   "name": "python",
   "nbconvert_exporter": "python",
   "pygments_lexer": "ipython3",
   "version": "3.5.2"
  }
 },
 "nbformat": 4,
 "nbformat_minor": 0
}
