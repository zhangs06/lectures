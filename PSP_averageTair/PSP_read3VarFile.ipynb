{
 "cells": [
  {
   "cell_type": "code",
   "execution_count": null,
   "metadata": {
    "collapsed": false
   },
   "outputs": [],
   "source": [
    "#PSP_read3VarFile.py\n",
    "from csv import reader\n",
    "\n",
    "def read3VarFile(myFile, nRowHeader, myDelimiter, x1, x2, x3, printOnScreen):\n",
    "\n",
    "\tmyReader = reader(open(myFile, \"rt\"), delimiter=myDelimiter)\n",
    "\tnRow = 0\n",
    "\tfor row in myReader:\n",
    "\t\tnRow = nRow + 1\n",
    "\t\t# Header\n",
    "\t\tif (nRow <= nRowHeader):\n",
    "\t\t\tif (printOnScreen): print (row[0], row[1], row[2])\n",
    "\t\t# Values\n",
    "\t\telse:\n",
    "\t\t\ti = nRow - nRowHeader - 1\n",
    "\t\t\tx1.append(float(row[0]))\n",
    "\t\t\tx2.append(float(row[1]))\n",
    "\t\t\tx3.append(float(row[2]))\n",
    "\t\t\tif (printOnScreen):  print (x1[i], x2[i], x3[i])     "
   ]
  }
 ],
 "metadata": {
  "kernelspec": {
   "display_name": "Python [default]",
   "language": "python",
   "name": "python3"
  },
  "language_info": {
   "codemirror_mode": {
    "name": "ipython",
    "version": 3
   },
   "file_extension": ".py",
   "mimetype": "text/x-python",
   "name": "python",
   "nbconvert_exporter": "python",
   "pygments_lexer": "ipython3",
   "version": "3.5.2"
  }
 },
 "nbformat": 4,
 "nbformat_minor": 0
}
