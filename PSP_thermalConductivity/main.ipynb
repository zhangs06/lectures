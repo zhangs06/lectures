{
 "cells": [
  {
   "cell_type": "code",
   "execution_count": null,
   "metadata": {
    "collapsed": false
   },
   "outputs": [],
   "source": ["#PSP_thermalConductivity\nfrom __future__ import print_function, division\nimport matplotlib.pyplot as plt\nimport PSP_thermalCond as soil\nfrom PSP_readDataFile import *\n\ndef main():\n    A, isFileOk = readDataFile(\"soilTemperature.txt\", 0, ',', False)\n    if (isFileOk == False): \n        print (\"Incorrect format\")\n        return()\n    \n    soilTemperature = A[0]\n    print (\"Temperatures = \", soilTemperature)\n    nrTemperatures = len(soilTemperature)\n    \n    myStr = \"bulk density [kg/m^3]: \" \n    bulkDensity = float(input(myStr))\n    myStr = \"clay [0 - 1]: \" \n    clay = float(input(myStr))\n\n    particleDensity = 2650\n    porosity = 1 - (bulkDensity / particleDensity) \n    \n    step = 0.02  \n    nrValues = int(porosity / step) + 1\n    waterContent = np.zeros(nrValues)\n    thermalConductivity = np.zeros(nrValues)  \n    for i in range(nrValues):\n        waterContent[i] = step*i\n    \n   \n    fig = plt.figure(figsize=(10,8))\n    plt.xlabel('Water Content [m$^{3}$ m$^{-3}$]',fontsize=20,labelpad=8)\n    plt.ylabel('Thermal Conductivity [W m$^{-1}$C$^{-1}$]',fontsize=20,labelpad=8)\n    plt.tick_params(axis='both', which='major', labelsize=20,pad=8)\n    plt.tick_params(axis='both', which='minor', labelsize=20,pad=8)\n    #plt.xlim(0, 0.7)\n    for t in range(nrTemperatures):\n        for i in range(nrValues):\n            thermalConductivity[i] = soil.thermalConductivity(bulkDensity, \n                                    waterContent[i], clay, soilTemperature[t])\n        if (t == 0): plt.plot(waterContent, thermalConductivity,'k')  \n        if (t == 1): plt.plot(waterContent, thermalConductivity,'--k')   \n        if (t == 2): plt.plot(waterContent, thermalConductivity,'-.k') \n        if (t == 3): plt.plot(waterContent, thermalConductivity,':k') \n    plt.show() \nmain()\n"]
  }
 ],
 "metadata": {
  "kernelspec": {
   "display_name": "Python 3",
   "language": "python",
   "name": "python3"
  },
  "language_info": {
   "codemirror_mode": {
    "name": "ipython",
    "version": 3
   },
   "file_extension": ".py",
   "mimetype": "text/x-python",
   "name": "python",
   "nbconvert_exporter": "python",
   "pygments_lexer": "ipython3",
   "version": "3.4.2"
  }
 },
 "nbformat": 4,
 "nbformat_minor": 0
}