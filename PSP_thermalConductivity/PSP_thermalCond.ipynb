{
 "cells": [
  {
   "cell_type": "code",
   "execution_count": null,
   "metadata": {
    "collapsed": false
   },
   "outputs": [],
   "source": ["#PSP_thermalCond.py\nfrom __future__ import division\nfrom math import exp\nimport numpy as np\n\nGEOMETRIC = 0\nLOGARITHMIC = 1\n\ndef kMean(meanType, k1, k2):\n    if (meanType == GEOMETRIC): \n        k = np.sqrt(k1 * k2)\n    elif (meanType == LOGARITHMIC):\n        if (k1 == k2):\n            k = k1\n        else:\n            k = (k1-k2) / np.log(k1/k2)  \n    return k\n\n\ndef thermalConductivity(bulkDensity, waterContent, clay, temperature):\n    ga = 0.088                # deVries shape factor; assume same for all mineral soils\n    thermalConductivitysolid = 2.5  \t# average thermal conductivity of soil minerals [W/mC]\n    atmPressure = 100                   # [kPa] \n \n    q = 7.25 * clay + 2.52              # regression from Campbell et al. 1994\n    xwo = 0.33 * clay + 0.078           # regression from Campbell et al. 1994\n    solidContent = bulkDensity / 2650\n    porosity = 1 - solidContent\n    gasPorosity = max(porosity - waterContent, 0.0)\n    \n    temperatureK = temperature + 273.16           \n    Lv = 45144 - 48 * temperature \t\t# latent heat of vaporization\n    svp = 0.611 * exp(17.502 * temperature / (temperature + 240.97))\n    slope = 17.502 * 240.97 * svp / (240.97 + temperature)**2.0\n    Dv = 0.0000212 * (101.3 / atmPressure) * (temperatureK / 273.16)**1.75\n    rhoair = 44.65 * (atmPressure / 101.3) * (273.16 / temperatureK)\n    stcor = max(1 - svp / atmPressure, 0.3)\n\n    thermalConductivitywater = 0.56 + 0.0018 * temperature\n    if waterContent < 0.01 * xwo :\n        wf = 0\n    else:\n        # empirical weighting function D[0,1]\n        wf = 1 / (1 + (waterContent / xwo)**(-q))        \n        \n    thermalConductivitygas = (0.0242 + 0.00007 * temperature + \n                              wf * Lv * rhoair * Dv * slope / (atmPressure * stcor))\n    gc = 1 - 2 * ga\n    thermalConductivityfluid = (thermalConductivitygas + \n    (thermalConductivitywater - thermalConductivitygas) * (waterContent / porosity)**2.0)\n    ka = (2 / (1 + (thermalConductivitygas / thermalConductivityfluid - 1) * ga) + 1 / \n         (1 + (thermalConductivitygas / thermalConductivityfluid - 1) * gc)) / 3\n    kw = (2 / (1 + (thermalConductivitywater / thermalConductivityfluid - 1) * ga) + \n          1 / (1 + (thermalConductivitywater / thermalConductivityfluid - 1) * gc)) / 3\n    ks = (2 / (1 + (thermalConductivitysolid / thermalConductivityfluid - 1) * ga) + \n          1 / (1 + (thermalConductivitysolid / thermalConductivityfluid - 1) * gc)) / 3\n    \n    thermalConductivity = ((kw * thermalConductivitywater * waterContent + ka * \n    thermalConductivitygas * gasPorosity + ks * thermalConductivitysolid * solidContent) \n                           / (kw * waterContent + ka * gasPorosity + ks * solidContent))\n    return(thermalConductivity)       \n\n\ndef heatCapacity(bulkDensity, waterContent):\n    return (2.4e6 * bulkDensity / 2650 + 4.18e6 * waterContent)       "]
  }
 ],
 "metadata": {
  "kernelspec": {
   "display_name": "Python 3",
   "language": "python",
   "name": "python3"
  },
  "language_info": {
   "codemirror_mode": {
    "name": "ipython",
    "version": 3
   },
   "file_extension": ".py",
   "mimetype": "text/x-python",
   "name": "python",
   "nbconvert_exporter": "python",
   "pygments_lexer": "ipython3",
   "version": "3.4.2"
  }
 },
 "nbformat": 4,
 "nbformat_minor": 0
}