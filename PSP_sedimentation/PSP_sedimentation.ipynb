{
 "cells": [
  {
   "cell_type": "code",
   "execution_count": null,
   "metadata": {
    "collapsed": false
   },
   "outputs": [],
   "source": ["#PSP_sedimentation\nfrom __future__ import print_function, division\nimport visual \nfrom PSP_readDataFile import readDataFile\n\nparticleDensity = 2580\ng = 9.80665\nmicro = 0.000001\n\ndef getSedimentationTime(solutionDensity, solutionViscosity, particleDiameter, z):\n    numer = 18 * solutionViscosity * z\n    denom = (g * (particleDensity - solutionDensity) * (particleDiameter * micro)**2)\n    return (numer / denom)\n\n# [m]\ndef getSedimentationDepth(solutionDensity, solutionViscosity, particleDiameter, time):\n    numer = (time * g * (particleDensity - solutionDensity) * (particleDiameter * micro)**2)\n    denom = 18 * solutionViscosity\n    return (numer / denom)  \n\n# [kg m^-3] \ndef getSolutionDensity(liquidDensity, concentration):                       \n\treturn (liquidDensity * (1 + 0.63*(concentration / 1000)))\n\n# [kg s^-1 m^-1]\ndef getSolutionViscosity(liquidViscosity, concentration):                   \n\treturn (liquidViscosity * (1 + 4.25*(concentration / 1000)))                               \n\ndef initializeScene(heightCylinder, radiusParticle):\n    scene = visual.display(width = 600, height = 600, exit=True)\n    scene.background = visual.color.white\n    scene.center = (0, 0, -heightCylinder/2)\n    scene.forward = (0, 1, -0.5)\n    \n    cylinder = visual.cylinder(pos = (0,0,0), radius = 0.05)\n    cylinder.axis = (0,0,-heightCylinder)                                    \n    cylinder.color = visual.color.white\n    cylinder.opacity = 0.2\n\n    particle = visual.sphere(pos = (0,0,0), color = visual.color.black)\n    particle.radius = min(radiusParticle * 0.001, 0.02) \n    return(particle)\n    \n    \ndef main():\n    A, isFileOk = readDataFile(\"waterDensity.dat\", 2, '\\t', False)\n    if ((not isFileOk) or (len(A[0]) < 3)):\n        print(\"Wrong file!\\nMissing data or wrong delimiter in line:\", A+1)\n        return()\n        \n    temperature = A[:,0]  \n    density = A[:,1]\n    viscosity = A[:,2]\n    print (\"Available temperature:\", temperature)\n    \n    isGoodChoice = False\n    while not isGoodChoice:\n        t = float(input(\"\\nInput temperature: \"))\n        for i in range(len(temperature)):\n            if (temperature[i] == t):\n                isGoodChoice = True\n                liquidDensity = density[i]\n                liquidViscosity = viscosity[i]\n        if not isGoodChoice: \n            print (\"Warning: not available value\")\n    \n    concentration = float(input(\"Input concentration [g/l]: \"))\n    diameter = float(input(\"Input particle diameter [micrometers]: \"))\n\n    solutionDensity = getSolutionDensity(liquidDensity, concentration)\n    solutionViscosity = getSolutionViscosity(liquidViscosity, concentration)\n    \n    heightCylinder = 0.1    # [m]\n    particle = initializeScene(heightCylinder, diameter/2.0)\n            \n    time = 0                # [s]\n    depth = 0               # [m]\n    while (depth < heightCylinder):\n        visual.rate(100)    # wait 1/100 of second\n        depth = getSedimentationDepth(solutionDensity, solutionViscosity, diameter, time)\n        particle.pos.z = -depth\n        time += 1\n        \n    print (\"seconds:\", time)    \nmain()\n"]
  }
 ],
 "metadata": {
  "kernelspec": {
   "display_name": "Python 3",
   "language": "python",
   "name": "python3"
  },
  "language_info": {
   "codemirror_mode": {
    "name": "ipython",
    "version": 3
   },
   "file_extension": ".py",
   "mimetype": "text/x-python",
   "name": "python",
   "nbconvert_exporter": "python",
   "pygments_lexer": "ipython3",
   "version": "3.4.2"
  }
 },
 "nbformat": 4,
 "nbformat_minor": 0
}