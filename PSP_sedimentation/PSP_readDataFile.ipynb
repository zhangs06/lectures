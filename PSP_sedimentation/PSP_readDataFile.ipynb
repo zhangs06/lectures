{
 "cells": [
  {
   "cell_type": "code",
   "execution_count": null,
   "metadata": {
    "collapsed": false
   },
   "outputs": [],
   "source": ["#PSP_readDataFile.py   \nimport csv\nimport numpy as np\n             \ndef scanDataFile(myFile, myDelimiter):\n    myReader = csv.reader(open(myFile, \"rt\"), delimiter=myDelimiter)\n    nrCols = 0\n    nrRows = 0\n    for myRow in myReader:\n        if (nrRows == 0):\n            nrCols = len(myRow)\n        else:\n            if (len(myRow) != nrCols): \n                return (nrRows, 0, False)\n        nrRows += 1\n    \n    return (nrRows, nrCols, True)\n        \n                \ndef readDataFile(myFile, nrHeaderRows, myDelimiter, printOnScreen):\n    nrRows, nrCols, isFileOK = scanDataFile(myFile, myDelimiter)\n    if (isFileOK == False): return (nrRows, False)\n    \n    if (printOnScreen): print ('nrRows =', nrRows, ' nrCols =', nrCols)\n    myReader = csv.reader(open(myFile, \"rt\"), delimiter=myDelimiter)\n    \n    A = np.zeros(((nrRows-nrHeaderRows), nrCols))\n    i = 0\n    for myRow in myReader:\n        if (printOnScreen): print(myRow)\n        \n        if (i >= nrHeaderRows):\n            for j in range(0, len(myRow)):\n                A[(i-nrHeaderRows), j] = float(myRow[j])\n        i += 1    \n    \n    return(A, True)\n"]
  }
 ],
 "metadata": {
  "kernelspec": {
   "display_name": "Python 3",
   "language": "python",
   "name": "python3"
  },
  "language_info": {
   "codemirror_mode": {
    "name": "ipython",
    "version": 3
   },
   "file_extension": ".py",
   "mimetype": "text/x-python",
   "name": "python",
   "nbconvert_exporter": "python",
   "pygments_lexer": "ipython3",
   "version": "3.4.2"
  }
 },
 "nbformat": 4,
 "nbformat_minor": 0
}