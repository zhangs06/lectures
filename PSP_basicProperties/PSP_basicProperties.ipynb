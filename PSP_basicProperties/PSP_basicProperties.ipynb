{
 "cells": [
  {
   "cell_type": "code",
   "execution_count": null,
   "metadata": {
    "collapsed": false
   },
   "outputs": [],
   "source": ["# PSP_basicProperties.py\nfrom __future__ import print_function, division\n\ndef computePorosity(bulkDensity, massWetness):\n\twaterDensity = 1000                                       \n\tparticleDensity = 2650                                    \n\tporosity = 1 - (bulkDensity / particleDensity)        \n\tvoidRatio = porosity / (1 - porosity)               \n\twaterContent = massWetness * (bulkDensity / waterDensity)  \n\tgasPorosity = porosity - waterContent              \n\tdegreeSaturation = waterContent / porosity         \n\tprint (\"\\nTotal porosity [m^3/m^3] = \", format(porosity, '.3f'))\n\tprint (\"Void ratio [m^3/m^3] = \", format(voidRatio, '.3f'))\n\tprint (\"Volumetric water content [m^3/m^3] = \", format(waterContent, '.3f'))\n\tprint (\"Gas filled porosity [m^3/m^3] = \", format(gasPorosity, '.3f'))\n\tprint (\"Degree of saturation [-] =\", format(degreeSaturation, '.3f'))\n\treturn \n\ndef computeSaturationWetness(bulkDensity):\n\twaterDensity = 1000                                      \n\tparticleDensity = 2650                                   \n\tporosity = 1 - (bulkDensity / particleDensity)\n\treturn (porosity / (bulkDensity / waterDensity))    \n\ndef main():\n\tbulkDensity = float(input(\"Bulk density [kg/m^3] = \"))\n\tmassWetness = float(input(\"Mass wetness [kg/kg] = \"))\n\n\tsatMassWetness = computeSaturationWetness(bulkDensity)\n\tif (massWetness >= 0) and (massWetness < satMassWetness):      \n\t\tcomputePorosity(bulkDensity, massWetness)\n\telse:\n\t\tprint (\"Wrong mass wetness! value at saturation = \", satMassWetness)  \nmain()\n"]
  }
 ],
 "metadata": {
  "kernelspec": {
   "display_name": "Python 3",
   "language": "python",
   "name": "python3"
  },
  "language_info": {
   "codemirror_mode": {
    "name": "ipython",
    "version": 3
   },
   "file_extension": ".py",
   "mimetype": "text/x-python",
   "name": "python",
   "nbconvert_exporter": "python",
   "pygments_lexer": "ipython3",
   "version": "3.4.2"
  }
 },
 "nbformat": 4,
 "nbformat_minor": 0
}