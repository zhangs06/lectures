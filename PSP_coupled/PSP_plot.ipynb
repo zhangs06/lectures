{
 "cells": [
  {
   "cell_type": "code",
   "execution_count": null,
   "metadata": {
    "collapsed": false
   },
   "outputs": [],
   "source": ["#PSP_plot.py\nimport matplotlib.pyplot as plt\n\ndef plot_start(endTime):\n    global myPlot   \n    plt.ion()\n    f, myPlot = plt.subplots(3,3, figsize=(16, 9.5), dpi=80)\n    f.subplots_adjust(left=None, bottom=None, right=None, top=None, wspace=0.3, hspace=0.3)\n    #myPlot[0,0].set_xlim(0, endTime/3600.) \n    #myPlot[1,0].set_xlim(0, endTime/3600.)\n    #myPlot[2,0].set_xlim(0, endTime/3600.)\n    myPlot[0,0].set_ylim(0, 20) \n    #myPlot[1,0].set_ylim(0,40)\n    myPlot[2,0].set_ylim(0,100)\n    myPlot[2,0].set_xlabel(\"Time [h]\",fontsize=14,labelpad=6)\n    myPlot[0,0].set_ylabel(\"Precipitation [mm]\",fontsize=14,labelpad=6)\n    myPlot[1,0].set_ylabel(\"Air Temperature [C]\",fontsize=14,labelpad=6)\n    myPlot[2,0].set_ylabel(\"Relative humidity [%]\",fontsize=14,labelpad=6)\n    myPlot[2,2].set_xlabel(\"Time [h]\",fontsize=14,labelpad=4)\n    myPlot[0,2].set_ylabel(\"Bound. layer cond. [s m$^{-1}$]\",fontsize=14,labelpad=6)\n    myPlot[1,2].set_ylabel(\"Cum. evap. [kg m$^{-2}$]\",fontsize=14,labelpad=6)\n    myPlot[2,2].set_ylabel(\"Temperature [C]\",fontsize=14,labelpad=6)\n    \ndef plot_variables(z, theta, T, psi, time, boundaryLayerConductance, evaporation, prec,airT,rh):\n\t# Precipitation\n    myPlot[0,0].plot(time/3600., prec,'ks')\n\t# Air temperature\n    myPlot[1,0].plot(time/3600., airT,'ko')\n    # Relative humidity\n    myPlot[2,0].plot(time/3600., rh, 'ko')\n\t\n    # Water content\n    myPlot[0,1].clear()\n    myPlot[0,1].set_xlim([0.,0.5])\n    myPlot[0,1].set_xlabel(\"Water content [m$^3$ m$^{-3}$]\",fontsize=14,labelpad=6)\n    myPlot[0,1].set_ylabel(\"Depth [m]\",fontsize=14,labelpad=6)\n    myPlot[0,1].plot(theta[1:len(z)], -z[1:len(z)], 'ko')\n    # Water potential\n    myPlot[1,1].clear()\n    myPlot[1,1].set_xlim([-2000,0])\n    myPlot[1,1].set_xlabel(\"Water potential [J kg$^{-1}$]\",fontsize=14,labelpad=6)\n    myPlot[1,1].set_ylabel(\"Depth [m]\",fontsize=14,labelpad=6)\n    myPlot[1,1].plot(psi[1:len(z)], -z[1:len(z)], 'ko')\n    # Soil Temperature\n    myPlot[2,1].clear()\n    myPlot[2,1].set_xlabel(\"Temperature T\",fontsize=14,labelpad=6)\n    myPlot[2,1].set_xlim([-10.,40.])\n    myPlot[2,1].set_ylabel(\"Depth [m]\",fontsize=14,labelpad=6)\n    myPlot[2,1].plot(T[1:len(T)], -z[1:len(T)], 'ko')\n\t\n    #TIME\n    # Boundary Layer Conductance\n    myPlot[0,2].plot(time/3600., boundaryLayerConductance,'ks')\n    #Cumulative Evaporation \n    myPlot[1,2].plot(time/3600., evaporation,'ks')\n    #Soil temperature\n    myPlot[2,2].plot(time/3600., airT,'ko')\n    myPlot[2,2].plot(time/3600., T[1], 'k^')\n\t\n    plt.pause(0.0001)\n\ndef plot_end():\n    plt.ioff()\n    plt.show()\n"]
  }
 ],
 "metadata": {
  "kernelspec": {
   "display_name": "Python 3",
   "language": "python",
   "name": "python3"
  },
  "language_info": {
   "codemirror_mode": {
    "name": "ipython",
    "version": 3
   },
   "file_extension": ".py",
   "mimetype": "text/x-python",
   "name": "python",
   "nbconvert_exporter": "python",
   "pygments_lexer": "ipython3",
   "version": "3.4.2"
  }
 },
 "nbformat": 4,
 "nbformat_minor": 0
}