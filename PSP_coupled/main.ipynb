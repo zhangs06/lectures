{
 "cells": [
  {
   "cell_type": "code",
   "execution_count": null,
   "metadata": {
    "collapsed": false
   },
   "outputs": [],
   "source": ["#PSP_coupled\nfrom __future__ import print_function, division\n\nimport numpy as np\nfrom PSP_public import *\nimport PSP_coupled1D as coupled\nfrom PSP_soil import readSoil\nfrom PSP_readDataFile import readDataFile\nfrom PSP_plot import *\nfrom PSP_longWaveRadiation import *\n    \ndef main():\n    isSuccess, mySoil = readSoil(\"soil.txt\")\n    if not isSuccess: \n        print(\"warning: wrong soil file.\")\n        return\n    \n    A, isFileOk = readDataFile('weather.dat', 1, '\\t', False)\n    if not isFileOk: \n        print (\"Incorrect format in row: \", A)\n        return()\n    \n    airT = A[:,1]\n    prec = A[:,2]\n    relativeHumidity = A[:,3]\n    windSpeed = A[:,4]\n    globalRadiation = A[:,6]\n    longWaveRadiation = longWaveRadiationFromWeather(nrDays) \n\n    time = 0\n    dt = 300\n    sumWaterFlow = 0.\n    sumHeatFlow = 0.  \n    sumEvaporationFlow = 0.  \n    nrIterations = 0\n    \n    coupled.initialize(mySoil, initialPotential, initialTemperature)\n    plot_start(endTime)\n    \n    while (time < endTime):\n        dt = min(dt, endTime - time)\n        myBoundary = coupled.boundary.Cboundary()\n        i = int(time/3600)\n        myBoundary.time = time\n        myBoundary.airTemperature = airT[i]\n        myBoundary.precipitation = prec[i]\n        myBoundary.relativeHumidity = relativeHumidity[i]\n        myBoundary.windSpeed = windSpeed[i]\n        myBoundary.globalRadiation = globalRadiation[i]\n        myBoundary.longWaveRadiation = longWaveRadiation[i]\n\n        (isBalanceOk, waterFlux, heatFlux, boundaryLayerConductance, evaporationFlux, \n\t\tnrIterations,massBalance) = coupled.solver(mySoil, myBoundary, isFreeDrainage, dt)\n \n        if isBalanceOk:\n            for i in range(coupled.n+1):\n                coupled.oldTheta[i] = coupled.theta[i]\n                coupled.oldPsi[i] = coupled.psi[i]\n                coupled.oldT[i] = coupled.T[i]\n                coupled.oldCh[i] = coupled.Ch[i]\n            sumWaterFlow += waterFlux * dt \n            sumHeatFlow += heatFlux * dt \n            sumEvaporationFlow += evaporationFlux * dt \n            time += dt\n            print(\"time =\", int(time), \"\\tdt =\", dt, \n                  \"\\tnrIterations =\", int(nrIterations), \n                  \"\\tsumWaterFlow:\", format(sumWaterFlow, '.3f'), \n                  \"\\tsumHeatFlow:\", format(sumHeatFlow,'.1f'))\n            plot_variables(coupled.z, coupled.theta, coupled.T, coupled.psi, \n            time, boundaryLayerConductance, sumEvaporationFlow,\n            myBoundary.precipitation, myBoundary.airTemperature,\n            myBoundary.relativeHumidity)\n            if (float(nrIterations / maxNrIterations) <= 0.1):  \n                dt = int(min(dt*2, maxTimeStep))\n                    \n        else:\n            print (\"time =\", int(time), \"\\tdt =\", dt, \"\\tNo convergence\")\n            dt = max(int(dt / 2), 1)\n            for i in range(coupled.n+1):\n                coupled.theta[i] = coupled.oldTheta[i]\n                coupled.psi[i] = coupled.oldPsi[i]\n                coupled.T[i] = coupled.oldT[i]\n    plot_end()\nmain()\n"]
  }
 ],
 "metadata": {
  "kernelspec": {
   "display_name": "Python 3",
   "language": "python",
   "name": "python3"
  },
  "language_info": {
   "codemirror_mode": {
    "name": "ipython",
    "version": 3
   },
   "file_extension": ".py",
   "mimetype": "text/x-python",
   "name": "python",
   "nbconvert_exporter": "python",
   "pygments_lexer": "ipython3",
   "version": "3.4.2"
  }
 },
 "nbformat": 4,
 "nbformat_minor": 0
}