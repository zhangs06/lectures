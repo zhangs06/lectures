{
 "cells": [
  {
   "cell_type": "code",
   "execution_count": null,
   "metadata": {
    "collapsed": false
   },
   "outputs": [],
   "source": ["#PSP_public.py\nNODATA = -9999.\n\n# Site\nlatitude = 44.5\nlongitude = 11.5\naltitude = 120             \nalbedo = 0.2\natmPressure = 101.3\nclay = 0.2\n\n# Initial Condition\ninitialPotential = -1000.0\ninitialTemperature = 10.0     \nisFreeDrainage = False\n\n# Simulation \narea = 1                    \nnrDays = 10                \nendTime = 3600*24*nrDays   \ntoleranceVapour = 1.e-3     \ntoleranceHeat = 1.e-5      \nmaxNrIterations = 50.               \nmaxTimeStep = 3600.         \n\n# Physics\nL = 2.45e6                  \ng = 9.8065                  \nwaterDensity = 1000.       \nMw = 0.018                  \nR = 8.31                    \nwaterVapourDiff0 = 2.12E-5  \nsigma = 5.67e-8             \nheatCapacityWater = 4.18e3  \nzeroKelvin = 273.15\n"]
  }
 ],
 "metadata": {
  "kernelspec": {
   "display_name": "Python 3",
   "language": "python",
   "name": "python3"
  },
  "language_info": {
   "codemirror_mode": {
    "name": "ipython",
    "version": 3
   },
   "file_extension": ".py",
   "mimetype": "text/x-python",
   "name": "python",
   "nbconvert_exporter": "python",
   "pygments_lexer": "ipython3",
   "version": "3.4.2"
  }
 },
 "nbformat": 4,
 "nbformat_minor": 0
}