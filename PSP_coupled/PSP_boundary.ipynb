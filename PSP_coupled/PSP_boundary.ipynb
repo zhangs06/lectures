{
 "cells": [
  {
   "cell_type": "code",
   "execution_count": null,
   "metadata": {
    "collapsed": false
   },
   "outputs": [],
   "source": ["#PSP_boundary\nfrom __future__ import division\nimport PSP_soil as soil\nfrom PSP_public import *\nimport numpy as np\n\nenergy_balance = open('energy_balance.dat','w')\nenergy_balance.write('#Time \\t LWUp \\t SWDown \\t LWDown \\t Latent \\t Sensible \\t G \\n')\n\nclass Cboundary:\n    time = 0\n    airTemperature = NODATA           \n    precipitation = NODATA           \n    relativeHumidity = NODATA\n    windSpeed = NODATA\n    globalRadiation = NODATA\n\ndef boundaryLayerConductance(windSpeed, Tair, Tsoil):\n    z = 2.0                     \n    cp = 29.3\n    h = 0.01                   \n    D = 0.77 * h                \n    zm = 0.13 * h              \n    zh = 0.2 * zm              \n    psi_m = 0; psi_h = 0        \n    vk = 0.4                   \n    TsoilK = Tsoil + zeroKelvin     #[K]\n    # molar density of the gas\n    ro = 44.6 * (atmPressure / 101.3) * (293.15 / TsoilK)  \n    # volumetric heat of air (= 1200 J/m^3*K at 20C e sea level)\n    Ch = ro * cp                \n    for i in range(3):\n        #friction velocity        #[m/s]\n        ustar = vk * windSpeed / (np.log((z - D + zm) / zm) + psi_m) \n        Kh = vk * ustar / (np.log((z - D + zh) / zh) + psi_h) \n        Sp = -vk * z * g * Kh * (Tair - Tsoil) / (Ch * TsoilK * np.power(ustar,3))\n        if (Sp > 0):\n            psi_h = 4.7 * Sp\n            psi_m = psi_h\n        else:\n            psi_h = -2 * np.log((1 + np.sqrt(1 - 16 * Sp)) / 2)\n            psi_m = 0.6 * psi_h\n    return Kh\n\n# soil resistance\ndef soilResistance(theta):\n    return 10. * np.exp(0.3563 * (22. - (theta * 100.)))\n \n# [kg/m2s] \ndef evaporationFlux(psi, theta, Tsoil, Tair, rhAir, aerodynamicResistance):\n    vapourConcAir = soil.vapourConcentration(Tair, rhAir/100.)  \n    rhSoil = soil.relativeHumidity(psi, Tsoil + zeroKelvin)\n    vapourConcSoil = soil.vapourConcentration(Tsoil, rhSoil) \n    dVapour = vapourConcSoil - vapourConcAir\n    #print(vapourConcAir,rhSoil,vapourConcSoil, dVapour,aerodynamicResistance)\n    return -(1.0 / (aerodynamicResistance + soilResistance(theta)) * dVapour) \n\ndef dEvaporationFluxdPsi(psi, theta, Tsoil, Tair, aerodynamicResistance):\n    TKelvinAir = Tair + zeroKelvin\n    rhSoil = soil.relativeHumidity(psi, Tsoil + zeroKelvin)\n    vapourConcSoil = soil.vapourConcentration(Tsoil, rhSoil)  \n    return (1.0 / (aerodynamicResistance + soilResistance(theta)) * Mw/(R*TKelvinAir) * vapourConcSoil)\n \n# [kg/m2s] \ndef waterFlux(psi, theta, Tsoil, myBoundary, aerodynamicResistance):\n    evapFlux = evaporationFlux(psi, theta, Tsoil, myBoundary.airTemperature, \n    myBoundary.relativeHumidity, aerodynamicResistance)\n    precFlux = myBoundary.precipitation/3600\n    return evapFlux + precFlux\n\ndef dWaterFluxdPsi(psi, theta, Tsoil, myBoundary, aerodynamicResistance):\n    return (dEvaporationFluxdPsi(psi, theta, Tsoil, \n    myBoundary.airTemperature, aerodynamicResistance))\n\ndef thermalFlux(psi, theta, Tsoil, myBoundary, aerodynamicResistance, isWrite):\n    TairK = myBoundary.airTemperature + zeroKelvin\n    longWaveSoilTaylorAtmosphericPart =-(sigma*(TairK)**4 - 4.0*sigma*(TairK)**3 * myBoundary.airTemperature)\n    sensibleHeatAtmosphericPart = 1200.0 / aerodynamicResistance * myBoundary.airTemperature  \n    sensibleHeat = 1200.0 / aerodynamicResistance * (myBoundary.airTemperature-Tsoil)   \n    evaporation = evaporationFlux(psi, theta, Tsoil, myBoundary.airTemperature, myBoundary.relativeHumidity, aerodynamicResistance)\n    shortWaveAbsRadiation = (1 - albedo) * myBoundary.globalRadiation\n    longWaveAbsRadiation = myBoundary.longWaveRadiation\n    netAbsRadiation = shortWaveAbsRadiation + longWaveAbsRadiation \n    if isWrite:\n        dTemperature = myBoundary.airTemperature - Tsoil\n        sensibleHeat = (1200.0 / aerodynamicResistance * dTemperature) \n        longWaveSoil = -(sigma*(TairK)**4 -4.0*sigma*(TairK)**3 * dTemperature)\n        G = longWaveAbsRadiation + shortWaveAbsRadiation + sensibleHeat + (evaporation*L) + longWaveSoil\n        energy_balance.write(str(myBoundary.time) + '\\t' \n                             + format(longWaveSoil, \".1f\") \n                             + '\\t' + format(shortWaveAbsRadiation, \".1f\") \n                             + '\\t' + format(longWaveAbsRadiation, \".1f\") \n                             + '\\t' + format(evaporation*L, \".1f\") \n                             + '\\t' + format(sensibleHeat, \".1f\")\n                             + '\\t' + format(-G, \".1f\") + '\\n')\n    return (longWaveSoilTaylorAtmosphericPart + netAbsRadiation + evaporation*L + sensibleHeatAtmosphericPart)"]
  }
 ],
 "metadata": {
  "kernelspec": {
   "display_name": "Python 3",
   "language": "python",
   "name": "python3"
  },
  "language_info": {
   "codemirror_mode": {
    "name": "ipython",
    "version": 3
   },
   "file_extension": ".py",
   "mimetype": "text/x-python",
   "name": "python",
   "nbconvert_exporter": "python",
   "pygments_lexer": "ipython3",
   "version": "3.4.2"
  }
 },
 "nbformat": 4,
 "nbformat_minor": 0
}