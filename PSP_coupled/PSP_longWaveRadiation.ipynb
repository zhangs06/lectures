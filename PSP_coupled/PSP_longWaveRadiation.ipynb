{
 "cells": [
  {
   "cell_type": "code",
   "execution_count": null,
   "metadata": {
    "collapsed": false
   },
   "outputs": [],
   "source": ["#PSP_longWaveRadiation\nfrom __future__ import division\nimport numpy as np\n\nalbedo = 0.2\nsigma = 5.670e-8  #[W/m2K4]\nlatitude = 46.73/360.*2.*3.1415 \nM_w = 0.018\nR = 8.31\n\ndef vaporConcentrationAir(T,relHum):  \n    c_vsat = 0.611*1.e3*np.exp(17.27*T/(T+237.3)) * M_w/(R*(T+273.15))\n    c_v = relHum*c_vsat\n    return c_v\n\ndef atmEmissivity(measuredRadiation,day,T,relHum):\n\tsin_sD = (0.3985 * np.sin(4.869 + 0.0172*day + 0.03345*np.sin(6.224+0.0172*day)))  \n\tcos_sD = np.sqrt(1-sin_sD*sin_sD) \n\th_s = np.arccos(-np.tan(latitude)*(sin_sD/cos_sD))\n\tpotentialRadiation = (117.5e6*(h_s*np.sin(latitude)*sin_sD\n\t\t\t\t\t+np.cos(latitude)*cos_sD*np.sin(h_s)) / 3.1415)\n\tT_t = measuredRadiation/potentialRadiation\n\tc_1 = 2.33-3.33*T_t\n\tif(c_1 < 0): \n\t\tc_1 = 0.\n\telif(c_1 > 1):\n\t\tc_1 = 1.\n\tc_va = vaporConcentrationAir(T,relHum)*1.e3  \n\tepsilon_a = 0.58*np.power(c_va,1./7.)\n\temissivity = (1.-0.84*c_1)*epsilon_a + 0.84*c_1\n\treturn emissivity\n\ndef longWaveRadiationFromWeather(nrDays):\n\tlongWaveRadiation = np.zeros(nrDays*24)\n\thour,temp,prec,hum,wvl,rad = (np.loadtxt('weather.dat',\n\tusecols=(0,1,2,3,4,6),unpack=True))\n\tfor k in range(nrDays):\n\t\tdailyRad = sum(rad[k*24:(k+1)*24])*3600.\n\t\tfor j in range(24):\n\t\t\ti = k*24+j\n\t\t\tlongWaveRadiation[i] = (atmEmissivity(dailyRad,k,\n\t\t\ttemp[i],hum[i]/100.)\n\t\t\t*sigma*np.power(temp[i]+273.15,4.))\n\treturn longWaveRadiation\n\t"]
  }
 ],
 "metadata": {
  "kernelspec": {
   "display_name": "Python 3",
   "language": "python",
   "name": "python3"
  },
  "language_info": {
   "codemirror_mode": {
    "name": "ipython",
    "version": 3
   },
   "file_extension": ".py",
   "mimetype": "text/x-python",
   "name": "python",
   "nbconvert_exporter": "python",
   "pygments_lexer": "ipython3",
   "version": "3.4.2"
  }
 },
 "nbformat": 4,
 "nbformat_minor": 0
}