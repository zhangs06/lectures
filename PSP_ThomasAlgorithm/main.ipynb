{
 "cells": [
  {
   "cell_type": "code",
   "execution_count": null,
   "metadata": {
    "collapsed": false
   },
   "outputs": [],
   "source": ["#PSP_ThomasAlgorithm\nfrom __future__ import print_function, division\nfrom PSP_readDataFile import readDataFile\nfrom PSP_ThomasAlgorithm import Thomas\nimport numpy as np\n\ndef main():\n    myOutput, isFileOk = readDataFile(\"A.txt\", 0, ',', False)\n    if (isFileOk == False): \n        print (\"Incorrect matrix format in row: \", myOutput)\n        return (False)\n    A = myOutput\n    print(\"matrix A\\n\",A)\n    \n    myOutput, isFileOk = readDataFile(\"b.txt\", 0, ',', False)\n    d = myOutput[:,0]\n    print(\"vector d\\n\",d)\n    \n    # initialize vectors\n    n = len(d)   \n    a = np.zeros(n, float)\n    b = np.zeros(n, float)\n    c = np.zeros(n, float)\n    for i in range(n):\n        if (i > 0): a[i] = A[i,i-1]\n        b[i] = A[i,i]\n        if (i < (n-1)): c[i] = A[i,i+1]\n        \n    x = Thomas(a, b, c, d)\n    print(\"unknown vector x\\n\",x) \n\nmain()\n"]
  }
 ],
 "metadata": {
  "kernelspec": {
   "display_name": "Python 3",
   "language": "python",
   "name": "python3"
  },
  "language_info": {
   "codemirror_mode": {
    "name": "ipython",
    "version": 3
   },
   "file_extension": ".py",
   "mimetype": "text/x-python",
   "name": "python",
   "nbconvert_exporter": "python",
   "pygments_lexer": "ipython3",
   "version": "3.4.2"
  }
 },
 "nbformat": 4,
 "nbformat_minor": 0
}