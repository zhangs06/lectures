{
 "cells": [
  {
   "cell_type": "code",
   "execution_count": null,
   "metadata": {
    "collapsed": false
   },
   "outputs": [],
   "source": ["#PSP_diffusion1D\nfrom __future__ import division\nimport numpy as np\nfrom PSP_ThomasAlgorithm import ThomasBoundaryCondition\n\nwaterDensity = 1000.           \nbulkSoilDensity = 2650.       \narea = 1                       \nTheta = 0.01                   \nD_0   = 1e-9                  \na_const = 2.8\nklQ = 0.                   \n\t\nn = 100                        \nz = np.zeros(n+2, float)       \nvol = np.zeros(n+2, float)    \na = np.zeros(n+2, float)      \nb = np.zeros(n+2, float)       \nc = np.zeros(n+2, float)       \nd = np.zeros(n+2, float)       \n\ndz = np.zeros(n+2, float)     \nConc = np.zeros(n+2, float)   \noldConc = np.zeros(n+2, float)    \nconcWat = np.zeros(n+2, float)   \nD = np.zeros(n+2, float)      \n\nfd = np.zeros(n+2, float)       \nfc = np.zeros(n+2, float)       \nepsilon = np.zeros(n+2, float)  \n        \ndef initializeDiffusion(n_, z_,dz_,vol_, theta):\n    # vector depth [m]\n    for i in range(n+2): \n        z[i] = z_[i]\n        dz[i] = dz_[i]\n        vol[i] = vol_[i]\n    for i in range(1, n+2):\n        if(z[i]>0.05 and z[i]<0.2):\n           concWat[i] = 1e-3\n        else:\n           concWat[i] = 0\n        oldConc[i] = concWat[i] * (klQ + (waterDensity*theta[i]) / bulkSoilDensity)\n        Conc[i]    = oldConc[i]\n            \ndef cellCentFiniteVolWater(dt, waterFluxDensity, theta, meanType, factor):\n    g = 1.0 - factor\n    fd[0] = 0\n    fc[0] = 0\n    for i in range(1, n+1):\n        theta_mean = 1/2*(theta[i]+theta[i+1])\n        D[i]   = D_0 * a_const * np.power(theta_mean,3.) \\\n                 + (Theta * waterFluxDensity[i]) / (waterDensity*theta_mean)\n        fd[i] = area * D[i] / dz[i]         \n        fc[i] = area * waterFluxDensity[i]  \n        if(waterFluxDensity[i] < 0):   \n              epsilon[i] = 1\n    for i in range(1, n+1):    \n        a[i] = -fd[i-1]*factor - fc[i-1]*(1-epsilon[i-1])*factor\n        if (i == 1):\n            b[i] =((klQ + (waterDensity*theta[i])/bulkSoilDensity) * vol[i]/dt \n\t\t\t\t     + fd[i]*factor + fc[i]*(1-epsilon[i])*factor - fc[i-1]*epsilon[i-1]*factor)\n            c[i] = -fd[i]*factor + fc[i]*epsilon[i]*factor\n            d[i] = (oldConc[i] * vol[i]/dt + g * ((fd[i]+fc[i]*(1-epsilon[i])+\n\t\t\t\t   fc[i-1]*epsilon[i-1])*oldConc[i] - fc[i]*epsilon[i]*oldConc[i+1]))\n        elif (i < n):\n            b[i] =(((klQ + (waterDensity*theta[i])/bulkSoilDensity) * vol[i]/dt + \n\t\t\t\t  fd[i-1]*factor + fd[i]*factor + fc[i]*(1-epsilon[i])*factor) \n\t\t\t\t     - fc[i-1]*epsilon[i-1]*factor)\n            c[i] = -fd[i]*factor + fc[i]*epsilon[i]*factor\n            d[i] = (oldConc[i] * vol[i]/dt + g * ((fd[i-1]+fc[i-1]*(1-epsilon[i-1]))*oldConc[i-1] - \n\t\t\t\t   (fd[i-1]+fd[i]+fc[i]*(1-epsilon[i])-fc[i-1]*epsilon[i-1])*oldConc[i] - fc[i]*epsilon[i]*oldConc[i+1]))\n\n        elif (i == n):\n            b[i] = ((klQ + (waterDensity*theta[i])/bulkSoilDensity) * vol[i]/dt \n\t\t\t\t         + fd[n-1]*factor + fc[i]*(1-epsilon[i])*factor - fc[i-1]*epsilon[i-1]*factor)\n            c[i] = 0\n            d[i] = (oldConc[i] * vol[i]/dt  + g * ((fd[i-1]+fc[i-1]*(1-epsilon[i-1]))*oldConc[i-1] - \n\t\t\t\t   (fd[i]+fc[i]*(1-epsilon[i])+fc[i-1]*epsilon[i-1])*oldConc[i]))\n\n    ThomasBoundaryCondition(a, b, c, d, concWat, 1, n)\n    return True\n"]
  }
 ],
 "metadata": {
  "kernelspec": {
   "display_name": "Python 3",
   "language": "python",
   "name": "python3"
  },
  "language_info": {
   "codemirror_mode": {
    "name": "ipython",
    "version": 3
   },
   "file_extension": ".py",
   "mimetype": "text/x-python",
   "name": "python",
   "nbconvert_exporter": "python",
   "pygments_lexer": "ipython3",
   "version": "3.4.2"
  }
 },
 "nbformat": 4,
 "nbformat_minor": 0
}