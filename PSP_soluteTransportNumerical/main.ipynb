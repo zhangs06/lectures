{
 "cells": [
  {
   "cell_type": "code",
   "execution_count": null,
   "metadata": {
    "collapsed": false
   },
   "outputs": [],
   "source": ["#PSP_soluteTransportNumerical\nfrom __future__ import print_function, division\n\nimport numpy as np\nimport matplotlib.pyplot as plt\nimport PSP_infiltration1D as inf\nimport PSP_diffusion1D as dif\n    \ndef main():  \n    isSuccess, soil = inf.readSoil(\"soil.txt\")\n    if not isSuccess: \n        print(\"warning: wrong soil file.\")\n        return\n    \n    funcType = inf.CAMPBELL\n    thetaIni = 0.2\n    #ubPotential = inf.airEntryPotential(funcType, soil) \n    ubPotential = inf.waterPotential(funcType,soil,thetaIni)  \n   \n    inf.initializeWater(funcType, soil, thetaIni)\n    dif.initializeDiffusion(inf.n, inf.z, inf.dz, inf.vol, inf.theta)\n\t\n    print()\n    print (\"1: Free drainage\")\n    print (\"2: Constant water potential\")\n    boundary = int(input(\"Select lower boundary condition:\"))\n    if (boundary == 1):\n        isFreeDrainage = True\n    else:\n        isFreeDrainage = False\n    \n    simulationLenght = int(input(\"\\nNr of simulation hours:\"))    \n                    \n    endTime = simulationLenght * 3600   \n    maxTimeStep = 3600                  \n    dt = maxTimeStep / 10               \n    time = 0                            \n    sumInfiltration = 0\n    totalIterationNr = 0\n    \n    plt.ion()\n    f, myPlot = plt.subplots(3, figsize=(10, 8))\n    f.subplots_adjust(hspace=.4)\n    myPlot[0].set_xlim(0, 0.5)     \n    myPlot[0].tick_params(axis='both', which='major', labelsize=12,pad=6)\n    myPlot[1].set_xlim(0, simulationLenght * 3600)\n    myPlot[1].set_ylabel(\"Infiltration Rate [kg m$^{-2}$ s$^{-1}$]\",fontsize=14,labelpad=6)\n    myPlot[1].set_xlabel(\"Time [s]\",fontsize=14,labelpad=6)\n    myPlot[1].tick_params(axis='both', which='major', labelsize=12,pad=6)\n    myPlot[1].ticklabel_format(style='sci', axis='y', scilimits=(0,0))\n\n    while (time < endTime):\n        dt = min(dt, endTime - time)\n        success, nrIterations, flux = inf.NewtonRapsonMFP(funcType, soil, dt, ubPotential, isFreeDrainage)\n        totalIterationNr += nrIterations\n        \n        if success:\n            successDif = dif.cellCentFiniteVolWater(dt, inf.waterFluxDensity, inf.theta, inf.LOGARITHMIC, 1.)\n            if not(successDif):\n                print(\"\\nDiffusions solver does not converge. \\n\")\n                return\n            for i in range(inf.n+2):\n                inf.oldTheta[i] = inf.theta[i]\n                dif.oldConc[i] = dif.concWat[i] * ( dif.klQ + (inf.waterDensity*inf.theta[i])/dif.bulkSoilDensity)\n                \n            sumInfiltration += flux * dt \n            print(\"time =\", int(time), \"\\tdt =\", int(dt), \n                  \"\\tIter. Water =\", int(nrIterations), \n                  \"\\tInf:\", format(sumInfiltration, '.3f'))\n            time += dt\n            \n            myPlot[0].clear()\n            myPlot[0].set_xlabel(\"Water content [m$^3$ m$^{-3}$]\",fontsize=14,labelpad=6)\n            myPlot[0].set_ylabel(\"Depth [m]\",fontsize=14,labelpad=6)\n            myPlot[0].set_xlim([0,0.4])\n            myPlot[0].plot(inf.theta[1:np.size(inf.theta)], -inf.z[1:np.size(inf.z)],'r-')\n            myPlot[0].plot(inf.theta[1:np.size(inf.theta)], -inf.z[1:np.size(inf.z)], 'ko')\n            myPlot[1].plot(time, flux, 'ko')\n            myPlot[2].clear()\n            myPlot[2].set_xlabel(\"Mass of solute per mass of soil [kg kg$^{-1}$]\",fontsize=14,labelpad=6)\n            myPlot[2].set_ylabel(\"Depth [m]\",fontsize=14,labelpad=6)\n            myPlot[2].plot(dif.oldConc[1:inf.n], -inf.z[1:inf.n], 'k')\n            myPlot[2].set_xlim([0,2e-4])\n            myPlot[2].tick_params(axis='both', which='major', labelsize=12,pad=6)\n            plt.pause(0.0001)\n            \n            if (float(nrIterations/inf.maxNrIterations) < 0.1): \n                    dt = min(dt*2, maxTimeStep)\n        else:\n            for i in range(inf.n+1):\n                inf.theta[i] = inf.oldTheta[i]\n                inf.psi[i] = inf.MFPFromTheta(soil, inf.theta[i])\n            dt = max(dt / 2, 1)\n            \n    print(\"nr of iterations per hour:\", totalIterationNr / simulationLenght)\n    plt.ioff()\n    plt.show()\nmain()\n"]
  }
 ],
 "metadata": {
  "kernelspec": {
   "display_name": "Python 3",
   "language": "python",
   "name": "python3"
  },
  "language_info": {
   "codemirror_mode": {
    "name": "ipython",
    "version": 3
   },
   "file_extension": ".py",
   "mimetype": "text/x-python",
   "name": "python",
   "nbconvert_exporter": "python",
   "pygments_lexer": "ipython3",
   "version": "3.4.2"
  }
 },
 "nbformat": 4,
 "nbformat_minor": 0
}