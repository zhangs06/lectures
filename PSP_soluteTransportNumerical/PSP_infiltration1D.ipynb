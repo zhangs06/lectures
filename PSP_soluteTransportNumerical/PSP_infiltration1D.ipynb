{
 "cells": [
  {
   "cell_type": "code",
   "execution_count": null,
   "metadata": {
    "collapsed": false
   },
   "outputs": [],
   "source": ["#PSP_infiltration1D\nfrom __future__ import division\n\nimport PSP_grid as grid\nfrom PSP_ThomasAlgorithm import ThomasBoundaryCondition\nfrom PSP_soil import *\n\nwaterDensity = 1000.        \narea = 1                    \nmaxNrIterations = 100\ntolerance = 1e-6\nn = 100                         \nz = np.zeros(n+2, float)      \nvol = np.zeros(n+2, float)    \na = np.zeros(n+2, float)       \nb = np.zeros(n+2, float)       \nc = np.zeros(n+2, float)       \nd = np.zeros(n+2, float)       \n\ndz = np.zeros(n+2, float)      \npsi = np.zeros(n+2, float)     \ndpsi = np.zeros(n+2, float)   \ntheta = np.zeros(n+2, float)   \noldTheta = np.zeros(n+2, float)  \nC = np.zeros(n+2, float)      \nk = np.zeros(n+2, float)      \nwaterFluxDensity = np.zeros(n+2, float)      \n\nu = np.zeros(n+2, float)      \ndu = np.zeros(n+2, float)      \nf = np.zeros(n+2, float)      \nH = np.zeros(n+2, float)      \nH0 = np.zeros(n+2, float)      \n        \ndef initializeWater(funcType, soil, theta_0):\n    global z\n    \n    z = grid.linear(n, soil.lowerDepth)\n    vol[0] = 0\n    for i in range(n+1): \n        dz[i] = z[i+1]-z[i]\n        if (i > 0): vol[i] = area * (z[i+1] - z[i-1]) / 2.0\n    \n    psi_0 = MFPFromTheta(soil, theta_0)\n    k_0 = hydraulicConductivityFromMFP(soil, psi_0)\n\n    psi[0] = 0\n    for i in range(1, n+2):\n        oldTheta[i] = theta_0\n        theta[i] = theta_0\n        psi[i] = psi_0\n        H[i] = psi[i] - z[i]*g\n        k[i] = k_0\n            \ndef NewtonRapsonMFP(funcType, soil, dt, ubPotential, isFreeDrainage):\n    b3 = (2.0 * soil.Campbell_b + 3.0) / (soil.Campbell_b + 3.0)\n    #apply upper boundary condition\n    airEntry = airEntryPotential(funcType, soil)\n    ubPotential = min(ubPotential, airEntry) \n    psi[1] = MFPFromPsi(soil, ubPotential)\n    oldTheta[1] = thetaFromMFP(soil, psi[1])\n    theta[1] = oldTheta[1]\n    k[1] = hydraulicConductivityFromMFP(soil, psi[1])\n    psi[0] = psi[1]\n    k[0] = 0.0\n    \n    if (isFreeDrainage):\n        psi[n+1] = psi[n]\n        theta[n+1] = theta[n] \n        k[n+1] = k[n]\n    \n    nrIterations = 0\n    massBalance = 1\n    while ((massBalance > tolerance) and (nrIterations < maxNrIterations)):\n        massBalance = 0\n        for i in range(1, n+1):\n            k[i] = hydraulicConductivityFromMFP(soil, psi[i])\n            capacity = theta[i] / ((soil.Campbell_b + 3.0) * psi[i])\n            C[i] = waterDensity * vol[i] * capacity / dt\n            u[i] = g * k[i]\n            f[i] = (psi[i+1] - psi[i]) / dz[i] - u[i]\n            if (i == 1): \n                a[i] = 0\n                c[i] = 0\n                b[i] = 1 / dz[i] + C[i] + g * b3 * k[i] / psi[i]\n                d[i] = 0\n            else:\n                a[i] = -1 / dz[i-1] -g * b3 * k[i-1] / psi[i-1]\n                c[i] = -1 / dz[i]\n                b[i] = 1 / dz[i-1] + 1 / dz[i] + C[i] + g * b3 * k[i] / psi[i]\n                d[i] = f[i-1] - f[i] + (waterDensity * vol[i] \n                                        * (theta[i] - oldTheta[i]) / dt)\n                massBalance += abs(d[i])\n    \n        ThomasBoundaryCondition(a, b, c, d, dpsi, 1, n)\n        \n        for i in range(1, n+1):\n            psi[i] -= dpsi[i]\n            psi[i] = min(psi[i], soil.CampbellMFP_he)\n            theta[i] = thetaFromMFP(soil, psi[i])\n            \n        if (isFreeDrainage):\n            psi[n+1] = psi[n]\n            theta[n+1] = theta[n] \n            k[n+1] = k[n]\n            \n        nrIterations += 1\n\n    if (massBalance < tolerance):\n        flux = -f[1]\n        for i in range(1,n+1):\n          waterFluxDensity[i] = -f[i]\n        CourantNr = max(waterFluxDensity[1:np.size(waterFluxDensity)-1]/(0.5*theta[1:np.size(theta)-1]\n                                            +0.5*theta[2:np.size(theta)]))*dt/min(dz[1:np.size(dz)-1])\n        if(CourantNr<1.0):\n\t\t\treturn True, nrIterations, flux\n        else:\n\t\t\treturn False, nrIterations, 0\n    else:\n\t\treturn False, nrIterations, 0\n"]
  }
 ],
 "metadata": {
  "kernelspec": {
   "display_name": "Python 3",
   "language": "python",
   "name": "python3"
  },
  "language_info": {
   "codemirror_mode": {
    "name": "ipython",
    "version": 3
   },
   "file_extension": ".py",
   "mimetype": "text/x-python",
   "name": "python",
   "nbconvert_exporter": "python",
   "pygments_lexer": "ipython3",
   "version": "3.4.2"
  }
 },
 "nbformat": 4,
 "nbformat_minor": 0
}