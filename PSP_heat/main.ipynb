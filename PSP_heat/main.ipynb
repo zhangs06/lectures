{
 "cells": [
  {
   "cell_type": "code",
   "execution_count": null,
   "metadata": {
    "collapsed": false
   },
   "outputs": [],
   "source": ["#main.py\nfrom __future__ import print_function, division\nimport matplotlib.pyplot as plt\nfrom PSP_heat import *  \nfrom PSP_grid import *\n\ndef main():  \n    global z\n    print (FIN_DIFF, 'Finite Difference')\n    print (CELL_CENT_FIN_VOL, 'Cell-Centered Finite Volume')\n\n    solver = int(input(\"Select solver: \"))\n    myStr = \"water content (m^3/m^3): \" \n    thetaIni = float(input(myStr))\n    myStr = \"mean temperature [C]: \" \n    meanT = float(input(myStr))\n    myStr = \"amplitude of change in temperature [C]: \" \n    ampT = float(input(myStr))\n    omega = 2.0 * np.pi/(24 * 3600.0)\n    airT0 = meanT\n    timeShift = 8                       \n\n    if (solver == FIN_DIFF):\n        myStr = \"weighting factor for time discretization:\"\n        myStr += \" (0: explicit, 1: implicit Euler) = \" \n        factor = float(input(myStr))\n \n    z = initialize(airT0, thetaIni, solver)\n    simulationLenght = int(input(\"nr of simulation hours: \"))    \n                    \n    endTime = simulationLenght * 3600.0         \n    timeStepMax = 3600.0                        \n    dt = timeStepMax / 8.0                      \n    time = 0.0                                  \n    sumHeatFlux = 0\n    totalIterationNr = 0\n    \n    f, plot = plt.subplots(3, figsize=(8,8), dpi=80)\n    plt.subplots_adjust(hspace = 0.3)\n    plot[1].set_xlabel(\"Time [h]\",fontsize=14,labelpad=2)  \n    plot[1].set_ylabel(\"Temperature [C]\",fontsize=14,labelpad=4)\n    plot[2].set_xlabel(\"Time [h]\",fontsize=14,labelpad=2)\n    plot[2].set_ylabel(\"Heat flux [W m$^{-2}$]\",fontsize=14,labelpad=4)\n    plot[1].set_xlim(timeShift, simulationLenght+timeShift)\n    plot[1].set_ylim(meanT-ampT, meanT+ampT)\n    plot[2].set_xlim(timeShift, simulationLenght+timeShift)\n    \n    while (time < endTime):\n        dt = min(dt, endTime - time)\n        airT = airT0 + ampT * np.sin((time+dt)*omega)\n        if (solver == FIN_DIFF):\n            success, nrIterations, heatFlux = (\n                finiteDifference(airT, meanT, dt, factor))            \n        elif (solver == CELL_CENT_FIN_VOL):\n            success, nrIterations, heatFlux = (\n                cellCentFiniteVol(airT, meanT, dt))\n        totalIterationNr += nrIterations\n        \n        if success:\n            #Convergence achieved\n            for i in range(n+1):\n                oldT[i] = T[i]\n            sumHeatFlux += heatFlux * dt \n            time += dt\n            \n            t = time/3600. + timeShift\n            \n            plot[0].clear()\n            plot[0].set_xlabel(\"Temperature [C]\",fontsize=14,labelpad=2)\n            plot[0].set_ylabel(\"Depth [m]\",fontsize=14,labelpad=4) \n            plot[0].set_xlim(meanT-ampT, meanT+ampT) \n            plot[0].plot(T[1:len(T)], -z[1:len(T)], 'k')\n            plot[0].plot(T[1:len(T)], -z[1:len(T)], 'ko')\n            plot[1].plot(t, T[getLayerIndex(z, 0.0)], 'ko')    \n            plot[1].plot(t, T[getLayerIndex(z, 0.05)], 'ks')     \n            plot[1].plot(t, T[getLayerIndex(z, 0.2)], 'k^')    \n            plot[2].plot(t, heatFlux, 'ko')\n            plt.pause(0.0001)\n            #increment time step when system is converging\n            if (float(nrIterations/maxNrIterations) < 0.1): \n                dt = min(dt*2, timeStepMax)\n        else:\n            #No convergence\n            dt = max(dt / 2, 1)\n            for i in range(n+1): T[i] = oldT[i]\n            print (\"dt =\", dt, \"No convergence\")\n                    \n    print(\"nr of iterations per hour:\", totalIterationNr / simulationLenght)\n    plt.ioff()\n    plt.show()\nmain()\n"]
  }
 ],
 "metadata": {
  "kernelspec": {
   "display_name": "Python 3",
   "language": "python",
   "name": "python3"
  },
  "language_info": {
   "codemirror_mode": {
    "name": "ipython",
    "version": 3
   },
   "file_extension": ".py",
   "mimetype": "text/x-python",
   "name": "python",
   "nbconvert_exporter": "python",
   "pygments_lexer": "ipython3",
   "version": "3.4.2"
  }
 },
 "nbformat": 4,
 "nbformat_minor": 0
}