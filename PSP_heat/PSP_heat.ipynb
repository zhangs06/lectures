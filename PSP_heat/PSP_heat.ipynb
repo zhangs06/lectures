{
 "cells": [
  {
   "cell_type": "code",
   "execution_count": null,
   "metadata": {
    "collapsed": false
   },
   "outputs": [],
   "source": ["#PSP_heat\nfrom __future__ import print_function, division\nimport PSP_grid as grid\nfrom PSP_ThomasAlgorithm import *\nfrom PSP_heatSoil import *\n\narea = 1                    \t\nmaxNrIterations = 100\ntolerance = 1.e-6               \n\nn = 20                        \nz = np.zeros(n+2, float)  \nzCenter = np.zeros(n+2, float)      \ndz = np.zeros(n+2, float)       \nvol = np.zeros(n+2, float)     \nwc = np.zeros(n+2, float)       \na = np.zeros(n+2, float)        \nb = np.zeros(n+2, float)        \nc = np.zeros(n+2, float)        \nd = np.zeros(n+2, float)       \n\nT = np.zeros(n+2, float)      \ndT = np.zeros(n+2, float)       \noldT = np.zeros(n+2, float)     \nC_T = np.zeros(n+2, float)     \nlambda_ = np.zeros(n+2, float)  \nk_mean = np.zeros(n+2, float)   \nf = np.zeros(n+2, float)  \n\nFIN_DIFF = 1\nCELL_CENT_FIN_VOL = 2\nbulkDensity = 1300\nclay = 0.3     \n\ndef initialize(T_0, thetaIni, solver):\n    global z, dz, zCenter, vol, wc, T, oldT\n    # vector depth [m]\n    z = grid.geometric(n, 1.0)\n  \n    vol[0] = 0\n    for i in range(n+1): \n        dz[i] = z[i+1]-z[i]\n        if (i > 0): vol[i] = area * dz[i]\n    for i in range(n+2): \n        zCenter[i] = z[i] + dz[i]*0.5\n        \n    if (solver == CELL_CENT_FIN_VOL):\n        for i in range(n+1): \n            dz[i] = zCenter[i+1]-zCenter[i]\n                 \n    for i in range(1, n+2):\n        T[i] = T_0\n        oldT[i] = T_0\n        wc[i] = thetaIni\n    return z\n    \n\ndef finiteDifference(airT, boundaryT, dt, factor):\n    g = 1.0 - factor\n    energyBalance = 1.\n    for i in range(1, n+2):\n        T[i] = oldT[i]\n    nrIterations = 0\n    while ((energyBalance > tolerance) and (nrIterations < maxNrIterations)):\n        for i in range(1, n+2):\n            lambda_[i] = thermalConductivity(bulkDensity, wc[i], clay, T[i])\n            C_T[i] = heatCapacity(bulkDensity, wc[i])*vol[i]\n        f[0] = 0.\n        for i in range(1, n+1):\n            f[i]=area* lambda_[i] / dz[i]\n        for i in range(1, n+1):    \n            if (i == 1):\n                a[i] = 0.\n                b[i] = 1.\n                c[i] = 0.\n                d[i] = airT\n            elif (i < n):\n                a[i] = -f[i-1]*factor\n                b[i] = C_T[i]/dt + f[i-1]*factor + f[i]*factor\n                c[i] = -f[i]*factor\n                d[i] = C_T[i]/dt * oldT[i] +(1.-factor)*(f[i-1]*oldT[i-1]+f[i]\n                                            *oldT[i+1]-(f[i-1]+f[i])*oldT[i])\n            elif (i == n):\n                a[n] = 0.\n                b[n] = 1.\n                c[n] = 0.\n                d[n] = boundaryT \n        ThomasBoundaryCondition(a, b, c, d, T, 1, n)\n        dSum = 0\n        for i in range(2, n):\n            dSum += C_T[i]*(T[i]-oldT[i])\n        energyBalance = (abs(dSum - factor*dt*(f[1]*(T[1]-T[2]) \n                    - f[n-1]*(T[n-1]-boundaryT)) - g*dt*(f[1]*(oldT[1]-oldT[2]) \n                    - f[n-1]*(oldT[n-1]-boundaryT))))\n        nrIterations += 1\n   \n    if (energyBalance < tolerance):\n        flux = f[1]*(T[1]-T[2])\n        return True, nrIterations, flux\n    else:\n        return False, nrIterations, 0\n\n        \ndef cellCentFiniteVol(airT, boundaryT, dt):\n    energyBalance = 1.\n    for i in range(1, n+2):\n        T[i] = oldT[i] \n    nrIterations = 0\n    while ((energyBalance > tolerance) and (nrIterations < maxNrIterations)):\n        for i in range(1, n+2):\n            lambda_[i] = thermalConductivity(bulkDensity, wc[i], clay, T[i])\n            C_T[i] = heatCapacity(bulkDensity, wc[i])*vol[i]\n        f[0] = 0.\n        for i in range(1, n+1):\n            f[i] = area * kMean(LOGARITHMIC, lambda_[i], lambda_[i+1]) / dz[i]\n        for i in range(1, n+1):    \n            if (i == 1):\n                a[i] = 0.\n                b[i] = 1.\n                c[i] = 0.\n                d[i] = airT\n            elif (i < n):\n                a[i] = -f[i-1]\n                b[i] = C_T[i]/dt + f[i-1] + f[i]\n                c[i] = -f[i]\n                d[i] = C_T[i]/dt * oldT[i]\n            elif (i == n):\n                a[n] = 0.\n                b[n] = 1.\n                c[n] = 0.\n                d[n] = boundaryT \n        ThomasBoundaryCondition(a, b, c, d, T, 1, n)\n        dSum = 0\n        for i in range(2, n):\n            dSum += C_T[i]*(T[i]-oldT[i])\n        energyBalance = (abs(dSum - f[1]*(T[1]-T[2])*dt \n                           + f[n-1]*(T[n-1]-boundaryT)*dt))\n        nrIterations += 1\n\n    if (energyBalance < tolerance):\n        flux = f[1]*(T[1]-T[2])\n        return True, nrIterations, flux\n    else:\n        return False, nrIterations, 0\n    \n\n"]
  }
 ],
 "metadata": {
  "kernelspec": {
   "display_name": "Python 3",
   "language": "python",
   "name": "python3"
  },
  "language_info": {
   "codemirror_mode": {
    "name": "ipython",
    "version": 3
   },
   "file_extension": ".py",
   "mimetype": "text/x-python",
   "name": "python",
   "nbconvert_exporter": "python",
   "pygments_lexer": "ipython3",
   "version": "3.4.2"
  }
 },
 "nbformat": 4,
 "nbformat_minor": 0
}