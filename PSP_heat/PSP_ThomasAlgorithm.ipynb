{
 "cells": [
  {
   "cell_type": "code",
   "execution_count": null,
   "metadata": {
    "collapsed": false
   },
   "outputs": [],
   "source": ["#PSP_ThomasAlgorithm.py \nfrom __future__ import division\nimport numpy as np\n\ndef Thomas(a, b, c, d):\n    n=len(d)\n    x =np.zeros(n, float)\n    \n    for i in range(0, n-1):\n        c[i] /=  b[i]\n        d[i] /=  b[i]\n        b[i + 1] -=  a[i + 1] * c[i]\n        d[i + 1] -=  a[i + 1] * d[i]\n    \n    # back substitution    \n    x[n-1] = d[n-1] / b[n-1]\n    for i in range(n-2, -1, -1):\n        x[i] = d[i] - c[i] * x[i + 1]\n    \n    return(x)\n\ndef ThomasBoundaryCondition(a, b, c, d, x, first, last):\n    for i in range(first, last):\n        c[i] /=  b[i]\n        d[i] /=  b[i]\n        b[i + 1] -=  a[i + 1] * c[i]\n        d[i + 1] -=  a[i + 1] * d[i]\n    \n    # back substitution    \n    x[last] = d[last] / b[last]\n    for i in range(last-1, first-1, -1):\n        x[i] = d[i] - c[i] * x[i + 1]\n"]
  }
 ],
 "metadata": {
  "kernelspec": {
   "display_name": "Python 3",
   "language": "python",
   "name": "python3"
  },
  "language_info": {
   "codemirror_mode": {
    "name": "ipython",
    "version": 3
   },
   "file_extension": ".py",
   "mimetype": "text/x-python",
   "name": "python",
   "nbconvert_exporter": "python",
   "pygments_lexer": "ipython3",
   "version": "3.4.2"
  }
 },
 "nbformat": 4,
 "nbformat_minor": 0
}