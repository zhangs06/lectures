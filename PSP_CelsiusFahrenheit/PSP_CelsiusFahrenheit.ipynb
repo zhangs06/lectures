{
 "cells": [
  {
   "cell_type": "code",
   "execution_count": null,
   "metadata": {
    "collapsed": false
   },
   "outputs": [],
   "source": ["#PSP_CelsiusFahrenheit.py\nfrom __future__ import print_function, division\nimport sys\nif sys.version_info >= (3, 0):\n    get_input = input\nelse:\n    get_input = raw_input\n\ndef print_options():\n    print (\"Options:\")\n    print (\" 'p' print options\")\n    print (\" 'c' convert from Celsius\")\n    print (\" 'f' convert from Fahrenheit\")\n    print (\" 'q' quit the program\")\n \ndef celsius_to_fahrenheit(c_temp):\n    return (9.0 / 5.0) * c_temp + 32.0\n \ndef fahrenheit_to_celsius(f_temp):\n    return (f_temp - 32.0) * 5.0 / 9.0\n \nchoice = \"p\"\nwhile choice != \"q\":\n    if choice == \"c\":\n        temp = float(input(\"Celsius temperature: \"))\n        print (\"Fahrenheit:\", celsius_to_fahrenheit(temp), \"\\n\")\n    elif choice == \"f\":\n        temp = float(input(\"Fahrenheit temperature: \"))\n        print (\"Celsius:\", fahrenheit_to_celsius(temp), \"\\n\")\n    print_options()\n    choice = get_input()\n\n\n       \n\n"]
  }
 ],
 "metadata": {
  "kernelspec": {
   "display_name": "Python 3",
   "language": "python",
   "name": "python3"
  },
  "language_info": {
   "codemirror_mode": {
    "name": "ipython",
    "version": 3
   },
   "file_extension": ".py",
   "mimetype": "text/x-python",
   "name": "python",
   "nbconvert_exporter": "python",
   "pygments_lexer": "ipython3",
   "version": "3.4.2"
  }
 },
 "nbformat": 4,
 "nbformat_minor": 0
}