{
 "cells": [
  {
   "cell_type": "code",
   "execution_count": null,
   "metadata": {
    "collapsed": false
   },
   "outputs": [],
   "source": ["#PSP_integration.py\nfrom __future__ import division\n\ndef trapzd(func, a, b, n):\n    if (n == 1): \n        trapzd.s = 0.5*(b-a)*(func(a) + func(b))\n        return trapzd.s\n    else:\n        it = 1 \n        for j in range(1, n-1):\n            it <<= 1\n        tnm = float(it)\n        del_ = (b-a)/tnm\n        x = a+0.5*del_\n        sum = 0.0\n        for j in range(1, it+1): \n            sum += func(x)\n            x += del_\n        trapzd.s = 0.5*(trapzd.s + (b-a)*sum/tnm)\n        return trapzd.s\n\ndef qsimp(func, a, b):\n    EPS = 1.0e-6\n    JMAX = 20\n    ost=0.0\n    os=0.0\n    for j in range(1, JMAX+1):\n        st = trapzd(func,a,b,j)\n        s = (4.0*st-ost)/3.0\n        if (j > 5):\n            if (abs(s-os) < EPS*abs(os) or (s == 0.0 and os == 0.0)): \n                return s\n        os=s\n        ost=st"]
  }
 ],
 "metadata": {
  "kernelspec": {
   "display_name": "Python 3",
   "language": "python",
   "name": "python3"
  },
  "language_info": {
   "codemirror_mode": {
    "name": "ipython",
    "version": 3
   },
   "file_extension": ".py",
   "mimetype": "text/x-python",
   "name": "python",
   "nbconvert_exporter": "python",
   "pygments_lexer": "ipython3",
   "version": "3.4.2"
  }
 },
 "nbformat": 4,
 "nbformat_minor": 0
}