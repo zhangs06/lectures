{
 "cells": [
  {
   "cell_type": "code",
   "execution_count": null,
   "metadata": {
    "collapsed": false
   },
   "outputs": [],
   "source": ["#PSP_soil.py\n\nCAMPBELL = 1\nVAN_GENUCHTEN = 2\nwaterRetentionCurve = 0\n\nthetaS      = 0.46          #[m3/m3] saturated water content\nthetaR      = 0.01          #[m3/m3] residual water content\nCampbell_he = -4.2          #[J/kg] air-entry potential in Campbell formulation\nCampbell_b  = 3.58          #[-] slope parameter in Campbell formulation\nVG_alpha    = 0.18          #[kg/J] alpha parameter in van Genuchten formulation\nVG_n        = 2.86          #[-] n parameter in van Genuchten formulation\nVG_m        = 0.11          #[-] m parameter in van Genuchten formulation\n\ndef waterContent(signPsi):\n    if (waterRetentionCurve == CAMPBELL):\n        if (signPsi >= Campbell_he):\n            return thetaS\n        else:\n            Se = (signPsi / Campbell_he)**(-1. / Campbell_b)\n            return Se*thetaS\n        \n    elif(waterRetentionCurve == VAN_GENUCHTEN):\n        if (signPsi >= 0.):\n            return thetaS\n        else:\n            Se = 1. / (1. + (VG_alpha * abs(signPsi))**VG_n)**VG_m\n            return Se*(thetaS - thetaR) + thetaR"]
  }
 ],
 "metadata": {
  "kernelspec": {
   "display_name": "Python 3",
   "language": "python",
   "name": "python3"
  },
  "language_info": {
   "codemirror_mode": {
    "name": "ipython",
    "version": 3
   },
   "file_extension": ".py",
   "mimetype": "text/x-python",
   "name": "python",
   "nbconvert_exporter": "python",
   "pygments_lexer": "ipython3",
   "version": "3.4.2"
  }
 },
 "nbformat": 4,
 "nbformat_minor": 0
}