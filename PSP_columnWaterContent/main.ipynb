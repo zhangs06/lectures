{
 "cells": [
  {
   "cell_type": "code",
   "execution_count": null,
   "metadata": {
    "collapsed": false
   },
   "outputs": [],
   "source": ["#PSP_columnWaterContent\nfrom __future__ import print_function, division\n\nimport matplotlib.pyplot as plt\nimport matplotlib.cm as cm\nimport matplotlib.image as image\nimport numpy as np\nimport PSP_soil as soil\nfrom PSP_integration import qsimp\n\ndef main():\n    choice = 0\n    print (soil.CAMPBELL,' Campbell')\n    print (soil.VAN_GENUCHTEN,' van Genuchten')\n    while (choice < soil.CAMPBELL) or (choice > soil.VAN_GENUCHTEN):\n        choice = float(input(\"Choose water retention curve: \"))\n        if (choice < soil.CAMPBELL) or (choice > soil.VAN_GENUCHTEN):\n            print('wrong choice.')\n    soil.waterRetentionCurve = choice\n\t\n    waterTableDepth = 2.0                       \n    nrValues = 100\n    step = waterTableDepth/nrValues           \n    \n    integral = qsimp(soil.waterContent, -waterTableDepth*9.81, 0)\n    totalWaterContent = integral / 9.81\n    print (\"\\nTotal water content [m2/m2]:\", totalWaterContent)\n    \n    x = np.zeros(nrValues+1, float)\n    y = np.zeros(nrValues+1, float)\n    for i in range(nrValues+1):\n        y[i] = step*i                           \n        psi = y[i] - waterTableDepth           \n        psi *= 9.81                             \n        x[i] = soil.waterContent(psi)\n    \n    img = image.imread('soilProfile.png')\n    matplot = plt.imshow(img, extent=[0,1,waterTableDepth,0])   \n    plt.plot(x, y, 'k', linewidth='3')\n    plt.xlim(0, 1)\n    plt.ylim(waterTableDepth, 0)\n    plt.title('')\n    plt.xlabel('water content [m$^2$ m$^{-2}$]')\n    plt.ylabel('depth [m]')\n    plt.show()\n\t\nmain()"]
  }
 ],
 "metadata": {
  "kernelspec": {
   "display_name": "Python 3",
   "language": "python",
   "name": "python3"
  },
  "language_info": {
   "codemirror_mode": {
    "name": "ipython",
    "version": 3
   },
   "file_extension": ".py",
   "mimetype": "text/x-python",
   "name": "python",
   "nbconvert_exporter": "python",
   "pygments_lexer": "ipython3",
   "version": "3.4.2"
  }
 },
 "nbformat": 4,
 "nbformat_minor": 0
}