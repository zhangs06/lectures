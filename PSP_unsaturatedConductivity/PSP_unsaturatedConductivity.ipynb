{
 "cells": [
  {
   "cell_type": "code",
   "execution_count": null,
   "metadata": {
    "collapsed": false
   },
   "outputs": [],
   "source": ["#PSP_unsaturatedConductivity.py\nfrom __future__ import print_function\nfrom PSP_readDataFile import readDataFile\nimport matplotlib.pyplot as plt\nimport numpy as np\nimport math\n\nNODATA = -9999\n\ndef betacf(a, b, x):\n    maxNrIterations = 50\n    maxEpsilon = 0.0000003\n    am = 1\n    bm = 1\n    az = 1\n    bz = 1 - (a+b) * x / (a+1)\n    myEpsilon = 1\n    m = 1\n    while (myEpsilon > (maxEpsilon * abs(az))):\n        if (m > maxNrIterations): return (NODATA)\n        d = (m * (b - m) * x) / ((a + 2*m -1) * (a + 2*m))\n        ap = az + d * am\n        bp = bz + d * bm\n        d = -((a + m) * (a + b + m) * x) / ((a + 2*m) * (a + 2*m + 1))\n        app = ap + d * az\n        bpp = bp + d * bz\n        am = ap / bpp\n        bm = bp / bpp\n        old_az = az\n        az = app / bpp\n        bz = 1\n        m += 1\n        myEpsilon = abs(az - old_az)\n        \n    return (az)\n\ndef incompleteBetaFunction(a, b, x):\n    if ((x < 0.) or (x > 1.)): \n        return (NODATA)\n    if ((x == 0.) or (x == 1.)):\n        bt = 0.\n    else:\n        bt = math.exp(math.lgamma(a + b) - math.lgamma(a) - math.lgamma(b) + a * math.log10(x) + b * math.log10(1. - x))\n    if (x < ((a + 1.) / (a + b + 2.))):\n        return(bt * betacf(a, b, x) / a)\n    else:\n        return(1. - bt * betacf(b, a, 1. - x) / b)\n\ndef computeConductivity(currentSe, n, m, Ks):\n    p = m + 1. / n\n    q = 1. - 1. / n\n    z = currentSe ** (1. / m)\n    myBeta = incompleteBetaFunction(p, q, z)\n    if (myBeta == NODATA):\n        return (NODATA)\n    else:\n        return(Ks * currentSe * (myBeta ** 2.))\n\ndef main():\n    A, isFileOk = readDataFile(\"soil.txt\",1,',', True)\n    if ((not isFileOk) or (len(A[0]) != 6)):\n        print('warning: wrong soil file.')\n        return (False)\n    \n    VG_alpha = A[0,0]\n    VG_n = A[0,1]\n    VG_m = A[0,2]\n    VG_thetaR = A[0,3]\n    thetaS = A[0,4]\n    Ks = A[0,5]\n        \n    A, isFileOk = readDataFile(\"SWC.txt\",1,'\\t', False)    \n    if (not isFileOk): \n        print('warning: wrong SWC file in row nr.', A+1)\n        return (False)\n    \n    waterPotential = A[:,0]\n    waterContent = A[:,1]\n    conductivity = np.zeros(len(waterContent))\n        \n    for i in range(0, len(waterContent)):\n        currentSe = (waterContent[i] - VG_thetaR) / (thetaS - VG_thetaR)\n        conductivity[i] = computeConductivity(currentSe, VG_n, VG_m, Ks)\n        if (conductivity[i] == NODATA):\n            print ('Error in compute conductivity')\n            return (False)\n    \n    plt.figure(figsize=(10,8))        \n    plt.loglog (waterPotential, conductivity, 'ko')\n    plt.xlabel('Water Potential [J kg$^{-1}$]',fontsize=20,labelpad=2)\n    plt.ylabel('Hydraulic Conductivity [kg s$^{-1}$ m$^{-3}$]',fontsize=20,labelpad=2)\n    plt.tick_params(axis='both', which='major', labelsize=20,pad=6)\n    plt.tick_params(axis='both', which='minor', labelsize=20,pad=6)\n    plt.show()   \n        \nmain()\n"]
  }
 ],
 "metadata": {
  "kernelspec": {
   "display_name": "Python 3",
   "language": "python",
   "name": "python3"
  },
  "language_info": {
   "codemirror_mode": {
    "name": "ipython",
    "version": 3
   },
   "file_extension": ".py",
   "mimetype": "text/x-python",
   "name": "python",
   "nbconvert_exporter": "python",
   "pygments_lexer": "ipython3",
   "version": "3.4.2"
  }
 },
 "nbformat": 4,
 "nbformat_minor": 0
}