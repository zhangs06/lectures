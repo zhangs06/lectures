{
 "cells": [
  {
   "cell_type": "code",
   "execution_count": null,
   "metadata": {
    "collapsed": false
   },
   "outputs": [],
   "source": ["#PSP_Delaunay.py\nfrom __future__ import print_function, division\nfrom PSP_utility import *\nimport PSP_triangle as triangle\n\n\ndef insertVertexClockwise(newVertex, center, vertexList, angleList):\n    #is first point\n    v = copy(newVertex)\n    if (len(vertexList) == 0):\n        vertexList.append(v)\n        angleList.append(-2)\n        return()\n    #check duplicate\n    for i in range(len(vertexList)):\n        if ((v[0] == vertexList[i][0])\n        and (v[1] == vertexList[i][1])):\n            return()\n    #compute false angle (no trigonometric functions) [-2,2]    \n    angle = triangle.getPseudoAngle(v, center, vertexList[0])\n    #check position\n    i = 1\n    while ((i < len(angleList)) and (angle > angleList[i])):\n        i += 1\n    vertexList.insert(i, v)\n    angleList.insert(i, angle)\n    \n    \ndef Delaunay(triangleList, newPoint):\n    deleteList = []\n    vertexList = []\n    angleList = []\n    newTriangles = []\n    # erase a triangle if the point is inside his circumcircle.\n    for i in range(len(triangleList)): \n        myTriangle = triangleList[i]    \n        if triangle.isInCircumCircle(newPoint, myTriangle):\n            deleteList.append(i)\n            for j in range(3):\n                insertVertexClockwise(myTriangle.v[j], \n                            newPoint, vertexList, angleList)                          \n    # create new triangles\n    nrVertices = len(vertexList) \n    for i in range(nrVertices):\n        v = np.zeros((3, 3), float)\n        v[0] = newPoint\n        v[1] = vertexList[i]\n        v[2] = vertexList[(i+1) % nrVertices] \n        myTriangle = triangle.Ctriangle(v)\n        if not myTriangle.circle.isCorrect: return False\n        newTriangles.append(myTriangle)\n        \n    for i in range(len(deleteList)-1, -1, -1):\n        triangleList.pop(deleteList[i])\n    for i in range(len(newTriangles)):\n        triangleList.append(newTriangles[i])                   \n    return True\n\n\ndef firstTriangulation(pointList, internalPointList, header, dtm): \n    print(\"Delaunay...\") \n    step = header.cellSize * (header.nrCols + header.nrRows) / 50\n    xMin = header.xllCorner - step\n    xMax = header.xllCorner + header.nrCols * header.cellSize + step\n    yMin = header.yllCorner - step\n    yMax = header.yllCorner + header.nrRows * header.cellSize + step\n    \n    A = np.array([xMin, yMin, NODATA])\n    B = np.array([xMin, yMax, NODATA])\n    C = np.array([xMax, yMax, NODATA])\n    D = np.array([xMax, yMin, NODATA])\n    \n    # boundary: domain divided in two triangles\n    triangleList = []\n    triangleList.append(triangle.Ctriangle(np.array([A,B,C])))\n    triangleList.append(triangle.Ctriangle(np.array([C,D,A])))\n    \n    triangleListOutput = []\n    \n    pointIndex = 0\n    while pointIndex < len(pointList):       \n        currentPoint = pointList[pointIndex].copy()\n        # move 'completed' triangles to the output\n        i = 0\n        while (i < len(triangleList)): \n            myTriangle = triangleList[i]\n            if (triangle.isCircumCircleLeft(myTriangle, currentPoint)\n            and not triangle.hasVertexInDomain(myTriangle)): \n                if triangle.isInsideDTM(myTriangle, internalPointList, header, dtm):\n                    triangleListOutput.append(myTriangle)\n                triangleList.pop(i)\n            else: i += 1\n        \n        if Delaunay(triangleList, currentPoint):\n            pointIndex += 1\n        else:\n            pointList.pop(pointIndex)\n                \n    # remove all the triangles belonging to the boundary \n    # and move the remaining triangles to the output\n    while (len(triangleList) > 0):\n        if not triangle.hasVertexInDomain(triangleList[0]):\n            if triangle.isInsideDTM(triangleList[0], internalPointList, header, dtm):\n                triangleListOutput.append(triangleList[0])\n        triangleList.pop(0)\n    \n    pointList = sortPointList(pointList)    \n    return(pointList, triangleListOutput)\n\n"]
  }
 ],
 "metadata": {
  "kernelspec": {
   "display_name": "Python 3",
   "language": "python",
   "name": "python3"
  },
  "language_info": {
   "codemirror_mode": {
    "name": "ipython",
    "version": 3
   },
   "file_extension": ".py",
   "mimetype": "text/x-python",
   "name": "python",
   "nbconvert_exporter": "python",
   "pygments_lexer": "ipython3",
   "version": "3.4.2"
  }
 },
 "nbformat": 4,
 "nbformat_minor": 0
}