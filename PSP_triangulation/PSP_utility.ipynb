{
 "cells": [
  {
   "cell_type": "code",
   "execution_count": null,
   "metadata": {
    "collapsed": false
   },
   "outputs": [],
   "source": ["#PSP_triangulation.py\nfrom __future__ import print_function, division\nfrom PSP_gis import *\n     \ndef initializeFlagMatrix(header, dtm, pointList, step):\n    flagMatrix = np.zeros((header.nrCols, header.nrRows), bool)\n    \n    for col in range(header.nrCols):\n        for row in range(header.nrRows):\n            if dtm[col][row] == header.flag:\n                flagMatrix[col, row] = False\n            else:\n                flagMatrix[col, row] = True\n                  \n    for i in range(len(pointList)): \n        p = pointList[i]\n        col, row = getColRowFromXY(header, p[0], p[1])   \n        updateFlagMatrix(flagMatrix, header, col, row, step) \n    return flagMatrix\n  \ndef updateFlagMatrix(flagMatrix, header, col, row, step):\n    for dCol in np.arange(1-step, step):\n        for dRow in np.arange(1-step, step):\n            if not isOutOfGridColRow(header, col+dCol, row+dRow):\n                flagMatrix[col+dCol, row+dRow] = False\n    return flagMatrix\n\ndef searchPosition(x, sortPointList, first, last): \n    if x <= sortPointList[first][0]:\n        return first\n    elif x > sortPointList[last][0]:\n        return (last+1)\n    elif (last - first) < 2:\n        return last\n    else:\n        m = int((first+last)/2)\n        if (x <= sortPointList[m][0]):\n            return(searchPosition(x, sortPointList, first, m))\n        else:\n            return(searchPosition(x, sortPointList, m, last)) \n                     \ndef sortPointList(pointList):\n    sortList = [pointList[0]]\n    for i in range(1, len(pointList)):\n        x = pointList[i][0]\n        index = searchPosition(x, sortList, 0, len(sortList) - 1)\n        sortList.insert(index, pointList[i])\n    return(sortList)                          \n\ndef addPartitionPoints(pointList, header, dtm, intervalStep, \n                       randomFactor, flagMatrix, flagStep):\n    np.random.seed()\n    col = 0\n    isLastCol = False\n    partitionPointList = []\n    while not isLastCol:\n        row = 0\n        isLastRow = False\n        while not isLastRow:\n            delta = intervalStep * randomFactor * (2*np.random.random() - 1)\n            c = col\n            r = row\n            if col != 0 and col < (header.nrCols -1): c += int(delta)\n            if row != 0 and row < (header.nrRows -1): r += int(delta)\n            if isTrue(header, flagMatrix, c, r): \n                point = getPointFromColRow(header, dtm, c, r)\n                pointList.append(point)\n                partitionPointList.append(point)\n                flagMatrix = updateFlagMatrix(flagMatrix, header, c, r, flagStep)\n            if (row == header.nrRows -1): \n                isLastRow = True\n            else: \n                row += intervalStep\n                if row >= (header.nrRows-intervalStep/3.): row = header.nrRows -1\n        if (col == header.nrCols -1): \n            isLastCol = True\n        else: \n            col += intervalStep\n            if col >= (header.nrCols-intervalStep/3.): col = header.nrCols -1               \n    return partitionPointList\n\ndef orderedInsert(index, indexList):\n    #is first\n    if (len(indexList) == 0):\n        indexList.append(index)\n        return()\n    #check duplicate\n    for i in range(len(indexList)):\n        if (index == indexList[i]):\n            return()\n    #check position\n    i = 0\n    while ((i < len(indexList)) and (index > indexList[i])):\n        i += 1\n    indexList.insert(i, index)\n    \ndef isAdjacentIndex(t1, t2):\n    shareVertices = 0\n    for i in range(3):\n        for j in range(3):\n            if (t1[i] == t2[j]):\n                shareVertices += 1\n                if shareVertices == 2:\n                    return True\n    return False\n       \ndef getNeighbours(triangleList): \n    nrTriangles = len(triangleList)  \n    neighbourList = np.zeros((nrTriangles, 3), int)\n    nrNeighbours = np.zeros(nrTriangles, int)\n    for i in range(nrTriangles):\n        index = 0\n        neighbourList[i] = [NOLINK, NOLINK, NOLINK]\n        j = 0\n        while (j < nrTriangles) and (index < 3):\n            if (nrNeighbours[j]<3):\n                if isAdjacentIndex(triangleList[i], triangleList[j]):\n                    if (j != i):\n                        neighbourList[i, index] = j\n                        nrNeighbours[j] += 1\n                        index += 1\n            j += 1\n    return(neighbourList)\n    \ndef writeTIN(triangleList, pointList, header, dtm, \n             fnVertices, fnTriangles, fnNeighbours):\n    print(\"Save TIN...\")\n    #save vertices\n    file = open(fnVertices, \"w\")\n    for i in range(len(pointList)):\n        p = pointList[i]\n        file.write(str(p[0]) +\",\"+ str(p[1]) +\",\"+ format(p[2],\".1f\") +\"\\n\")\n        \n    #save triangle vertices\n    triangleVertexList = np.zeros((len(triangleList),3), int)\n    for i in range(len(triangleList)):\n        for j in range(3):\n            x = triangleList[i].v[j][0]\n            pointIndex = searchPosition(x, pointList, 0, len(pointList)-1)\n            while not(np.all(triangleList[i].v[j] == pointList[pointIndex])):\n                pointIndex += 1\n            triangleVertexList[i,j] = pointIndex\n            \n    file = open(fnTriangles, \"w\")\n    for i in range(len(triangleVertexList)):\n        t = triangleVertexList[i]\n        file.write(str(t[0]) +\",\"+ str(t[1]) +\",\"+ str(t[2]) +\"\\n\")\n    \n    neighbourList =  getNeighbours(triangleVertexList)\n    file = open(fnNeighbours, \"w\")\n    for i in range(len(neighbourList)):\n        n = neighbourList[i]\n        file.write(str(n[0]) +\",\"+ str(n[1]) +\",\"+ str(n[2]) +\"\\n\")\n            "]
  }
 ],
 "metadata": {
  "kernelspec": {
   "display_name": "Python 3",
   "language": "python",
   "name": "python3"
  },
  "language_info": {
   "codemirror_mode": {
    "name": "ipython",
    "version": 3
   },
   "file_extension": ".py",
   "mimetype": "text/x-python",
   "name": "python",
   "nbconvert_exporter": "python",
   "pygments_lexer": "ipython3",
   "version": "3.4.2"
  }
 },
 "nbformat": 4,
 "nbformat_minor": 0
}