{
 "cells": [
  {
   "cell_type": "code",
   "execution_count": null,
   "metadata": {
    "collapsed": false
   },
   "outputs": [],
   "source": ["#PSP_triangulation.py\nfrom __future__ import print_function, division\nfrom PSP_RamerDouglasPeucker import getDtmBoundary\nfrom PSP_Delaunay import firstTriangulation\nfrom PSP_refinement import *\n\ndef triangulate(header, dtm, quality, angleThreshold, isInitialPartition):             \n    invQuality = 1.0 / quality \n    step = max(1, round(invQuality))    # [pixel] computation step  \n    nrPixelsSide = sqrt(header.nrPixels)\n    # [pixel] average distance between two points of the initial partition \n    partitionStep = round(invQuality * sqrt(nrPixelsSide))\n    \n    # [m] maximum height difference for refinement   \n    thresholdZ = invQuality * header.dz / 100.0\n    \n    # [m] maximum perpendicular distance for boundary   \n    thresholdRamer = thresholdZ * invQuality**2 \n    \n    #[m] maximum distance for boundary \n    maxBoundarySide = partitionStep * header.cellSize / 2.0\n     \n    # [m^2] minimum area of triangles\n    minArea = invQuality * invQuality * header.cellSize**2\n    \n    # [0-1] fraction variability for partition \n    randomFactor = 0.3                \n\n    pointList = getDtmBoundary(header, dtm, thresholdRamer, maxBoundarySide)\n    flagMatrix = initializeFlagMatrix(header, dtm, pointList, step)\n    \n    visual3D.drawAllPoints(pointList, header)\n     \n    if isInitialPartition:    \n        partitionPointList = addPartitionPoints(pointList, header, \n                  dtm, partitionStep, randomFactor, flagMatrix, step)\n        visual3D.drawAllPoints(pointList, header)\n    else:\n        partitionPointList = []\n        \n    pointList = sortPointList(pointList)\n    \n    pointList, triangleList = firstTriangulation(pointList, partitionPointList, header, dtm)\n    visual3D.drawAllTriangles(triangleList, header)\n    \n    pointList, triangleList, flagMatrix = refinementZ(pointList, triangleList, \n                        header, dtm, thresholdZ, minArea, flagMatrix, step)\n    \n    pointList, triangleList, flagMatrix = refinementAngle(pointList, triangleList, \n                        header, dtm, angleThreshold, minArea, flagMatrix, step)\n    \n    return (pointList, triangleList)\n"]
  }
 ],
 "metadata": {
  "kernelspec": {
   "display_name": "Python 3",
   "language": "python",
   "name": "python3"
  },
  "language_info": {
   "codemirror_mode": {
    "name": "ipython",
    "version": 3
   },
   "file_extension": ".py",
   "mimetype": "text/x-python",
   "name": "python",
   "nbconvert_exporter": "python",
   "pygments_lexer": "ipython3",
   "version": "3.4.2"
  }
 },
 "nbformat": 4,
 "nbformat_minor": 0
}