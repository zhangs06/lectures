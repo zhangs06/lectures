{
 "cells": [
  {
   "cell_type": "code",
   "execution_count": null,
   "metadata": {
    "collapsed": false
   },
   "outputs": [],
   "source": ["#PSP_triangle.py\nfrom __future__ import division\nfrom PSP_gis import *\nMINIMUMANGLE = pi/200.\n\nclass Crectangle:\n    x0 = x1 = NODATA\n    y0 = y1 = NODATA \n    \nclass Ccircle:\n    def __init__(self, xc, yc, radiusSquared, isCorrect):\n        if (isCorrect):\n            self.x = xc\n            self.y = yc \n            self.radiusSquared = radiusSquared\n            self.radius = sqrt(radiusSquared)\n        self.isCorrect =  isCorrect\n       \nclass Cplane:\n    # plane equation: ax + by + cz + d = 0\n    a = b = c = d = NODATA\n    \nclass Ctriangle:\n    def __init__(self, v = np.zeros((3, 3), float)):\n        self.v = v\n        if (not np.all(v == 0.0)): \n            #centroid\n            self.x = sum(v[:,0]) / 3.0\n            self.y = sum(v[:,1]) / 3.0\n            self.circle = getCircumCircle(v)\n            self.isRefinedZ = False\n            self.isRefinedAngle = False\n    \ndef getRectangle(v):\n    rect = Crectangle()\n    x = v[:,0]\n    y = v[:,1]\n    rect.x0 = min(x[0], x[1], x[2])\n    rect.y0 = min(y[0], y[1], y[2])\n    rect.x1 = max(x[0], x[1], x[2])\n    rect.y1 = max(y[0], y[1], y[2])\n    return(rect)  \n\ndef getCircumCircle(v):\n    if (getMinAngle(v) == 0.0):\n        return Ccircle(NODATA, NODATA, NODATA, False)\n    x = v[:,0]\n    y = v[:,1]\n    a = x[0]*x[0] + y[0]*y[0]\n    b = x[1]*x[1] + y[1]*y[1]\n    c = x[2]*x[2] + y[2]*y[2]\n    d = 2*(x[0]*(y[1]-y[2]) + x[1]*(y[2]-y[0]) + x[2]*(y[0]-y[1]))\n    xc = (a*(y[1] - y[2]) + b*(y[2] - y[0]) + c*(y[0] - y[1])) / d\n    yc = (a*(x[2] - x[1]) + b*(x[0] - x[2]) + c*(x[1] - x[0])) / d\n    dx = fabs(xc - x[0])\n    dy = fabs(yc - y[0])\n    radiusSquared = dx * dx + dy * dy\n    return Ccircle(xc, yc, radiusSquared, True)\n  \ndef getPlane(v):\n    plane = Cplane()\n    x = v[:,0]\n    y = v[:,1]\n    z = v[:,2]\n    plane.a = (y[1]-y[0])*(z[2]-z[0]) - (y[2]-y[0])*(z[1]-z[0])\n    plane.b = (x[2]-x[0])*(z[1]-z[0]) - (x[1]-x[0])*(z[2]-z[0])\n    plane.c = (x[1]-x[0])*(y[2]-y[0]) - (x[2]-x[0])*(y[1]-y[0])\n    plane.d = -(plane.a*x[0] + plane.b*y[0] + plane.c*z[0])\n    return(plane)\n\ndef getZplane(plane, x, y):\n    z = -(plane.a*x + plane.b*y + plane.d) / plane.c\n    return(z)\n\n# checks if a point is in circumcircle of the triangle.\ndef isInCircumCircle(point, triangle):\n    dx = point[0] - triangle.circle.x\n    dy = point[1] - triangle.circle.y\n    if (((dx * dx) + (dy * dy)) <= triangle.circle.radiusSquared): return(True)\n    else: return(False)\n    \n\ndef sign(P, A, B):\n    crossProductXY = (P[0]-A[0])*(B[1]-A[1]) - (P[1]-A[1])*(B[0]-A[0])\n    if crossProductXY > 0.0: \n        return 1.0\n    else:\n        return -1.0\n    \ndef isPointInside(point, v):\n    s1 = sign(point, v[0], v[1])\n    s2 = sign(point, v[1], v[2])\n    s3 = sign(point, v[2], v[0])\n    if (s1 == s2) and (s2 == s3): \n        return True\n    else:\n        return False\n\n \ndef getArea2D(v):\n    x = v[:,0]\n    y = v[:,1]\n    return 0.5 * fabs(x[0]*(y[1]-y[2]) - x[1]*(y[0]-y[2]) + x[2]*(y[0]-y[1]))\n\ndef magnitude(v):\n    return(np.sqrt(v.dot(v)))\n\ndef getArea(v):\n    return 0.5 * magnitude(np.cross(v[1] - v[0], v[2] - v[0]))\n\n# Carnot equation\ndef getCosine(v0, v1, v2):\n    a = distance2D(v0, v2)\n    b = distance2D(v0, v1)\n    c = distance2D(v2, v1)\n    denom = 2.0 * b * c\n    denom = max(denom, 0.0001)\n    return (b*b + c*c - a*a) / denom\n\ndef getAngle(v0, v1, v2):\n    cosine = getCosine(v0, v1, v2)\n    cosine = min(cosine, 1.0)\n    cosine = max(cosine, -1.0)\n    return acos(cosine)  \n\ndef getPseudoAngle(v0, v1, v2):\n    cosine = getCosine(v0, v1, v2)\n    pseudoAngle = (cosine + 1.0)                #[ 0, 2]\n    if sign(v0, v1, v2) > 0:  \n        pseudoAngle *= -1                       #[-2, 2]\n    return pseudoAngle\n\ndef getMinAngle(v):\n    angle0 = getAngle(v[0],v[1],v[2])\n    angle1 = getAngle(v[1],v[2],v[0])\n    angle2 = getAngle(v[2],v[0],v[1])\n    return min(angle0, angle1, angle2)      \n\n#adjacent: 2 shared vertices with polygon v\ndef isAdjacent(u, v):\n    nrSharedVertices = 0\n    for i in range(3):\n        for j in range(len(v)):\n            if np.all(u[i] == v[j]):\n                nrSharedVertices += 1\n                if (nrSharedVertices == 2):\n                    return True\n    return False\n\ndef isCircumCircleLeft(triangle, point):\n    xMax = triangle.circle.x + triangle.circle.radius\n    currentX = point[0]\n    return(currentX > xMax)\n\n\ndef hasVertexInDomain(triangle):\n    for i in range(3):\n        if (triangle.v[i][2] == NODATA): return(True)\n    else: return(False)\n\n    \ndef isInsideDTM(triangle, internalPointList, header, grid):\n    zCircumCenter = getValueFromXY(header, grid, triangle.circle.x, triangle.circle.y)\n    if (zCircumCenter != header.flag):\n        return True\n    else:\n        for i in range (len(internalPointList)):\n            for j in range(3):\n                if np.all(triangle.v[j] == internalPointList[i]):\n                    return True\n    return False\n\n        "]
  }
 ],
 "metadata": {
  "kernelspec": {
   "display_name": "Python 3",
   "language": "python",
   "name": "python3"
  },
  "language_info": {
   "codemirror_mode": {
    "name": "ipython",
    "version": 3
   },
   "file_extension": ".py",
   "mimetype": "text/x-python",
   "name": "python",
   "nbconvert_exporter": "python",
   "pygments_lexer": "ipython3",
   "version": "3.4.2"
  }
 },
 "nbformat": 4,
 "nbformat_minor": 0
}