{
 "cells": [
  {
   "cell_type": "code",
   "execution_count": null,
   "metadata": {
    "collapsed": false
   },
   "outputs": [],
   "source": ["#PSP_triangulation\nfrom __future__ import print_function, division\n\nfrom PSP_triangulation import *\n    \ndef main():\n    #open DTM\n    header, dtm = openDTM()\n    pointListDTM = []\n    for col in range(header.nrCols):\n        for row in range(header.nrRows):\n            if dtm[col, row]!= header.flag:\n                p = getPointFromColRow(header, dtm, col, row)\n                pointListDTM.append(p)\n    header.nrPixels = len(pointListDTM)\n    visual3D.initialize(header) \n    #visual3D.drawDTM(pointListDTM, header)\n    print (\"number of DTM points:\", len(pointListDTM))\n\n    #create TIN\n    quality = 0.66                   # ]0, 1] refinement quality\n    angleThreshold = pi/5.0          # [rad] minimum angle for refinement\n    isInitialPartition = False       # initial regular subdivision choice    \n    pointList, triangleList = triangulate(header, dtm, \n                        quality, angleThreshold, isInitialPartition)\n    \n    visual3D.drawAllSurfaces(triangleList, header)\n    print (\"number of triangles:\", len(triangleList))\n    \n    #write TIN\n    writeTIN(triangleList, pointList, header, dtm, \n             \"vertices.csv\", \"triangles.csv\", \"neighbours.csv\")\n    print(\"End.\")      \nmain()\n"]
  }
 ],
 "metadata": {
  "kernelspec": {
   "display_name": "Python 3",
   "language": "python",
   "name": "python3"
  },
  "language_info": {
   "codemirror_mode": {
    "name": "ipython",
    "version": 3
   },
   "file_extension": ".py",
   "mimetype": "text/x-python",
   "name": "python",
   "nbconvert_exporter": "python",
   "pygments_lexer": "ipython3",
   "version": "3.4.2"
  }
 },
 "nbformat": 4,
 "nbformat_minor": 0
}