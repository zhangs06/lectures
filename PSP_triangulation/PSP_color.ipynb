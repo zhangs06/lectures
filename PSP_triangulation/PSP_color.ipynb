{
 "cells": [
  {
   "cell_type": "code",
   "execution_count": null,
   "metadata": {
    "collapsed": false
   },
   "outputs": [],
   "source": ["#PSP_gis.py\nfrom __future__ import print_function, division\nimport numpy as np\n\ncolorScaleDtm = np.array([[],[]], float)\n\ndef setColorScale(nrLevels, keyColors):\n    for i in range (len(keyColors)):\n        for j in range (3):\n            keyColors[i,j] /= 256.\n            \n    nrIntervals = len(keyColors)-1\n    step = int(max(nrLevels / nrIntervals, 1))\n    myScale = np.zeros((nrLevels, 3), float)\n    \n    for i in range (nrIntervals):\n        dRed = (keyColors[i+1,0] - keyColors[i,0]) / step\n        dGreen = (keyColors[i+1,1] - keyColors[i,1]) / step\n        dBlue = (keyColors[i+1,2] - keyColors[i,2]) / step\n   \n        for j in range (step):\n            index = step * i + j\n            myScale[index, 0] = keyColors[i,0] + (dRed * j)\n            myScale[index, 1] = keyColors[i,1] + (dGreen * j)\n            myScale[index, 2] = keyColors[i,2] + (dBlue * j)\n    \n    lastIndex = index\n    if (lastIndex < (nrLevels-1)):\n        for i in range(lastIndex, nrLevels):\n            myScale[i] = myScale[lastIndex]\n    return (myScale)\n\ndef setColorScaleDtm():\n    global colorScaleDtm\n    keyColors = np.zeros((4,3),float)\n    keyColors[0] = (32, 128, 16)     #green\n    keyColors[1] = (255, 196, 18)    #yellow\n    keyColors[2] = (118, 64, 18)     #brown\n    keyColors[3] = (160, 160, 160)   #grey\n    colorScaleDtm = setColorScale(256, keyColors)\n    \ndef getDTMColor(z, header):\n    zRelative = (z - header.zMin) / header.dz\n    index = int(zRelative * (len(colorScaleDtm)-1))\n    index = min(len(colorScaleDtm)-1, max(index, 0))\n    return(colorScaleDtm[index])\n"]
  }
 ],
 "metadata": {
  "kernelspec": {
   "display_name": "Python 3",
   "language": "python",
   "name": "python3"
  },
  "language_info": {
   "codemirror_mode": {
    "name": "ipython",
    "version": 3
   },
   "file_extension": ".py",
   "mimetype": "text/x-python",
   "name": "python",
   "nbconvert_exporter": "python",
   "pygments_lexer": "ipython3",
   "version": "3.4.2"
  }
 },
 "nbformat": 4,
 "nbformat_minor": 0
}