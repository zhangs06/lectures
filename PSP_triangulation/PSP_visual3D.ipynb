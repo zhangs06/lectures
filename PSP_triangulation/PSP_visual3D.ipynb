{
 "cells": [
  {
   "cell_type": "code",
   "execution_count": null,
   "metadata": {
    "collapsed": false
   },
   "outputs": [],
   "source": ["#PSP_visual3D.py\nfrom __future__ import division\nimport visual\nimport sys\nfrom copy import copy\nfrom PSP_color import *\n\nNODATA = -9999\n\npointList3D = []\npointListDtm3D = []\ntriangleList3D = []\nsurfaceList3D = []\n\nglobal TINScene, DTMScene\n\ndef initialize(header):\n    global TINScene, DTMScene\n    cX = header.xllCorner + header.nrCols * header.cellSize * 0.5\n    cY = header.yllCorner + header.nrRows * header.cellSize * 0.45\n    cZ = header.zMin + header.dz * 0.5\n    DTMScene = visual.display(x = 0, y = 0, width = 600, height = 600)\n    DTMScene.title = \"DTM\"\n    DTMScene.background = visual.color.white\n    DTMScene.ambient = 0.33\n    DTMScene.center = (cX, cY, cZ*header.magnify)\n    DTMScene.forward = (0, 1, -1)\n    \n    TINScene = visual.display(x = 600, y = 0, width = 600, height = 600)\n    TINScene.title = \"TIN\"\n    TINScene.background = visual.color.white\n    TINScene.ambient = 0.33\n    TINScene.center = (cX, cY, cZ*header.magnify)\n    TINScene.up = (0,0,1)\n    TINScene.forward = (0, 1, -1)\n    setColorScaleDtm()\n\ndef drawDTM(pointList, header):\n    for i in range(len(pointList)):\n        p = pointList[i]\n        myColor = getDTMColor(p[2], header)\n        myPos = ([p[0], p[1], p[2] * header.magnify])\n        myPoint = visual.points(display = DTMScene, pos = myPos, \n                                    size = 3.0, color=myColor) \n        pointListDtm3D.append(myPoint)\n    key = DTMScene.kb.getkey()\n\ndef cleanAllPoints():\n    while (len(pointList3D) > 0):\n        pointList3D[0].visible = False\n        myPoint = pointList3D.pop(0)\n        del myPoint\n \ndef delTriangle(i):\n    triangleList3D[i].visible = False \n    myTriangle = triangleList3D.pop(i)\n    del myTriangle\n           \ndef cleanAllTriangles():\n    lastIndex = len(triangleList3D) - 1\n    for i in np.arange(lastIndex, -1, -1):\n        delTriangle(i)\n    \ndef cleanAll():\n    cleanAllPoints()\n    cleanAllTriangles()\n    \ndef drawSurface(myColor, v):\n    mySurface = visual.faces(display = TINScene, color=myColor, pos = v)\n    mySurface.make_twosided()\n    mySurface.make_normals()\n    mySurface.smooth()\n    surfaceList3D.append(mySurface)\n\ndef drawAllPoints(pointList, header):\n    cleanAll()\n    myPosition = []\n    for i in range(len(pointList)):\n        p = pointList[i]\n        myPosition.append([p[0], p[1], p[2] * header.magnify])\n    myPoints = visual.points(display = TINScene, pos = myPosition, size = 3.0, \n                             color=visual.color.black) \n    pointList3D.append(myPoints)\n    #key = TINScene.kb.getkey()\n \ndef addTriangle(index, triangle, header):\n    v = copy(triangle.v)\n    v[:,2] *= header.magnify\n    myTriangle = visual.curve(pos=[v[0],v[1],v[2],v[0]], \n                                  color=visual.color.black)\n    triangleList3D.insert(index, myTriangle)  \n    if sys.version_info < (3, 0): visual.wait()\n         \ndef drawAllTriangles(triangleList, header):\n    cleanAll()\n    for i in range(len(triangleList)):\n        addTriangle(i, triangleList[i], header)\n    #key = TINScene.kb.getkey()\n        \ndef drawAllSurfaces(triangleList, header):\n    cleanAll()\n    nrTriangles = len(triangleList)\n    for i in range(nrTriangles):\n        v = copy(triangleList[i].v)\n        z = sum(v[:,2]) / 3.0\n        myColor = getDTMColor(z, header)\n        v[:,2] *= header.magnify\n        drawSurface(myColor, v)\n    if sys.version_info < (3, 0): visual.wait()\n    \n"]
  }
 ],
 "metadata": {
  "kernelspec": {
   "display_name": "Python 3",
   "language": "python",
   "name": "python3"
  },
  "language_info": {
   "codemirror_mode": {
    "name": "ipython",
    "version": 3
   },
   "file_extension": ".py",
   "mimetype": "text/x-python",
   "name": "python",
   "nbconvert_exporter": "python",
   "pygments_lexer": "ipython3",
   "version": "3.4.2"
  }
 },
 "nbformat": 4,
 "nbformat_minor": 0
}