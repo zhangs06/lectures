{
 "cells": [
  {
   "cell_type": "code",
   "execution_count": null,
   "metadata": {
    "collapsed": false
   },
   "outputs": [],
   "source": ["#PSP_gis.py\nfrom __future__ import print_function, division\nfrom copy import copy\nimport numpy as np\nfrom math import *\nfrom re import split        #regular expression\n\nNODATA = -9999\nNOLINK = -1\n\nimport sys\nif sys.version_info < (3, 0):\n    from tkFileDialog import askopenfilename            #2.7\nelse:\n    from tkinter.filedialog import askopenfilename      #3.x\n    \nclass Cheader():\n    nrRows = 0\n    nrCols = 0\n    nrPixels = 0        \n    xllCorner = NODATA        \n    yllCorner = NODATA\n    cellSize = 0\n    flag = NODATA\n    zMin = NODATA\n    zMax = NODATA\n    dz = NODATA\n    magnify = NODATA\n    \ndef openDTM():\n    options = {}\n    options['defaultextension'] = '.flt'\n    options['filetypes'] = [('ESRI raster files', '.flt')]\n    options['initialdir'] = 'data'\n    options['title'] = 'Open DTM'\n    fileName = askopenfilename(**options)\n    if (fileName != \"\"):\n        header = loadEsriHeader(fileName[:-4] + \".hdr\")\n        dtm = loadEsriBinary(fileName, header)\n        return(header, dtm)\n    \ndef loadEsriHeader(fileName):\n    header = Cheader()\n    file = open(fileName, \"r\")\n    txtLine = file.read()\n    #separators: newline, one or more spaces, tab\n    values = split('\\n| +|\\t', txtLine) \n    i = 0\n    while (i < len(values)):\n        tag = values[i].upper()\n        if (tag == \"NCOLS\"):\n            header.nrCols = int(values[i+1])\n        elif (tag == \"NROWS\"):\n            header.nrRows = int(values[i+1])\n        elif (tag == \"XLLCORNER\"):\n            header.xllCorner = float(values[i+1])\n        elif (tag == \"YLLCORNER\"):\n            header.yllCorner = float(values[i+1])\n        elif (tag == \"CELLSIZE\"):\n            header.cellSize = float(values[i+1]) \n        elif ((tag == \"NODATA\") or (tag == \"NODATA_VALUE\")):\n            header.flag = float(values[i+1])\n        i += 2\n    return(header)\n         \ndef loadEsriBinary(fileName, header):\n    print (\"load DTM data...\")\n    myFile = open(fileName, \"rb\")\n    grid = np.fromfile(myFile, dtype=np.float32).reshape(\n                header.nrCols, header.nrRows, order='F')\n    computeMinMaxGrid(header, grid)\n    return(grid) \n\ndef computeMinMaxGrid(header, grid):\n    isFirstValue = True\n    for col in range(header.nrCols):\n        for row in range(header.nrRows):\n            z = grid[col, row]\n            if (z != header.flag):\n                if (isFirstValue):\n                    header.zMin = z\n                    header.zMax = z\n                    isFirstValue = False\n                else:\n                    header.zMin = min(header.zMin, z)\n                    header.zMax = max(header.zMax, z)\n    header.dz = header.zMax - header.zMin                \n    size = header.cellSize * sqrt(header.nrRows * header.nrCols)\n    ratio = size / header.dz\n    header.magnify = max(1., min(6., ratio/6.))\n    \ndef isOutOfGridColRow(header, col, row):\n    if ((row < 0) or (row >= header.nrRows) \n    or (col < 0) or (col >= header.nrCols)): \n        return(True)\n    else: \n        return(False)\n    \ndef isOutOfGridXY(header, x, y):\n    if ((x < header.xllCorner) or (y < header.yllCorner)\n    or (x >= (header.xllCorner + header.cellSize * header.nrCols))\n    or (y >= (header.yllCorner + header.cellSize * header.nrRows))):\n        return(True)\n    else: \n        return(False)\n    \ndef getColRowFromXY(header, x, y):\n    row = header.nrRows - floor((y - header.yllCorner) / header.cellSize)-1\n    col = floor((x - header.xllCorner) / header.cellSize)\n    return col, row;\n    \n#get value with check on boundary limits\ndef getValueFromColRow(header, grid, col, row):\n    if (isOutOfGridColRow(header, col, row)): \n        return header.flag\n    else: \n        return grid[col, row]\n    \n#get value with check on boundary limits         \ndef getValueFromXY(header, grid, x, y):\n    if (isOutOfGridXY(header, x, y)): \n        return header.flag\n    else:\n        col, row = getColRowFromXY(header, x, y)\n        return grid[col, row]\n    \ndef getPointFromColRow(header, grid, col, row):\n    x = header.xllCorner + (col + 0.5) * header.cellSize\n    y = header.yllCorner + (header.nrRows - row - 0.5) * header.cellSize\n    z = NODATA\n    if not isOutOfGridColRow(header, col, row): \n        if grid[col, row] != header.flag:\n            z = grid[col, row]\n    return np.array([x,y,z])\n\ndef isTrue(header, booleanGrid, col, row):\n    if isOutOfGridColRow(header, col, row): \n        return(False)\n    else: \n        return booleanGrid[col][row]\n  \ndef distance2D(v1, v2):\n    dx = fabs(v1[0] - v2[0])\n    dy = fabs(v1[1] - v2[1])\n    return sqrt(dx*dx + dy*dy) \n\ndef distance3D(v1, v2):\n    dx = fabs(v1[0] - v2[0])\n    dy = fabs(v1[1] - v2[1])\n    dz = fabs(v1[2] - v2[2])\n    return sqrt(dx*dx + dy*dy + dz*dz)\n\t"]
  }
 ],
 "metadata": {
  "kernelspec": {
   "display_name": "Python 3",
   "language": "python",
   "name": "python3"
  },
  "language_info": {
   "codemirror_mode": {
    "name": "ipython",
    "version": 3
   },
   "file_extension": ".py",
   "mimetype": "text/x-python",
   "name": "python",
   "nbconvert_exporter": "python",
   "pygments_lexer": "ipython3",
   "version": "3.4.2"
  }
 },
 "nbformat": 4,
 "nbformat_minor": 0
}