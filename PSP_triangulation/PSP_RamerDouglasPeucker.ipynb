{
 "cells": [
  {
   "cell_type": "code",
   "execution_count": null,
   "metadata": {
    "collapsed": false
   },
   "outputs": [],
   "source": ["#PSP_RamerDouglasPeucker.py\nfrom __future__ import print_function, division\nfrom PSP_gis import *\n\n# return first boundary point, if exist\n# scan grid from [0,0]\ndef getFirstPoint(header, boundary):\n    for col in range(0, header.nrCols):\n        for row in range(0, header.nrRows):\n            if (boundary[col, row] == True):\n                return(True, col, row)\n    return(False, NODATA, NODATA)\n\n# return first boundary point, if exist \n# in the neighbours of [row,col], anti-clockwise order     \ndef getNearestPoint(header, boundary, col, row):\n    if isTrue(header, boundary, col, row+1):\n        return(True, col, row+1)\n    elif isTrue(header, boundary, col+1, row+1):\n        return(True, col+1, row+1)\n    elif isTrue(header, boundary, col+1, row):\n        return(True, col+1, row)\n    elif isTrue(header, boundary, col+1, row-1):\n        return(True, col+1, row-1)\n    elif isTrue(header, boundary, col, row-1):\n        return(True, col, row-1)\n    elif isTrue(header, boundary, col-1, row-1):\n        return(True, col-1, row-1)\n    elif isTrue(header, boundary, col-1, row):\n        return(True, col-1, row)\n    elif isTrue(header, boundary, col-1, row+1):\n        return(True, col-1, row+1)\n    return(False, NODATA, NODATA) \n\ndef triangleAreaErone(v1, v2, v3):\n    a = distance3D(v2, v3)\n    b = distance3D(v1, v3)\n    c = distance3D(v1, v2)\n    #semiperimeter\n    sp = (a + b + c) * 0.5\n    squaredArea = sp*(sp-a)*(sp-b)*(sp-c)\n    if (squaredArea < 0.0):\n        return(0.0)\n    else: \n        return sqrt(squaredArea)\n\ndef perpendicularDistance(p, v0, v1, base):\n    area = triangleAreaErone(p,v0,v1)\n    return (2.0 * area) / base\n\ndef firstBoundaryPoint(header, boundary):\n    for col in range(0, header.nrCols):\n        for row in range(0, header.nrRows):\n            if (boundary[col, row] == True):\n                return(True, col, row)\n    return(False, NODATA, NODATA)\n\ndef isTrue(header, boolGrid, col, row):\n    if isOutOfGridColRow(header, col, row): \n        return(False)\n    else: \n        return boolGrid[col][row]\n\n# reduce boundary points with Ramer-Douglas-Peucker algorithm\ndef RamerDouglasPeucker(pointList, threshold, maxSide):\n    # Find the point with the maximum distance\n    dmax = 0\n    index = 0\n    end = len(pointList)-1\n    base = distance3D(pointList[0], pointList[end])\n    if (base > maxSide):\n        index = int(end / 2.)\n        dmax = base\n    else:\n        for i in range (1, end):\n            d = perpendicularDistance(pointList[i], pointList[0], pointList[end], base) \n            if (d > dmax):\n                index = i\n                dmax = d\n    # if distance > epsilon cut the array \n    if (dmax > threshold):\n        list1 = RamerDouglasPeucker(pointList[0:index+1], threshold, maxSide)\n        list2 = RamerDouglasPeucker(pointList[index:len(pointList)], threshold, maxSide)\n        \n        resultList = []\n        for j in range(len(list1)):   \n            resultList.append(list1[j]) \n        for j in range(1, len(list2)):     \n            resultList.append(list2[j])\n    else:\n        resultList = []\n        resultList.append(pointList[0])\n        resultList.append(pointList[end])\n \n    return resultList \n\ndef getDtmBoundary(header, dtm, threshold, maxSide):\n    pointList = []\n    boundary = np.zeros((header.nrCols, header.nrRows), bool)\n    for col in range(header.nrCols):\n        for row in range(header.nrRows):\n            boundary[col, row] = False\n            if dtm[col, row] != header.flag:\n                if ((row == 0) or (col == 0) \n                or (row == (header.nrRows-1)) or (col == (header.nrCols-1))):\n                    boundary[col, row] = True\n                if row > 0 and dtm[col, row-1] == header.flag:\n                    boundary[col, row] = True\n                elif col > 0 and dtm[col-1, row] == header.flag:\n                    boundary[col, row] = True\n                elif row < (header.nrRows-1) and dtm[col, row+1] == header.flag:\n                    boundary[col, row] = True\n                elif col < (header.nrCols-1) and dtm[col+1, row] == header.flag:\n                    boundary[col, row] = True\n                    \n    print (\"reduce boundary points (Ramer-Douglas-Peucker algorithm)...\")\n        \n    isFirstBoundary, col, row = getFirstPoint(header, boundary)\n    while (isFirstBoundary):                    \n        boundaryList = []\n        isBoundary = True\n        while (isBoundary):\n            myPoint = getPointFromColRow(header, dtm, col, row)\n            boundaryList.append(myPoint)\n            boundary[col, row] = False  \n            isBoundary, col, row = getNearestPoint(header, boundary, col, row)\n       \n        reducedList = RamerDouglasPeucker(boundaryList, threshold, maxSide) \n        \n        for i in range(len(reducedList)): \n            p = reducedList[i]\n            pointList.append(reducedList[i])\n             \n        isFirstBoundary, col, row = getFirstPoint(header, boundary) \n        \n    return(pointList)\n"]
  }
 ],
 "metadata": {
  "kernelspec": {
   "display_name": "Python 3",
   "language": "python",
   "name": "python3"
  },
  "language_info": {
   "codemirror_mode": {
    "name": "ipython",
    "version": 3
   },
   "file_extension": ".py",
   "mimetype": "text/x-python",
   "name": "python",
   "nbconvert_exporter": "python",
   "pygments_lexer": "ipython3",
   "version": "3.4.2"
  }
 },
 "nbformat": 4,
 "nbformat_minor": 0
}