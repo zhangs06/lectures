{
 "cells": [
  {
   "cell_type": "code",
   "execution_count": null,
   "metadata": {
    "collapsed": false
   },
   "outputs": [],
   "source": ["#PSP_TTwaterContent.py\nfrom __future__ import division\nfrom math import sqrt\n\nc = 299792458                       \nairPermittivity = 1.00058986        \n\ndef getLiquidPermittivity(temperature):\n    deltaT = temperature - 25.\n    return(78.54 * (1-4.579E-03 * deltaT))\n    \ndef getBulkPermittivity(probleLenght, travelTime, Vp):\n    return(((c * Vp * travelTime) / (2. * probleLenght))**2)\n\ndef getWaterContentTopp(bulkPermittivity):\n    return(-5.3E-02 + 2.92E-02 * bulkPermittivity - 5.5E-04 * bulkPermittivity**2\n           + 4.3E-06 * bulkPermittivity**3)\n    \ndef getWaterContentMalicki(bulkPermittivity, bulkDensity):\n    bulkDensity /= 1000.\n    return((sqrt(bulkPermittivity) - 0.819 - 0.168*bulkDensity - 0.159*bulkDensity**2)\n            / (7.17 + 1.18*bulkDensity))\n    \ndef getWaterContentMixModel(bulkPermittivity, bulkDensity, \n                            solidPermittivity, liquidPermittivity, alpha):\n    porosity = 1. - bulkDensity/2650.\n    numerator = bulkPermittivity**alpha - ((1. - porosity) * solidPermittivity**alpha \n                                           + porosity * airPermittivity**alpha)\n    denominator =  liquidPermittivity**alpha - airPermittivity**alpha \n    return(numerator/denominator)"]
  }
 ],
 "metadata": {
  "kernelspec": {
   "display_name": "Python 3",
   "language": "python",
   "name": "python3"
  },
  "language_info": {
   "codemirror_mode": {
    "name": "ipython",
    "version": 3
   },
   "file_extension": ".py",
   "mimetype": "text/x-python",
   "name": "python",
   "nbconvert_exporter": "python",
   "pygments_lexer": "ipython3",
   "version": "3.4.2"
  }
 },
 "nbformat": 4,
 "nbformat_minor": 0
}