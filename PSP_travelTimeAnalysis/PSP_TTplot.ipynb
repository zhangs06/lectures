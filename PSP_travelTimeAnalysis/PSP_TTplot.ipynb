{
 "cells": [
  {
   "cell_type": "code",
   "execution_count": null,
   "metadata": {
    "collapsed": false
   },
   "outputs": [],
   "source": ["#PSP_TTplot.py\nfrom __future__ import print_function, division\n\nimport PSP_travelTime as tt\nimport numpy as np\nimport matplotlib.pyplot as plt\n\ndef cleanDisplay():\n    plt.close()\n    plt.figure(figsize=(10,8))\n\t\ndef showDisplay():\n    plt.title(\"\")\n    plt.xlabel(\"Time [ns]\",fontsize=20,labelpad=8)\n    plt.ylabel(\"Reflection coefficient [-]\",fontsize=20,labelpad=8)\n    plt.tick_params(axis='both', which='major', labelsize=20,pad=8)\n    plt.tick_params(axis='both', which='minor', labelsize=20,pad=8)\n    plt.ylim(ymin=-1, ymax=1)\n    plt.show()\n  \ndef drawWaveForm():\n    lastIndex = len(tt.reflecCoeff)-2\n    t = np.zeros(lastIndex, float)\n    for i in range(lastIndex): \n        t[i] = tt.timeVector[i] * 1E09\n    y = tt.reflecCoeff[0:lastIndex]\n    dy = tt.dy[0:lastIndex]   \n    plt.plot(t, y, 'k.')\n    plt.plot(t, dy, 'k--')\n        \ndef drawRegressionLines():\n    nrPoints = len(tt.timeVector)\n    step = int(16. * (nrPoints / 256.0))\n    \n    t = np.zeros(nrPoints, float)\n    curve1 = np.zeros(nrPoints, float)\n    curve2 = np.zeros(nrPoints, float)\n    curve3 = np.zeros(nrPoints, float)\n    curve4 = np.zeros(nrPoints, float)\n    for i in range(nrPoints): \n        t[i] = tt.timeVector[i] * 1E09\n        curve1[i] = tt.flatLine.b\n        curve2[i] = tt.line1.a * tt.timeVector[i] + tt.line1.b\n        curve3[i] = tt.line2.a * tt.timeVector[i] + tt.line2.b\n        curve4[i] = tt.line3.a * tt.timeVector[i] + tt.line3.b\n    \n    index = tt.p0.x / tt.deltaTime     \n    first = max(0, index - step)\n    last = min(nrPoints, index + step)\n    \n    plt.plot(t[first:last], curve1[first:last], 'k')\n    plt.plot(t[first:last], curve2[first:last], 'k')\n    \n    index = tt.p2.x / tt.deltaTime   \n    first = max(0, index - step)\n    last = min(nrPoints, index + step)\n    plt.plot(t[first:last], curve3[first:last], 'k')\n    plt.plot(t[first:last], curve4[first:last], 'k')\n    \n    plt.plot(tt.p0.x* 1E09, tt.p0.y, 'ks')\n    plt.plot(tt.p1.x* 1E09, tt.p1.y, 'ks')\n    plt.plot(tt.p2.x* 1E09, tt.p2.y, 'ks')\t"]
  }
 ],
 "metadata": {
  "kernelspec": {
   "display_name": "Python 3",
   "language": "python",
   "name": "python3"
  },
  "language_info": {
   "codemirror_mode": {
    "name": "ipython",
    "version": 3
   },
   "file_extension": ".py",
   "mimetype": "text/x-python",
   "name": "python",
   "nbconvert_exporter": "python",
   "pygments_lexer": "ipython3",
   "version": "3.4.2"
  }
 },
 "nbformat": 4,
 "nbformat_minor": 0
}