{
 "cells": [
  {
   "cell_type": "code",
   "execution_count": null,
   "metadata": {
    "collapsed": false
   },
   "outputs": [],
   "source": ["#PSP_simpson.py\nfrom __future__ import print_function, division\n\nimport numpy as np\nimport matplotlib.pyplot as plt\nfrom math import *\n\ndef plottrapzd(func,a,b,n):\n\tit = 1; \n\tfor j in range(1,n):\n\t\tit <<= 1;\n\tx = np.zeros(2+2*it);\n\ty = np.zeros(2+2*it);\n\td = (b-a)/float(it);\n\tx[0]=a;\n\ty[0]=func(a);\n\tx[1]=a+0.5*d;\n\ty[1]=func(a);\n\tfor i in range(1,it):\n\t\tx[2*i]=a+(float(i)-0.5)*d;\n\t\ty[2*i]=func(a+float(i)*d);\n\t\tx[2*i+1]=a+(float(i)+0.5)*d;\n\t\ty[2*i+1]=func(a+float(i)*d);\n\tx[2*it]=b-0.5*d;\n\ty[2*it]=func(b);\n\tx[2*it+1]=b;\n\ty[2*it+1]=func(b);\n\tx_p = np.zeros(1+it);\n\ty_p = np.zeros(1+it); \n\tfor i in range(0,1+it):\n\t\tx_p[i] = x[2*i]+0.5*d;\n\t\ty_p[i] = y[2*i];\n\tx_p[0] = x[0];\n\tplt.fill_between(x,y,0,color='0.5')\n\tx2 = np.zeros(1000);\n\ty2 = np.zeros(1000);\n\tfor i in range(0,1000):\n\t\tx2[i]=a+(b-a)/1000.*float(i+1);\n\t\ty2[i]=func(x2[i]);\n\tplt.plot(x2,y2,color='black')\n\tplt.ylim(0,max(y2)+1.);\n\tplt.xlim(a,b);\n\tplt.xlabel('x',fontsize=16,labelpad=4)\n\tplt.ylabel('y',fontsize=16,labelpad=4)\n\tplt.tick_params(axis='both', which='major', labelsize=16,pad=4)\n\tplt.tick_params(axis='both', which='minor', labelsize=16,pad=4)\n\ndef trapzd(func, a, b, n):\n\tif (n == 1): \n\t\ttrapzd.s=0.5*(b-a)*(func(a)+func(b));\n\t\treturn trapzd.s;\n\telse:\n\t\tit = 1; \n\t\tfor j in range(1,n-1):\n\t\t\tit <<= 1;\n\t\ttnm=float(it);\n\t\tdel_=(b-a)/tnm;\n\t\tx=a+0.5*del_;\n\t\tsum_ = 0.0;\n\t\tfor j in range(1,it+1): \n\t\t\tsum_ += func(x);\n\t\t\tx+=del_;\n\t\ttrapzd.s=0.5*(trapzd.s+(b-a)*sum_/tnm);\n\t\treturn trapzd.s;\n\ndef qsimp(func, a, b):\n\tEPS = 1.0e-6;\n\tJMAX = 20;\n\tost=0.0;\n\tos=0.0;\n\tfor j in range(1,JMAX+1):\n\t\tst=trapzd(func,a,b,j);\n\t\ts=(4.0*st-ost)/3.0;\n\t\tif (j > 5):\n\t\t\tif (fabs(s-os) < EPS*fabs(os) or (s == 0.0 and os == 0.0)): \n\t\t\t\tplottrapzd(func,a,b,j);\n\t\t\t\tplt.show() \n\t\t\t\treturn s;\n\t\tos=s;\n\t\tost=st;\n\treturn 10.0;\n\ndef func(x):\n\t#return (x-1.)*(x-1.)+0.6*x*sin(6.*x)+1.4;\n\treturn (1/x);\n\ndef main():\n\tintegral = qsimp(func,1,4);\n\tprint (\"Numerical solution:\")\n\tprint (integral)\nmain()\n"]
  }
 ],
 "metadata": {
  "kernelspec": {
   "display_name": "Python 3",
   "language": "python",
   "name": "python3"
  },
  "language_info": {
   "codemirror_mode": {
    "name": "ipython",
    "version": 3
   },
   "file_extension": ".py",
   "mimetype": "text/x-python",
   "name": "python",
   "nbconvert_exporter": "python",
   "pygments_lexer": "ipython3",
   "version": "3.4.2"
  }
 },
 "nbformat": 4,
 "nbformat_minor": 0
}