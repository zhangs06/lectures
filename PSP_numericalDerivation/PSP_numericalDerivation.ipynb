{
 "cells": [
  {
   "cell_type": "code",
   "execution_count": null,
   "metadata": {
    "collapsed": false
   },
   "outputs": [],
   "source": ["#PSP_numericalDerivation.py\nfrom PSP_readDataFile import readDataFile\nimport matplotlib.pyplot as plt\n\ndef firstDerivative5Points(y):\n    myDerivative = []\n    for i in range(0,2):\n        myDerivative.append(0)\n    for i in range(2, len(y)-2):\n        dY = (1./(12.)) * (y[i-2] - 8.*y[i-1] + 8.*y[i+1] - y[i+2])\n        myDerivative.append(dY)\n    for i in range(len(y)-2, len(y)):\n        myDerivative.append(0)\n    return(myDerivative)\n            \ndef main():\n    myHour = []\n    myTemp = []\n    A, isFileOk = readDataFile(\"airTemp.dat\", 1, '\\t', True)\n    if (isFileOk == False): print (\"Incorrect format in row: \", A)\n    myHour = A[:,0]\n    myTemp = A[:,1]\n    myDerivative = firstDerivative5Points(myTemp)\n    \n    fig = plt.figure(figsize=(10,8))\n    plt.plot(myHour, myTemp, 'ko')        \n    plt.plot(myHour, myDerivative,'k')\n    plt.xlim(xmin=0,xmax=25)\n    plt.ylim(ymin=-5,ymax=40)\n    plt.xlabel('Time [hour]',fontsize=20,labelpad=8)\n    plt.ylabel('Temperature [C]',fontsize=20,labelpad=8)\n    plt.tick_params(axis='both', which='major', labelsize=20,pad=8)\n    plt.show()\n    \nmain()"]
  }
 ],
 "metadata": {
  "kernelspec": {
   "display_name": "Python 3",
   "language": "python",
   "name": "python3"
  },
  "language_info": {
   "codemirror_mode": {
    "name": "ipython",
    "version": 3
   },
   "file_extension": ".py",
   "mimetype": "text/x-python",
   "name": "python",
   "nbconvert_exporter": "python",
   "pygments_lexer": "ipython3",
   "version": "3.4.2"
  }
 },
 "nbformat": 4,
 "nbformat_minor": 0
}